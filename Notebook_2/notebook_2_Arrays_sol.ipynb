{
 "cells": [
  {
   "cell_type": "markdown",
   "metadata": {},
   "source": [
    "## Notebook 2: Arrays\n",
    "\n",
    "Neste notebook, vamos fazer operações matemáticas em arrays utilizando funções do pacote `numpy`. Pode encontrar uma visão geral das funcionalidades do `numpy` [aqui](http://wiki.scipy.org/Tentative_NumPy_Tutorial). Também vamos criar representações gráficas. Vamos então começar por importar a parte da representação gráfica do pacote `matplotlib` e chamar-lhe `plt` e importar o pacote `numpy` e chamar-lhe `np`. Também vamos dizer ao Python para apresentar todos os gráficos *inline*. Vamos adicionar estas três linhas no início de todos os notebooks seguintes, uma vez que vamos utilizar sempre os pacotes `numpy` e `matplotlib`."
   ]
  },
  {
   "cell_type": "code",
   "execution_count": 1,
   "metadata": {
    "collapsed": true
   },
   "outputs": [],
   "source": [
    "import matplotlib.pyplot as plt\n",
    "import numpy as np\n",
    "%matplotlib inline"
   ]
  },
  {
   "cell_type": "markdown",
   "metadata": {},
   "source": [
    "### Arrays de uma dimensão\n",
    "Existem muitas formas de criar arrays. Por exemplo, pode inserir os elementos individuais de um array."
   ]
  },
  {
   "cell_type": "code",
   "execution_count": 2,
   "metadata": {},
   "outputs": [
    {
     "data": {
      "text/plain": [
       "array([ 1,  7,  2, 12])"
      ]
     },
     "execution_count": 2,
     "metadata": {},
     "output_type": "execute_result"
    }
   ],
   "source": [
    "np.array([1, 7, 2, 12])"
   ]
  },
  {
   "cell_type": "markdown",
   "metadata": {},
   "source": [
    "Repare que a função `array` apresenta uma sequência de pontos entre parênteses retos. Outra função para criar um array é `ones(shape)`, que cria um array com o `shape` especificado só com o valor 1.\n",
    "Há uma função semelhante, `zeros(shape)` para criar um array só com zeros (que também pode ser alcançado com `0 * ones(shape)`). Semelhante à função `linspace` mencionada anteriormente, temos a função `arange(start, end, step)`, que cria um array que começa no valor inicial `start`, cria intervalos iguais ao valor definido em `step` e termina antes de chegar ao último valor, `end`. Se não especificar o intervalo, é definido para 1. Se especificar apenas um valor de entrada, obterá uma sequência que começa em 0 e aplica incrementos de 1 em 1 até chegar ao valor especificado (mas, mais uma vez, termina antes de chegar a esse valor)."
   ]
  },
  {
   "cell_type": "code",
   "execution_count": 3,
   "metadata": {},
   "outputs": [
    {
     "name": "stdout",
     "output_type": "stream",
     "text": [
      "[1 2 3 4 5 6]\n",
      "[0 1 2 3 4]\n"
     ]
    }
   ],
   "source": [
    "print(np.arange(1, 7)) # Assume intervalos predefinidos de 1 e não inclui o 7\n",
    "print(np.arange(5)) # Começa no 0 e termina no 4, apresentando 5 números"
   ]
  },
  {
   "cell_type": "markdown",
   "metadata": {},
   "source": [
    "Recordamos que os comentários em Python são precedidos por um `#`.\n",
    "Os arrays têm uma dimensão. Até agora só usámos arrays de 1 dimensão. Isto quer dizer que a dimensão é 1.\n",
    "Para arrays de 1 dimensão, também pode calcular o tamanho (que faz parte do Python e não do pacote `numpy`), que devolve o número de valores no array."
   ]
  },
  {
   "cell_type": "code",
   "execution_count": 4,
   "metadata": {},
   "outputs": [
    {
     "name": "stdout",
     "output_type": "stream",
     "text": [
      "número da dimensão de x: 1\n",
      "tamanho de x: 4\n"
     ]
    }
   ],
   "source": [
    "x = np.array([1, 7, 2, 12])\n",
    "print('número da dimensão de x:', np.ndim(x))\n",
    "print('tamanho de x:', len(x))"
   ]
  },
  {
   "cell_type": "markdown",
   "metadata": {},
   "source": [
    "Os elementos individuais de um array podem ser acedidos com base no respetivo índice. Os índices começam no 0. Poderá demorar algum tempo a habituar-se a este conceito. Isto significa apenas que o primeiro valor no array tem índice 0. O índice de um array é especificado utilizando parênteses retos."
   ]
  },
  {
   "cell_type": "code",
   "execution_count": 5,
   "metadata": {},
   "outputs": [
    {
     "name": "stdout",
     "output_type": "stream",
     "text": [
      "[20 21 22 23 24 25 26 27 28 29]\n",
      "20\n",
      "25\n"
     ]
    }
   ],
   "source": [
    "x = np.arange(20, 30)\n",
    "print(x)\n",
    "print(x[0])\n",
    "print(x[5])"
   ]
  },
  {
   "cell_type": "markdown",
   "metadata": {},
   "source": [
    "É possível especificar um intervalo de índices usando o sinal de dois pontos na sintaxe do array:\n",
    "`x[start:end_before]` ou `x[start:end_before:step]`. Se não especificar o valor de entrada `start`, é utilizado o valor 0. Se não especificar o intervalo `step`, é utilizado o valor 1."
   ]
  },
  {
   "cell_type": "code",
   "execution_count": 6,
   "metadata": {},
   "outputs": [
    {
     "name": "stdout",
     "output_type": "stream",
     "text": [
      "[20 21 22 23 24 25 26 27 28 29]\n",
      "[20 21 22 23 24]\n",
      "[20 21 22 23 24]\n",
      "[23 24 25 26]\n",
      "[22 24 26 28]\n"
     ]
    }
   ],
   "source": [
    "x = np.arange(20, 30)\n",
    "print(x)\n",
    "print(x[0:5])\n",
    "print(x[:5]) # igual ao anterior\n",
    "print(x[3:7])\n",
    "print(x[2:9:2]) # o intervalo é 2"
   ]
  },
  {
   "cell_type": "markdown",
   "metadata": {},
   "source": [
    "Também pode começar a partir do fim e fazer a contagem de trás para a frente. Normalmente, o índice do último valor não é conhecido. Pode descobrir o tamanho do array e aceder ao último valor escrevendo `x[len(x)-1]`, mas seria bastante inconveniente ter de estar sempre a escrever `len(nome_do_array)`. Felizmente, há um atalho: `x[-1]` é o último valor no array. Por exemplo:"
   ]
  },
  {
   "cell_type": "code",
   "execution_count": 7,
   "metadata": {},
   "outputs": [
    {
     "name": "stdout",
     "output_type": "stream",
     "text": [
      "[ 0 10 20 30 40 50 60 70 80 90]\n",
      "90\n",
      "90\n",
      "[90 80 70 60 50 40 30 20 10  0]\n"
     ]
    }
   ],
   "source": [
    "xvalues = np.arange(0, 100, 10)\n",
    "print(xvalues)\n",
    "print(xvalues[len(xvalues) - 1])  # último valor no array\n",
    "print(xvalues[-1])  # sintaxe mais simples\n",
    "print(xvalues[-1::-1])  # começar a partir do fim e contar de trás para a frente em intervalos de –1"
   ]
  },
  {
   "cell_type": "markdown",
   "metadata": {},
   "source": [
    "Pode atribuir um valor a uma sequência de um array ao especificar um intervalo de índices ou pode atribuir um array a uma sequência de outro array, desde que as sequências tenham o mesmo tamanho. No último exemplo abaixo, os primeiros 5 valores de `x` (especificados como `x[0:5]`) são apresentados com os valores `[40,42,44,46,48]`."
   ]
  },
  {
   "cell_type": "code",
   "execution_count": 8,
   "metadata": {},
   "outputs": [
    {
     "name": "stdout",
     "output_type": "stream",
     "text": [
      "[ 20.  20.  20.  20.  20.  20.  20.  20.  20.  20.]\n",
      "[ 40.  40.  40.  40.  40.  20.  20.  20.  20.  20.]\n",
      "[ 40.  42.  44.  46.  48.  20.  20.  20.  20.  20.]\n"
     ]
    }
   ],
   "source": [
    "x = 20 * np.ones(10)\n",
    "print(x)\n",
    "x[0:5] = 40\n",
    "print(x)\n",
    "x[0:5] = np.arange(40, 50, 2)\n",
    "print(x)"
   ]
  },
  {
   "cell_type": "markdown",
   "metadata": {},
   "source": [
    "### <a name=\"back1\"></a> Exercício 1. Arrays e índices\n",
    "Crie um array de zeros de tamanho igual a 20. Altere os primeiros 5 valores para 10. Altere os dez valores seguintes para uma sequência que comece em 12 e termine em 30, com intervalos de 2 em 2 - faça isto com apenas um comando. Defina os últimos 5 valores para 30. Crie uma representação gráfica do valor do array no eixo y\n",
    "e o índice do array no eixo x. Desenhe linhas tracejadas verticais nos pontos $x=4$ e $x=14$ (ou seja, as linhas tracejadas delimitam a secção onde a linha aumenta de 10 para 30). Defina os valores mínimo e máximo do eixo y\n",
    "para 8 e 32 utilizando o comando `ylim`."
   ]
  },
  {
   "cell_type": "markdown",
   "metadata": {},
   "source": [
    "<a href=\"#ex1answer\">Solução do Exercício 1</a>"
   ]
  },
  {
   "cell_type": "markdown",
   "metadata": {},
   "source": [
    "### Arrays, Listas e Tuplos\n",
    "Um array de 1 dimensão é uma sequência de valores a partir da qual pode fazer operações matemáticas. Junto ao array, o Python tem muitos outros tipos de dados que podem armazenar uma sequência de valores. O primeiro tipo chama-se `list` e introduz-se entre parênteses retos. O segundo tipo é um tuplo (tem razão, é um nome estranho) e introduz-se entre parênteses curvos. A diferença é que pode alterar os valores de uma lista depois de os criar e não pode fazer isso com um tuplo. Além disso, para já só precisa de saber que existem e que não pode fazer operações matemáticas com listas nem com tuplos. Quando escreve `2 * alist`, em que `alist` é uma lista, não multiplica todos os valores da `alist` pelo número 2. O que acontece é que cria uma nova lista que contém `alist` duas vezes (portanto, adiciona-as em sequência). O mesmo se aplica aos tuplos. Isto pode ser muito útil, exceto quando pretende multiplicar todos os valores por 2. No exemplo abaixo, o primeiro valor numa lista é modificado. Experimente modificar um dos valores em `btuple` e verá que aparece uma mensagem de erro:"
   ]
  },
  {
   "cell_type": "code",
   "execution_count": 9,
   "metadata": {},
   "outputs": [
    {
     "name": "stdout",
     "output_type": "stream",
     "text": [
      "alist [1, 2, 3]\n",
      "btuple (10, 20, 30)\n",
      "modified alist [7, 2, 3]\n"
     ]
    }
   ],
   "source": [
    "alist = [1, 2, 3]\n",
    "print('alist', alist)\n",
    "btuple = (10, 20, 30)\n",
    "print('btuple', btuple)\n",
    "alist[0] = 7  # Como “alist” é uma lista, pode alterar os valores  \n",
    "print('modified alist', alist)\n",
    "#btuple[0] = 100  # Irá dar erro\n",
    "#print 2*alist"
   ]
  },
  {
   "cell_type": "markdown",
   "metadata": {},
   "source": [
    "As listas e os tuplos são tipos de dados versáteis em Python. Já utilizámos listas sem saber, quando criámos o nosso primeiro array com o comando `array([1,7,2,12])`. O que fizemos foi dar a uma função `array` um argumento de entrada: a lista `[1,7,2,12]` e a função `array` devolveu um array de 1 dimensão com esses valores. As listas e os tuplos podem ser compostos por sequências de qualquer coisa, não apenas números. No exemplo abaixo, `alist` contém 5 *coisas*: o número inteiro 1, o número real (*float* em inglês) 20, a palavra `python`, um array com os valores 1,2,3 e, por fim, a função `len`. A última significa que o índice `alist[4]` é, na realidade, a função `len`. Esta função pode ser executada para determinar o tamanho de um array como apresentado abaixo. Poderá ser um pouco confusa, mas é uma prática interessante."
   ]
  },
  {
   "cell_type": "code",
   "execution_count": 10,
   "metadata": {},
   "outputs": [
    {
     "name": "stdout",
     "output_type": "stream",
     "text": [
      "[1, 20.0, 'python', array([1, 2, 3]), <built-in function len>]\n",
      "1\n",
      "python\n",
      "3\n"
     ]
    }
   ],
   "source": [
    "alist = [1, 20.0, 'python', np.array([1,2,3]), len]\n",
    "print(alist)\n",
    "print(alist[0])\n",
    "print(alist[2])\n",
    "print(alist[4](alist[3]))  # o mesmo que len(np.array([1,2,3]))"
   ]
  },
  {
   "cell_type": "markdown",
   "metadata": {},
   "source": [
    "### Arrays de duas dimensões\n",
    "Os arrays podem ter dimensões aleatórias (desde que sejam adequadas à memória do computador). Vamos utilizar arrays de duas dimensões com muita frequência. Podem ser criados com qualquer uma das funções acima mencionadas, especificando o número de linhas e colunas do array. Tenha em atenção que o número de linhas e colunas tem de ser um tuplo (por isso, têm de estar entre parênteses curvos), uma vez que as funções exigem apenas um argumento de entrada, que pode ser um número ou um tuplo de vários números."
   ]
  },
  {
   "cell_type": "code",
   "execution_count": 11,
   "metadata": {},
   "outputs": [
    {
     "name": "stdout",
     "output_type": "stream",
     "text": [
      "[[ 1.  1.  1.  1.]\n",
      " [ 1.  1.  1.  1.]\n",
      " [ 1.  1.  1.  1.]]\n"
     ]
    }
   ],
   "source": [
    "x = np.ones((3, 4)) # Um array com 3 linhas e 4 colunas\n",
    "print(x)"
   ]
  },
  {
   "cell_type": "markdown",
   "metadata": {},
   "source": [
    "Os arrays também podem ser definidos especificando todos os valores no array. A função `array` recebe uma lista que consiste em listas separadas para cada linha do array. No exemplo abaixo, as linhas do array são introduzidas em linhas de código diferentes. Isto pode facilitar a introdução do array, mas não é necessário. Pode alterar o tamanho de um array para qualquer forma utilizando a função `reshape`, desde que o número total de entradas não seja alterado."
   ]
  },
  {
   "cell_type": "code",
   "execution_count": 12,
   "metadata": {},
   "outputs": [
    {
     "name": "stdout",
     "output_type": "stream",
     "text": [
      "[[4 2 3 2]\n",
      " [2 4 3 1]\n",
      " [0 4 1 3]]\n",
      "[[4 2]\n",
      " [3 2]\n",
      " [2 4]\n",
      " [3 1]\n",
      " [0 4]\n",
      " [1 3]]\n",
      "[[4 2 3 2 2 4 3 1 0 4 1 3]]\n"
     ]
    }
   ],
   "source": [
    "x = np.array([[4, 2, 3, 2],\n",
    "              [2, 4, 3, 1],\n",
    "              [0, 4, 1, 3]])\n",
    "print(x)\n",
    "print(np.reshape(x, (6, 2)))  # 6 linhas, 2 colunas\n",
    "print(np.reshape(x, (1, 12)))  # 1 linha, 12 colunas"
   ]
  },
  {
   "cell_type": "markdown",
   "metadata": {},
   "source": [
    "O índice de um array de duas dimensões é especificado com dois valores: em primeiro lugar, o índice da linha e, depois, o índice da coluna."
   ]
  },
  {
   "cell_type": "code",
   "execution_count": 13,
   "metadata": {},
   "outputs": [
    {
     "name": "stdout",
     "output_type": "stream",
     "text": [
      "[[ 100.    0.    0.    0.    0.    0.    0.    0.]\n",
      " [   0.    0.    0.    0.  200.  200.  200.  200.]\n",
      " [   0.    0.    0.    0.    0.  400.  400.  400.]]\n"
     ]
    }
   ],
   "source": [
    "x = np.zeros((3, 8))\n",
    "x[0,0] = 100\n",
    "x[1,4:] = 200  # A linha com índice 1, colunas a partir do índice 4 até ao final\n",
    "x[2,-1:4:-1] = 400  # A linha com índice 2, as colunas a partir da última até chegar ao índice 4\n",
    "print(x)"
   ]
  },
  {
   "cell_type": "markdown",
   "metadata": {},
   "source": [
    "### Arrays não são matrizes\n",
    "Agora que falamos sobre as linhas e as colunas de um array, qualquer leitor conhecedor de matemática poderá pensar que os arrays são matrizes ou que os arrays de uma dimensão são vetores. É fundamental perceber que os arrays não são vetores nem matrizes. A multiplicação e a divisão de dois arrays é executada termo a termo."
   ]
  },
  {
   "cell_type": "code",
   "execution_count": 14,
   "metadata": {},
   "outputs": [
    {
     "name": "stdout",
     "output_type": "stream",
     "text": [
      "array a: [ 4  8 12 16]\n",
      "array b: [2 2 4 4]\n",
      "a * b  : [ 8 16 48 64]\n",
      "a / b  : [ 2.  4.  3.  4.]\n"
     ]
    }
   ],
   "source": [
    "a = np.arange(4, 20, 4)\n",
    "b = np.array([2, 2, 4, 4])\n",
    "print('array a:', a)\n",
    "print('array b:', b)\n",
    "print('a * b  :', a * b)  # Multiplicação termo a termo\n",
    "print('a / b  :', a / b)  # Divisão termo a termo"
   ]
  },
  {
   "cell_type": "markdown",
   "metadata": {},
   "source": [
    "### <a name=\"back2\"></a> Exercício 2. Índices de um array de duas dimensões\n",
    "Para o array `x` apresentado abaixo, escreva o código para apresentar: \n",
    "\n",
    "* a primeira linha de `x`\n",
    "* a primeira coluna de `x`\n",
    "* a terceira linha de `x`\n",
    "* as duas últimas colunas de `x`\n",
    "* os quatro valores do canto superior direito de `x`\n",
    "* os quatro valores do centro de `x`\n",
    "\n",
    "`x = np.array([[4, 2, 3, 2],\n",
    "              [2, 4, 3, 1],\n",
    "              [2, 4, 1, 3],\n",
    "              [4, 1, 2, 3]])`"
   ]
  },
  {
   "cell_type": "markdown",
   "metadata": {},
   "source": [
    "<a href=\"#ex2answer\">Solução do Exercício 2</a>"
   ]
  },
  {
   "cell_type": "markdown",
   "metadata": {},
   "source": [
    "### Visualizar arrays de duas dimensões\n",
    "Os arrays de 2 dimensões podem ser visualizados com a função `plt.matshow`. No exemplo abaixo, o array é muito pequeno (apenas 4 por 4), mas demonstra o princípio geral. Foi adicionada uma barra de cores para funcionar como legenda. Os marcadores da barra de cores são identificados como 1, 2, 3 e 4. Tenha em atenção que a primeira linha da matriz (com índice 0) está representada na parte superior, o que corresponde à localização da primeira linha na matriz."
   ]
  },
  {
   "cell_type": "code",
   "execution_count": 15,
   "metadata": {},
   "outputs": [
    {
     "name": "stdout",
     "output_type": "stream",
     "text": [
      "[[8 4 6 2]\n",
      " [4 8 6 2]\n",
      " [4 8 2 6]\n",
      " [8 2 4 6]]\n"
     ]
    },
    {
     "data": {
      "image/png": "[encoded data removed]",
      "text/plain": [
       "<matplotlib.figure.Figure at 0x105ff0748>"
      ]
     },
     "metadata": {},
     "output_type": "display_data"
    }
   ],
   "source": [
    "x = np.array([[8, 4, 6, 2],\n",
    "              [4, 8, 6, 2],\n",
    "              [4, 8, 2, 6],\n",
    "              [8, 2, 4, 6]])\n",
    "plt.matshow(x)\n",
    "plt.colorbar(ticks=[2, 4, 6, 8])\n",
    "print(x)"
   ]
  },
  {
   "cell_type": "markdown",
   "metadata": {},
   "source": [
    "As cores usadas são do mapa de cores predefinido (chama-se `viridis`), que cria um mapa com os valores mais altos a amarelo, os valores mais baixos a violeta e os valores intermédios variam entre azul e verde. Pode ver uma explicação sobre as vantagens do `viridis` [aqui](https://youtu.be/xAoljeRJ3lU). Se quiser utilizar outras cores, pode escolher um dos outros mapas de cores com o argumento de palavra-chave `cmap`. Consulte [aqui](http://matplotlib.org/users/colormaps.html) todos os mapas de cores disponíveis. Por exemplo, se definir o mapa de cores para `rainbow`, obtém o seguinte:"
   ]
  },
  {
   "cell_type": "code",
   "execution_count": 16,
   "metadata": {},
   "outputs": [
    {
     "data": {
      "image/png": "[encoded data removed]",
      "text/plain": [
       "<matplotlib.figure.Figure at 0x10b98c668>"
      ]
     },
     "metadata": {},
     "output_type": "display_data"
    }
   ],
   "source": [
    "import matplotlib.cm as cm\n",
    "plt.matshow(x, cmap=cm.rainbow)\n",
    "plt.colorbar(ticks=np.arange(2, 9, 2));"
   ]
  },
  {
   "cell_type": "markdown",
   "metadata": {},
   "source": [
    "### <a name=\"back3\"></a> Exercício 3. Criar e visualizar um array\n",
    "Crie um array de tamanho 10 por 10. O quadrante superior esquerdo do array deverá ter o valor 4, o quadrante superior direito o valor 3, o quadrante inferior direito o valor 2 e o quadrante inferior esquerdo o valor 1. Em primeiro lugar, crie um array de 10 por 10 com o comando `zeros` e, depois, preencha cada quadrante especificando os intervalos do índice corretos. Tenha em atenção que o primeiro índice é o número da linha. O segundo índice é determinado da esquerda para a direita. Visualize o array com o comando `matshow`. O resultado deverá ser um quadrado com quatro cores: vermelho, amarelo, azul-claro e azul-escuro (no sentido dos ponteiros do relógio a partir do quadrante superior esquerdo) se usar o mapa de cores predefinido `jet`."
   ]
  },
  {
   "cell_type": "markdown",
   "metadata": {},
   "source": [
    "<a href=\"#ex3answer\">Solução do Exercício 3</a>"
   ]
  },
  {
   "cell_type": "markdown",
   "metadata": {},
   "source": [
    "### <a name=\"back4\"></a> Exercício 4. Criar e visualizar um array ligeiramente mais complexo\n",
    "Considere a imagem apresentada abaixo, que mostra as letras TU. O objetivo é criar um array que também represente as letras TU. Em primeiro lugar, crie um array de zeros com 11 linhas e 17 colunas. Atribua ao fundo o valor 0, à letra T o valor –1 e à letra U o valor +1. <a name=\"back4\"></a>\n",
    "\n",
    "<img src= \"https://raw.githubusercontent.com/mbakker7/exploratory_computing_with_python/master/notebook2_arrays/tufig.png\" width=\"500px\" />"
   ]
  },
  {
   "cell_type": "markdown",
   "metadata": {},
   "source": [
    "<a href=\"#ex4answer\">Solução do Exercício 4</a>"
   ]
  },
  {
   "cell_type": "markdown",
   "metadata": {},
   "source": [
    "### Utilizar condições em arrays\n",
    "Se tiver uma variável, pode verificar se o respetivo valor é inferior ou superior a outro determinado valor. A isto se chama uma instrução *condicional*. Por exemplo:"
   ]
  },
  {
   "cell_type": "code",
   "execution_count": 17,
   "metadata": {},
   "outputs": [
    {
     "name": "stdout",
     "output_type": "stream",
     "text": [
      "a < 2: False\n",
      "a > 2: True\n"
     ]
    }
   ],
   "source": [
    "a = 4\n",
    "print('a < 2:', a < 2)\n",
    "print('a > 2:', a > 2)"
   ]
  },
  {
   "cell_type": "markdown",
   "metadata": {},
   "source": [
    "A instrução `a < 2` devolve uma variável de tipo booleana, o que significa que pode ser `True` (Verdadeira) ou `False` (Falsa). Além de “inferior a” e “superior a”, existem muitas outras condições que pode usar:"
   ]
  },
  {
   "cell_type": "code",
   "execution_count": 18,
   "metadata": {},
   "outputs": [
    {
     "name": "stdout",
     "output_type": "stream",
     "text": [
      "False\n",
      "True\n",
      "True\n",
      "True\n",
      "False\n",
      "False\n"
     ]
    }
   ],
   "source": [
    "a = 4\n",
    "print(a < 4)\n",
    "print(a <= 4) # a é inferior ou igual a 4\n",
    "print(a == 4) # a é igual a 4. Repare nos dois sinais de igual seguidos\n",
    "print(a >= 4) \n",
    "print(a > 4)\n",
    "print(a != 4) # a não é igual a 4"
   ]
  },
  {
   "cell_type": "markdown",
   "metadata": {},
   "source": [
    "É importante perceber a diferença entre um sinal de igual, como em `a=4`, e dois sinais de igual consecutivos, como em `a==4`. Um sinal de igual significa atribuição. Tudo o que estiver à direita do sinal de igual é atribuído ao que estiver à esquerda do sinal de igual. Dois sinais de igual é uma comparação e o resultado é `True` (quando o que está à esquerda é igual ao que está à direita) ou `False`."
   ]
  },
  {
   "cell_type": "code",
   "execution_count": 19,
   "metadata": {},
   "outputs": [
    {
     "name": "stdout",
     "output_type": "stream",
     "text": [
      "True\n",
      "False\n",
      "<class 'bool'>\n"
     ]
    }
   ],
   "source": [
    "print(4 == 4)\n",
    "a = 4 == 5\n",
    "print(a)\n",
    "print(type(a))"
   ]
  },
  {
   "cell_type": "markdown",
   "metadata": {},
   "source": [
    "Também pode executar instruções de comparação em arrays e obterá um array de booleanos (valores `True` e `False`) para cada valor no array. Por exemplo, vamos criar um array e descobrir quais são os valores do array que são inferiores a 3:"
   ]
  },
  {
   "cell_type": "code",
   "execution_count": 20,
   "metadata": {},
   "outputs": [
    {
     "name": "stdout",
     "output_type": "stream",
     "text": [
      "[0 1 2 3 4]\n",
      "[ True  True  True False False]\n"
     ]
    }
   ],
   "source": [
    "data = np.arange(5)\n",
    "print(data)\n",
    "print(data < 3)"
   ]
  },
  {
   "cell_type": "markdown",
   "metadata": {},
   "source": [
    "A instrução `data<3` devolve um array de tipo `boolean` que tem o mesmo tamanho do array `data` que, para cada elemento do array, pode ser `True` ou `False`. O mais interessante é que este array de valores `True` e `False` pode ser usado para especificar os índices de um array:"
   ]
  },
  {
   "cell_type": "code",
   "execution_count": 21,
   "metadata": {},
   "outputs": [
    {
     "name": "stdout",
     "output_type": "stream",
     "text": [
      "[0 1 2]\n"
     ]
    }
   ],
   "source": [
    "a = np.arange(5)\n",
    "b = np.array([ True, True, True, False, False ])\n",
    "print(a[b])"
   ]
  },
  {
   "cell_type": "markdown",
   "metadata": {},
   "source": [
    "Quando os índices de um array são especificados com um array de booleanos, só são selecionados os valores do array se o booleano for `True`. Esta funcionalidade é muito eficaz. Por exemplo, é possível obter todos os valores de um array inferiores a 3 especificando uma condição como índice."
   ]
  },
  {
   "cell_type": "code",
   "execution_count": 22,
   "metadata": {},
   "outputs": [
    {
     "name": "stdout",
     "output_type": "stream",
     "text": [
      "todos os valores do array: [0 1 2 3 4]\n",
      "valores inferiores a 3: [0 1 2]\n"
     ]
    }
   ],
   "source": [
    "a = np.arange(5)\n",
    "print('todos os valores do array:', a)\n",
    "print('valores inferiores a 3:', a[a < 3])"
   ]
  },
  {
   "cell_type": "markdown",
   "metadata": {},
   "source": [
    "Se quisermos substituir todos os valores inferiores a 3, por exemplo, pelo valor 10, usamos a seguinte sintaxe reduzida:"
   ]
  },
  {
   "cell_type": "code",
   "execution_count": 23,
   "metadata": {},
   "outputs": [
    {
     "name": "stdout",
     "output_type": "stream",
     "text": [
      "[0 1 2 3 4]\n",
      "[10 10 10  3  4]\n"
     ]
    }
   ],
   "source": [
    "a = np.arange(5)\n",
    "print(a)\n",
    "a[a < 3] = 10\n",
    "print(a)"
   ]
  },
  {
   "cell_type": "markdown",
   "metadata": {},
   "source": [
    "### <a name=\"back5\"></a> Exercício 5. Substituir o valor mais elevado e o menos elevado num array\n",
    "Crie um array para a variável $x$ que tenha 100 valores de 0 a 20. Calcule $y=\\sin(x)$ e represente graficamente $y$ vs. $x$ com uma linha azul. Em seguida, substitua todos os valores de $y$ superiores a 0.5 por 0.5 e todos os valores inferiores a $-0.75$ por $-0.75$ para representar $x$ vs. $y$ com uma linha vermelha no mesmo gráfico."
   ]
  },
  {
   "cell_type": "markdown",
   "metadata": {},
   "source": [
    "<a href=\"#ex5answer\">Solução do Exercício 5</a>\n",
    "\n",
    "### <a name=\"back6\"></a> Exercício 6. Alterar a cor do marcador com base no valor dos dados\n",
    "Crie um array para a variável $x$ que tenha 100 pontos de 0 a 20 e calcule $y=\\sin(x)$. Represente um ponto azul para todos os valores de $y$ que sejam superiores a zero e um ponto vermelho para os restantes."
   ]
  },
  {
   "cell_type": "markdown",
   "metadata": {},
   "source": [
    "<a href=\"#ex6answer\">Solução do Exercício 6</a>"
   ]
  },
  {
   "cell_type": "markdown",
   "metadata": {},
   "source": [
    "### Selecionar índices com base em várias condições\n",
    "Também é possível aplicar várias condições. Quando duas condições têm de ser verdadeiras, use o símbolo `&`. Quando pelo menos uma das condições tem de ser verdadeira, use o símbolo '|' (uma barra vertical). Por exemplo, vamos representar graficamente $y=\\sin(x)$ e representar marcadores azuis quando $y>0.7$ ou $y<−0.5$ (usando uma instrução de representação gráfica) e ainda um marcador vermelho quando $-0.5\\le y\\le 0.7$. Quando existem várias condições, cada uma delas tem de estar entre parênteses."
   ]
  },
  {
   "cell_type": "code",
   "execution_count": 24,
   "metadata": {},
   "outputs": [
    {
     "data": {
      "image/png": "[encoded data removed]",
      "text/plain": [
       "<matplotlib.figure.Figure at 0x10e27aeb8>"
      ]
     },
     "metadata": {},
     "output_type": "display_data"
    }
   ],
   "source": [
    "x = np.linspace(0, 6 * np.pi, 50)\n",
    "y = np.sin(x)\n",
    "plt.plot(x[(y > 0.7) | (y < -0.5)], y[(y > 0.7) | (y < -0.5)], 'bo')\n",
    "plt.plot(x[(y > -0.5) & (y < 0.7)], y[(y > -0.5) & (y < 0.7)], 'ro');"
   ]
  },
  {
   "cell_type": "markdown",
   "metadata": {},
   "source": [
    "### <a name=\"back7\"></a> Exercício 7. Múltiplas condições \n",
    "The ficheiro `xypoints.dat` contém 1000 pontos de localização $x,y$ escolhidos aleatoriamente. Tanto $x$ como $y$ variam entre –10 e 10. Carregue os dados com a função `loadtxt` e armazene a primeira linha do array num array chamado `x` e a segunda linha num array chamado `y`. Em primeiro lugar, represente um ponto vermelho para todos os pontos. No mesmo gráfico, represente um ponto azul para todos os pontos $x,y$ em que $x<−2$ e $-5\\le y \\le 0$. Por fim, represente um ponto verde para qualquer ponto que se encontre dentro do círculo com o centro $(x_c,y_c)=(5,0)$ e um raio $R=5$. Dica: pode ser útil calcular um novo array para a distância radial $r$ entre qualquer ponto e o centro do círculo através da fórmula $r=\\sqrt{(x-x_c)^2+(y-y_c)^2}$. Use o comando `plt.axis('equal')` para garantir que as escalas entre os dois eixos são iguais e que a área circular parece um círculo."
   ]
  },
  {
   "cell_type": "markdown",
   "metadata": {},
   "source": [
    "<a href=\"#ex7answer\">Solução do Exercício 7</a>"
   ]
  },
  {
   "cell_type": "markdown",
   "metadata": {},
   "source": [
    "### <a name=\"back8\"></a>Exercício 8. Corrigir o erro\n",
    "No código abaixo, o objetivo é garantir que os últimos 5 valores do array `x` são os valores [50,52,54,56,58] e apresentar o resultado no ecrã, mas existem alguns erros no código. Remova os marcadores de comentário e execute o código para ver a mensagem de erro. Em seguida, corrija o código e execute-o novamente."
   ]
  },
  {
   "cell_type": "code",
   "execution_count": 25,
   "metadata": {
    "collapsed": true
   },
   "outputs": [],
   "source": [
    "#x = np.ones(10)\n",
    "#x[5:] = np.arange(50, 62, 1)\n",
    "#print(x)"
   ]
  },
  {
   "cell_type": "markdown",
   "metadata": {},
   "source": [
    "<a href=\"#ex8answer\">Solução do Exercício 8</a>"
   ]
  },
  {
   "cell_type": "markdown",
   "metadata": {},
   "source": [
    "### Soluções dos Exercícios"
   ]
  },
  {
   "cell_type": "markdown",
   "metadata": {},
   "source": [
    "<a name=\"ex1answer\">Solução do Exercício 1</a>"
   ]
  },
  {
   "cell_type": "code",
   "execution_count": 26,
   "metadata": {},
   "outputs": [
    {
     "data": {
      "image/png": "[encoded data removed]",
      "text/plain": [
       "<matplotlib.figure.Figure at 0x10e2486d8>"
      ]
     },
     "metadata": {},
     "output_type": "display_data"
    }
   ],
   "source": [
    "x = np.zeros(20)\n",
    "x[:5] = 10\n",
    "x[5:15] = np.arange(12, 31, 2)\n",
    "x[15:] = 30\n",
    "plt.plot(x)\n",
    "plt.plot([4, 4], [8, 32],'k--')\n",
    "plt.plot([14, 14], [8, 32],'k--')\n",
    "plt.ylim(8, 32);"
   ]
  },
  {
   "cell_type": "markdown",
   "metadata": {},
   "source": [
    "<a href=\"#back1\">Voltar ao Exercício 1</a>\n",
    "\n",
    "<a name=\"ex2answer\">Solução do Exercício 2</a>"
   ]
  },
  {
   "cell_type": "code",
   "execution_count": 27,
   "metadata": {},
   "outputs": [
    {
     "name": "stdout",
     "output_type": "stream",
     "text": [
      "a primeira linha de x\n",
      "[4 2 3 2]\n",
      "a primeiroa coluna de x\n",
      "[4 2 2 4]\n",
      "a terceira linha de x\n",
      "[2 4 1 3]\n",
      "as duas últimas colunas de x\n",
      "[[3 2]\n",
      " [3 1]\n",
      " [1 3]\n",
      " [2 3]]\n",
      "os quatro valores do canto superior direito de x\n",
      "[[3 2]\n",
      " [3 1]]\n",
      "os quatro valores do centro de x\n",
      "[[4 3]\n",
      " [4 1]]\n"
     ]
    }
   ],
   "source": [
    "x = np.array([[4, 2, 3, 2],\n",
    "              [2, 4, 3, 1],\n",
    "              [2, 4, 1, 3],\n",
    "              [4, 1, 2, 3]])\n",
    "print('a primeira linha de x')\n",
    "print(x[0])\n",
    "print('a primeiroa coluna de x')\n",
    "print(x[:, 0])\n",
    "print('a terceira linha de x')\n",
    "print(x[2])\n",
    "print('as duas últimas colunas de x')\n",
    "print(x[:, -2:])\n",
    "print('os quatro valores do canto superior direito de x')\n",
    "print(x[:2, 2:])\n",
    "print('os quatro valores do centro de x')\n",
    "print(x[1:3, 1:3])"
   ]
  },
  {
   "cell_type": "markdown",
   "metadata": {},
   "source": [
    "<a href=\"#back2\">Voltar ao Exercício 2</a>\n",
    "\n",
    "<a name=\"ex3answer\">Solução do Exercício 3</a>"
   ]
  },
  {
   "cell_type": "code",
   "execution_count": 28,
   "metadata": {},
   "outputs": [
    {
     "name": "stdout",
     "output_type": "stream",
     "text": [
      "[[ 4.  4.  4.  4.  4.  3.  3.  3.  3.  3.]\n",
      " [ 4.  4.  4.  4.  4.  3.  3.  3.  3.  3.]\n",
      " [ 4.  4.  4.  4.  4.  3.  3.  3.  3.  3.]\n",
      " [ 4.  4.  4.  4.  4.  3.  3.  3.  3.  3.]\n",
      " [ 4.  4.  4.  4.  4.  3.  3.  3.  3.  3.]\n",
      " [ 1.  1.  1.  1.  1.  2.  2.  2.  2.  2.]\n",
      " [ 1.  1.  1.  1.  1.  2.  2.  2.  2.  2.]\n",
      " [ 1.  1.  1.  1.  1.  2.  2.  2.  2.  2.]\n",
      " [ 1.  1.  1.  1.  1.  2.  2.  2.  2.  2.]\n",
      " [ 1.  1.  1.  1.  1.  2.  2.  2.  2.  2.]]\n"
     ]
    },
    {
     "data": {
      "image/png": "[encoded data removed]",
      "text/plain": [
       "<matplotlib.figure.Figure at 0x10e286240>"
      ]
     },
     "metadata": {},
     "output_type": "display_data"
    }
   ],
   "source": [
    "x = np.zeros((10, 10))\n",
    "x[:5, :5] = 4\n",
    "x[:5, 5:] = 3\n",
    "x[5:, 5:] = 2\n",
    "x[5:, :5] = 1\n",
    "print(x)\n",
    "plt.matshow(x)\n",
    "plt.colorbar(ticks=[1, 2, 3, 4]);"
   ]
  },
  {
   "cell_type": "markdown",
   "metadata": {},
   "source": [
    "<a href=\"#back3\">Voltar ao Exercício 3</a>\n",
    "\n",
    "<a name=\"ex4answer\">Solução do Exercício 4</a>"
   ]
  },
  {
   "cell_type": "code",
   "execution_count": 29,
   "metadata": {},
   "outputs": [
    {
     "name": "stdout",
     "output_type": "stream",
     "text": [
      "[[ 0.  0.  0.  0.  0.  0.  0.  0.  0.  0.  0.  0.  0.  0.  0.  0.  0.]\n",
      " [ 0.  0.  0.  0.  0.  0.  0.  0.  0.  0.  0.  0.  0.  0.  0.  0.  0.]\n",
      " [ 0. -1. -1. -1. -1. -1. -1.  0.  1.  1.  0.  0.  0.  1.  1.  0.  0.]\n",
      " [ 0. -1. -1. -1. -1. -1. -1.  0.  1.  1.  0.  0.  0.  1.  1.  0.  0.]\n",
      " [ 0.  0.  0. -1. -1.  0.  0.  0.  1.  1.  0.  0.  0.  1.  1.  0.  0.]\n",
      " [ 0.  0.  0. -1. -1.  0.  0.  0.  1.  1.  0.  0.  0.  1.  1.  0.  0.]\n",
      " [ 0.  0.  0. -1. -1.  0.  0.  0.  1.  1.  0.  0.  0.  1.  1.  0.  0.]\n",
      " [ 0.  0.  0. -1. -1.  0.  0.  0.  1.  1.  1.  1.  1.  1.  1.  0.  0.]\n",
      " [ 0.  0.  0. -1. -1.  0.  0.  0.  1.  1.  1.  1.  1.  1.  1.  0.  0.]\n",
      " [ 0.  0.  0.  0.  0.  0.  0.  0.  0.  0.  0.  0.  0.  0.  0.  0.  0.]\n",
      " [ 0.  0.  0.  0.  0.  0.  0.  0.  0.  0.  0.  0.  0.  0.  0.  0.  0.]]\n"
     ]
    },
    {
     "data": {
      "image/png": "[encoded data removed]",
      "text/plain": [
       "<matplotlib.figure.Figure at 0x10e418ef0>"
      ]
     },
     "metadata": {},
     "output_type": "display_data"
    }
   ],
   "source": [
    "x = np.zeros((11, 17))\n",
    "x[2:4, 1:7] = -1\n",
    "x[2:9, 3:5] = -1\n",
    "x[2:9, 8:10] = 1\n",
    "x[2:9, 13:15] = 1\n",
    "x[7:9, 10:13] = 1\n",
    "print(x)\n",
    "plt.matshow(x)\n",
    "plt.yticks(range(11, -1, -1))\n",
    "plt.xticks(range(0, 17));\n",
    "plt.ylim(10.5, -0.5)\n",
    "plt.xlim(-0.5, 16.5);"
   ]
  },
  {
   "cell_type": "markdown",
   "metadata": {},
   "source": [
    "<a href=\"#back4\">Voltar ao Exercício 4</a>\n",
    "\n",
    "<a name=\"ex5answer\">Solução do Exercício 5</a>"
   ]
  },
  {
   "cell_type": "code",
   "execution_count": 30,
   "metadata": {},
   "outputs": [
    {
     "data": {
      "image/png": "[encoded data removed]",
      "text/plain": [
       "<matplotlib.figure.Figure at 0x10b98cba8>"
      ]
     },
     "metadata": {},
     "output_type": "display_data"
    }
   ],
   "source": [
    "x = np.linspace(0, 20, 100)\n",
    "y = np.sin(x)\n",
    "plt.plot(x, y, 'b')\n",
    "y[y > 0.5] = 0.5\n",
    "y[y < -0.75] = -0.75\n",
    "plt.plot(x, y, 'r');"
   ]
  },
  {
   "cell_type": "markdown",
   "metadata": {},
   "source": [
    "<a href=\"#back5\">Voltar ao Exercício 5</a>\n",
    "\n",
    "<a name=\"ex6answer\">Solução do Exercício 6</a>"
   ]
  },
  {
   "cell_type": "code",
   "execution_count": 31,
   "metadata": {},
   "outputs": [
    {
     "data": {
      "image/png": "[encoded data removed]",
      "text/plain": [
       "<matplotlib.figure.Figure at 0x10e67d828>"
      ]
     },
     "metadata": {},
     "output_type": "display_data"
    }
   ],
   "source": [
    "x = np.linspace(0, 6 * np.pi, 50)\n",
    "y = np.sin(x)\n",
    "plt.plot(x[y > 0], y[y > 0], 'bo')\n",
    "plt.plot(x[y <= 0], y[y <= 0], 'ro');"
   ]
  },
  {
   "cell_type": "markdown",
   "metadata": {},
   "source": [
    "<a href=\"#back6\">Voltar ao Exercício 6</a>\n",
    "\n",
    "<a name=\"ex7answer\">Solução do Exercício 7</a>"
   ]
  },
  {
   "cell_type": "code",
   "execution_count": 32,
   "metadata": {},
   "outputs": [
    {
     "data": {
      "image/png": "[encoded data removed]",
      "text/plain": [
       "<matplotlib.figure.Figure at 0x10476ac18>"
      ]
     },
     "metadata": {},
     "output_type": "display_data"
    }
   ],
   "source": [
    "x, y = np.loadtxt('xypoints.dat')\n",
    "plt.plot(x, y, 'ro')\n",
    "plt.plot(x[(x < -2) & (y >= -5) & (y < 0)], y[(x < -2) & (y >= -5) & (y < 0)], 'bo')\n",
    "r = np.sqrt((x - 5) ** 2 + y ** 2)\n",
    "plt.plot(x[r < 5], y[r < 5], 'go')\n",
    "plt.axis('scaled');"
   ]
  },
  {
   "cell_type": "markdown",
   "metadata": {},
   "source": [
    "<a href=\"#back7\">Voltar ao Exercício 7</a>\n",
    "\n",
    "<a name=\"ex8answer\">Solução do Exercício 8</a>"
   ]
  },
  {
   "cell_type": "code",
   "execution_count": 33,
   "metadata": {},
   "outputs": [
    {
     "name": "stdout",
     "output_type": "stream",
     "text": [
      "[  1.   1.   1.   1.   1.  50.  52.  54.  56.  58.]\n"
     ]
    }
   ],
   "source": [
    "x = np.ones(10)\n",
    "x[5:] = np.arange(50, 60, 2)\n",
    "print(x)"
   ]
  },
  {
   "cell_type": "markdown",
   "metadata": {},
   "source": [
    "<a href=\"#back8\">Voltar ao Exercício 8</a>"
   ]
  },
  {
   "cell_type": "markdown",
   "metadata": {},
   "source": [
    "A obra \"Notebook 2: Arrays\" é um derivado de [Notebook 2: Arrays](http://nbviewer.jupyter.org/github/mbakker7/exploratory_computing_with_python/blob/master/notebook2_arrays/py_exploratory_comp_2_sol.ipynb) de [mbakker7](https://github.com/mbakker7), sob a licença CC BY (4.0 Licença Internacional).\n",
    "\"Notebook 2: Arrays\" é publicado sob a licença CC BY (4.0 Licença Internacional) por Educa2030."
   ]
  }
 ],
 "metadata": {
  "kernelspec": {
   "display_name": "Python 3",
   "language": "python",
   "name": "python3"
  },
  "language_info": {
   "codemirror_mode": {
    "name": "ipython",
    "version": 3
   },
   "file_extension": ".py",
   "mimetype": "text/x-python",
   "name": "python",
   "nbconvert_exporter": "python",
   "pygments_lexer": "ipython3",
   "version": "3.6.3"
  }
 },
 "nbformat": 4,
 "nbformat_minor": 1
}
