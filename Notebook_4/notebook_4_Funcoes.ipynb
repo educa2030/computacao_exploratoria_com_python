{
 "cells": [
  {
   "cell_type": "markdown",
   "metadata": {},
   "source": [
    "## Notebook 4: Funções\n",
    "Neste Notebook, vamos aprender a escrever as nossas próprias funções, mas vamos começar com alguma informação acerca dos pacotes Python."
   ]
  },
  {
   "cell_type": "markdown",
   "metadata": {},
   "source": [
    "### Saber mais sobre os pacotes\n",
    "Um pacote é um conjunto de funções Python. Quando queremos utilizar uma função de um pacote, temos de importá-lo. Existem muitas formas de importar pacotes. A sintaxe mais básica é:\n",
    "\n",
    "`import numpy`\n",
    "\n",
    "após a qual, qualquer função no pacote `numpy` pode ser executada através de `numpy.function()`. Se não gostar do nome do pacote, por exemplo por ser um nome comprido, pode mudá-lo. Foi o que fizemos ao renomear `numpy` para `np`, o que é algo bastante padronizado em computação exploratória. Vejamos a sintaxe:\n",
    "\n",
    "`import numpy as np`\n",
    "\n",
    "Agora, todas as funções no pacote `numpy` passam a poder ser executadas através de `np.function()`. \n",
    "\n",
    "Os pacotes também podem ter subpacotes. Por exemplo, o pacote `numpy` tem um subpacote chamado `random`, composto por várias funções para lidar com variáveis aleatórias. Se o pacote `numpy` for importado com `import numpy as np`, as funções no subpacote `random` podem ser executadas através de `np.random.function()`. \n",
    "\n",
    "Se só precisar de uma função específica, não tem de importar o pacote completo. Por exemplo, se só quiser a função cosseno do pacote numpy, poderá importar como `from numpy import cos`, podendo depois simplesmente executar a função cosseno através de `cos()`. Pode até renomear funções quando as importar. Por exemplo, `from numpy import cos as newname`, podendo depois executar a função através de `newname()` para calcular o cosseno (parece simplista, mas pode ser muito útil).\n",
    "\n",
    "Nos Notebooks anteriores, importámos sempre o pacote `numpy` e chamámos-lhe `np` e importámos a parte de representação gráfica `matplotlib` e chamámos-lhe `plt`. Ambos são nomes padrão na comunidade Python. A terceira instrução que adicionámos foi `%matplotlib inline`. Este comando é um comando IPython e não um comando Python. Apenas funcionará em IPython e é chamado comando mágico. Todos os comandos mágicos são precedidos de `%`. A instrução `%matplotlib inline` coloca todas as figuras no Notebook em vez de as abrir numa janela em separado.\n",
    "\n",
    "Mas chega de pacotes por agora. Vamos começar como sempre começamos."
   ]
  },
  {
   "cell_type": "code",
   "execution_count": null,
   "metadata": {
    "collapsed": true
   },
   "outputs": [],
   "source": [
    "import matplotlib.pyplot as plt\n",
    "import numpy as np\n",
    "%matplotlib inline"
   ]
  },
  {
   "cell_type": "markdown",
   "metadata": {},
   "source": [
    "### Funções\n",
    "\n",
    "As funções são uma parte essencial da linguagem de programação.\n",
    "Já utilizou muitas funções, como `plot`, `loadtxt`, ou `linspace`.\n",
    "Mas também pode definir as suas próprias funções.\n",
    "Para definir uma nova função, use o comando  `def`. Após `def` segue-se o nome da função; depois, entre parênteses, os argumentos da função e, por último, dois pontos. Após os dois pontos, irá indentar até terminar a função. A última linha da função deve ser `return` seguida pelo que pretende ver devolvido. Por exemplo, considere a seguinte função de $x$:\n",
    "\n",
    "$f(x)= \\cos(x) \\qquad x <0$\n",
    "\n",
    "$f(x) = \\exp(-x) \\qquad x \\ge 0$\n",
    "\n",
    "Vamos implementar $f(x)$ numa função chamada `func`. Existe um argumento de entrada: $x$."
   ]
  },
  {
   "cell_type": "code",
   "execution_count": null,
   "metadata": {
    "collapsed": true
   },
   "outputs": [],
   "source": [
    "def func(x):\n",
    "    if x < 0:\n",
    "        f = np.cos(x)\n",
    "    else:\n",
    "        f = np.exp(-x)\n",
    "    return f\n",
    "print(func(3))"
   ]
  },
  {
   "cell_type": "markdown",
   "metadata": {},
   "source": [
    "Assim que definir uma função em Python, pode executá-la sempre que quiser durante a sessão. Assim, podemos invocá-la de novo."
   ]
  },
  {
   "cell_type": "code",
   "execution_count": null,
   "metadata": {
    "collapsed": true
   },
   "outputs": [],
   "source": [
    "print(func(-2))"
   ]
  },
  {
   "cell_type": "markdown",
   "metadata": {},
   "source": [
    "Se digitar:\n",
    "\n",
    "`func(` e premir [shift-tab]\n",
    "\n",
    "e aguardar uma fração de segundo, os argumentos de entrada da função surgem numa pequena janela, tal como para outras funções que já utilizámos. Também pode fornecer documentação adicional da sua função. Coloque a documentação no início do bloco indentado e entre aspas triplas. Execute o código abaixo para definir a função `func` com a documentação adicional e, em seguida, na célula de código abaixo, digite:\n",
    "\n",
    "`func(` \n",
    "\n",
    "e prima [shift][tab] para ver a documentação adicional. Atenção: não deixe uma célula de código com apenas `func(` ou `func()` pois obterá um erro se tentar clicar em [Kernel][Restart & Run All]."
   ]
  },
  {
   "cell_type": "code",
   "execution_count": null,
   "metadata": {
    "collapsed": true
   },
   "outputs": [],
   "source": [
    "def func(x):\n",
    "    '''Primeira função Python\n",
    "    escrita pelo estudante X'''\n",
    "    if x < 0:\n",
    "        f = np.cos(x)\n",
    "    else:\n",
    "        f = np.exp(-x)\n",
    "    return f"
   ]
  },
  {
   "cell_type": "markdown",
   "metadata": {},
   "source": [
    "Os nomes dos argumentos de uma função são os nomes utilizados dentro da função. Não têm qualquer relação com os nomes utilizados fora da função. Ao utilizar uma variável como argumento de uma função, apenas o *valor* é passado à função. No exemplo abaixo, o *valor* de `y` é passado como o primeiro argumento da função `func`. Dentro da função, este valor é utilizado para a variável `x`."
   ]
  },
  {
   "cell_type": "code",
   "execution_count": null,
   "metadata": {
    "collapsed": true
   },
   "outputs": [],
   "source": [
    "y = 2\n",
    "print('func(2):', func(y))"
   ]
  },
  {
   "cell_type": "markdown",
   "metadata": {},
   "source": [
    "### <a name=\"back1\"></a>Exercício 1. A primeira função\n",
    "Escreva uma função Python para a seguinte função:\n",
    "\n",
    "$f(x)=e^{-\\alpha x}\\cos(x)$\n",
    "\n",
    "A função deve assumir `x` e `alpha` como argumentos de entrada e devolver o valor da função. Dê um nome exclusivo à sua função (se também lhe chamar `func` irá substituir a função `func` que definimos acima). Crie uma representação gráfica de `f` vs. `x` para valores de `x` entre 0 e $10\\pi$ utilizando dois valores diferentes de `alpha`: 0.1 e 0.2. Adicione uma legenda e identifique os eixos."
   ]
  },
  {
   "cell_type": "code",
   "execution_count": null,
   "metadata": {
    "collapsed": true
   },
   "outputs": [],
   "source": []
  },
  {
   "cell_type": "markdown",
   "metadata": {},
   "source": [
    "<a href=\"#ex1answer\">Solução do Exercício 1</a>"
   ]
  },
  {
   "cell_type": "markdown",
   "metadata": {},
   "source": [
    "### Argumentos de palavra-chave\n",
    "As funções podem ter vários argumentos de entrada seguidos de argumentos de palavra-chave. Os argumentos *têm* de ser introduzidos na ordem definida. Os argumentos de palavra-chave não necessitam de ser introduzidos. Quando não são introduzidos, é utilizado o valor predefinido. Os argumentos de palavra-chave podem ser fornecidos em qualquer ordem, desde que não surjam após os argumentos regulares. Se especificar argumentos de palavra-chave na ordem em que estão definidos na lista de argumentos, não tem de os preceder de uma palavra-chave, mas é mais seguro escrever as palavras-chave, o que torna o código mais fácil de ler. Por exemplo, a função $f(x)=A\\cos(\\pi x+\\theta)$ pode ser escrita com os argumentos de palavra-chave $A$ e $\\theta$ conforme se segue."
   ]
  },
  {
   "cell_type": "code",
   "execution_count": null,
   "metadata": {
    "collapsed": true,
    "scrolled": true
   },
   "outputs": [],
   "source": [
    "def testfunc(x, A=1, theta=0):\n",
    "    return A * np.cos(np.pi * x + theta)\n",
    "print(testfunc(1))  # Utiliza a predefinição A=1, theta=0: cos(pi)\n",
    "print(testfunc(1, A=2))  # Agora A=2, e theta permanece 0: 2*cos(pi)\n",
    "print(testfunc(1, A=2, theta=np.pi / 4))  # Agora A=2, theta=pi/4: 2*cos(5pi/4) \n",
    "print(testfunc(1, theta=np.pi / 4, A=2))  # Tal como acima: 2*cos(5pi/4)\n",
    "print(testfunc(1, theta=np.pi / 4))  # Agora theta=pi/4, e A permanece 1: cos(5pi/4)"
   ]
  },
  {
   "cell_type": "markdown",
   "metadata": {},
   "source": [
    "### Variávies locais\n",
    "As variáveis declaradas no interior de uma função só podem ser utilizadas dentro dessa função. O exterior de uma função não tem informações sobre as variáveis utilizadas dentro da função, exceto para variáveis devolvidas pela função. No código abaixo, remova `#` antes de `print a` e obterá uma mensagem de erro, pois `a` é uma variável local apenas dentro da função `localtest` (em seguida, volte a colocar `#`, caso contrário, obterá uma mensagem de erro ao clicar em [Kernel][Restart & Run All])."
   ]
  },
  {
   "cell_type": "code",
   "execution_count": null,
   "metadata": {
    "collapsed": true
   },
   "outputs": [],
   "source": [
    "def localtest(x):\n",
    "    a = 3\n",
    "    b = 5\n",
    "    return a * x + b\n",
    "print(localtest(4))\n",
    "#print(a)  # Provocará um erro, pois 'a' não é reconhecida fora da função"
   ]
  },
  {
   "cell_type": "markdown",
   "metadata": {},
   "source": [
    "### Três tipos de variáveis dentro de uma função\n",
    "Existem três tipos de variáveis dentro de uma função. Já conhecemos duas delas: as variáveis passadas à função através da lista de argumentos, à semelhança do `x` na função acima, e as variáveis locais, à semelhança de `a` e `b` na função acima. O terceiro tipo são as variáveis definidas fora da função, mas que não são passadas à função através da lista de argumentos. Quando uma variável é utilizada dentro de uma função Python, o Python começa por verificar se a variável foi definida localmente. Se não tiver sido, verifica se a variável é passada à função através da lista de argumentos. Se este não for o caso, o Python verifica se a variável está definida fora da função, a partir do local em que a função foi executada. Se este também não for o caso, surgirá uma mensagem de erro. É considerada boa prática de programação passar variáveis a uma função quando são necessárias no interior de uma função, em vez de contar com o Python para *encontrar* a variável fora da função; provavelmente conduzirá também a menos erros de programação.\n",
    "\n",
    "Note que, quando uma variável é definida localmente, o Python não verifica se a variável também é declarada fora da função. Irá criar uma nova variável com o mesmo nome no interior da função. É importante ter em consideração a diferença entre estes tipos diferentes, por isso vamos ver alguns exemplos."
   ]
  },
  {
   "cell_type": "code",
   "execution_count": null,
   "metadata": {
    "collapsed": true
   },
   "outputs": [],
   "source": [
    "# Esta função funciona devidamente\n",
    "def test1(x):\n",
    "    a = 3\n",
    "    b = 5\n",
    "    return a * x + b\n",
    "print(test1(4))\n",
    "\n",
    "# Esta função também funciona, mas o código é desleixado\n",
    "# uma vez que a variável a está definida fora da função\n",
    "a = 3\n",
    "def test2(x):\n",
    "    b = 5\n",
    "    return a * x + b\n",
    "print(test2(4))  "
   ]
  },
  {
   "cell_type": "markdown",
   "metadata": {},
   "source": [
    "Na função seguinte, definimos a variável `var1` fora da função `test3`. A função `test3` não assume argumentos de entrada (mas precisa de parênteses, caso contrário o Python não sabe que é uma função!) e cria uma variável local `var1`. Esta variável local `var1` é apenas conhecida no interior da função `test3` e não tem efeito sobre o valor de `var1` fora da função `test3`."
   ]
  },
  {
   "cell_type": "code",
   "execution_count": null,
   "metadata": {
    "collapsed": true
   },
   "outputs": [],
   "source": [
    "var1 = 8\n",
    "def test3():\n",
    "    var1 = 4\n",
    "    print('Bom dia, var1 é igual a', var1)\n",
    "test3()\n",
    "print('O valor de var1 fora de test3:', var1)"
   ]
  },
  {
   "cell_type": "markdown",
   "metadata": {},
   "source": [
    "### As funções são blocos de construção que precisam de ser testados em separado\n",
    "As funções são os blocos de construção de um código informático. Representam uma funcionalidade bem definida, o que significa que podem *e devem* ser testadas em separado. Habitue-se a testar para garantir que a função faz o que pretende. Por vezes, é fácil testar uma função: pode comparar o valor a um cálculo manual, por exemplo. Outras vezes, é mais difícil e tem de escrever código adicional para testar a função. Vale sempre a pena fazê-lo. Testar as funções devidamente ajudará a depurar o código, pois saberá que o erro não estará no interior da função."
   ]
  },
  {
   "cell_type": "markdown",
   "metadata": {},
   "source": [
    "### <a name=\"back2\"></a>Exercício 2. Função de corrente para o fluxo em torno de um cilindro\n",
    "Considere um fluxo bidimensional de fluido invíscido (fluxo potencial) em torno de um cilindro.\n",
    "A origem do sistema de coordenadas encontra-se no centro do cilindro.\n",
    "A função de corrente é uma função constante ao longo das linhas de corrente.\n",
    "A função de corrente $\\psi$ é uma função das coordenadas polares $r$ e $\\theta$. A função de corrente é constante e igual a zero no cilindro e não existe realmente no interior do cilindro. Por isso, vamos torná-la zero aí, como é no cilindro.\n",
    "\n",
    "$\\begin{split}\n",
    "\\psi &= 0 \\qquad r\\le R \\\\\n",
    "\\psi &= U(r-R^2/r)\\sin(\\theta) \\qquad r\\ge R\n",
    "\\end{split}$\n",
    "\n",
    "onde $U$ é o fluxo na direção do eixo $x$, $r$ é a distância radial do centro do cilindro, $\\theta$ é o ângulo e $R$ é o raio do cilindro. Deverá recordar-se de que nem sempre é fácil calcular o ângulo correto com um valor de $x$ e $y$, pois a função arctan regular devolve um valor entre $-\\pi/2$ e $+\\pi/2$ (radianos), enquanto se $x=−2$ e $y=2$, o ângulo deve ser $3\\pi/4$.\n",
    "O pacote `numpy` tem uma função fantástica para calcular o ângulo correto entre $-\\pi$ e $+\\pi$, dadas as coordenadas.\n",
    "A função é `arctan2(y,x)`. Tenha em atenção que a função assume o `y` como *primeiro* argumento e o `x` como *segundo* argumento.\n",
    "\n",
    "Escreva uma função que calcule a função de corrente para o fluxo em torno do cilindro. A função deve assumir dois argumentos, `x` e `y`, e dois argumentos de palavra-chave, `U` e `R`, devendo devolver o valor da função de corrente. Se escrever a função corretamente, deve dar `psi(2, 4, U=2, R=1.5) = 7.1`, e `psi(0.5, 0, U=2, R=1.5) = 0` (dentro do cilindro)."
   ]
  },
  {
   "cell_type": "code",
   "execution_count": null,
   "metadata": {
    "collapsed": true
   },
   "outputs": [],
   "source": []
  },
  {
   "cell_type": "markdown",
   "metadata": {},
   "source": [
    "<a href=\"#ex2answer\">Solução do Exercício 2</a>"
   ]
  },
  {
   "cell_type": "markdown",
   "metadata": {},
   "source": [
    "### Vetorização de uma função\n",
    "Nem todas as funções podem ser executadas com um array de valores como argumento de entrada. Por exemplo, a função `func` definida no início deste notebook não funciona com um array de valores de `x`. Remova o `#` e experimente. Depois, volte a colocar o `#`."
   ]
  },
  {
   "cell_type": "code",
   "execution_count": null,
   "metadata": {
    "collapsed": true
   },
   "outputs": [],
   "source": [
    "def func(x):\n",
    "    if x < 0:\n",
    "        f = np.cos(x)\n",
    "    else:\n",
    "        f = np.exp(-x)\n",
    "    return f\n",
    "x = np.linspace(-6, 6, 100)\n",
    "#y = func(x) # Execute esta linha depois de remover o # para ver o erro que apresenta. Depois, volte a colocar o #."
   ]
  },
  {
   "cell_type": "markdown",
   "metadata": {},
   "source": [
    "Isto não funciona porque o Python não sabe o que fazer com a linha\n",
    "\n",
    "`if x < 0` \n",
    "\n",
    "quando `x` contém vários valores. Daí a mensagem de erro:\n",
    "\n",
    "`O valor de verdade de um array com mais de um elemento é ambíguo` \n",
    "\n",
    "Para alguns valores de `x`, a instrução `if` poderá ser `Verdadeira (True)`, mas, para outros, poderá ser `Falsa (False)`. Uma forma simples de contornar isto é vetorizar a função. Isto significa que criamos uma nova função, vamos chamar-lhe `funcvec`, que é uma forma vetorizada de `func` e pode ser executada com um array como argumento (é de longe o método mais fácil, mas não necessariamente o mais rápido informaticamente para assegurar que uma função pode ser executada com um array como argumento)."
   ]
  },
  {
   "cell_type": "code",
   "execution_count": null,
   "metadata": {
    "collapsed": true
   },
   "outputs": [],
   "source": [
    "funcvec = np.vectorize(func)\n",
    "x = np.linspace(-6, 6, 100)\n",
    "y = funcvec(x)\n",
    "plt.plot(x, y);"
   ]
  },
  {
   "cell_type": "markdown",
   "metadata": {},
   "source": [
    "Voltamos agora ao problema do fluxo em torno de um cilindro. Os contornos da função de corrente representam linhas de corrente em torno do cilindro. Para fazer uma representação gráfica do contorno, a função a ser criada tem de ser avaliada numa grelha de pontos. A grelha de pontos e um array com os valores da função de corrente nestes pontos podem ser passados por uma rotina de contorno para criar uma representação gráfica do contorno. Para criar uma grelha de pontos, use a função `meshgrid`, que assume como entrada um intervalo de valores de `x` e um intervalo de valores de `y`, devolvendo uma grelha de valores de `x` e uma grelha de valores de `y`. Por exemplo, para ter 5 pontos na direção do eixo $x$ de -1 a +1, e 3 pontos na direção do eixo $y$ de 0 a 10:"
   ]
  },
  {
   "cell_type": "code",
   "execution_count": null,
   "metadata": {
    "collapsed": true
   },
   "outputs": [],
   "source": [
    "x,y = np.meshgrid( np.linspace(-1,1,5), np.linspace(0,10,3) ) \n",
    "print('x valores')\n",
    "print(x)\n",
    "print('y valores')\n",
    "print(y)"
   ]
  },
  {
   "cell_type": "markdown",
   "metadata": {},
   "source": [
    "### <a name=\"back3\"></a>Exercício 3. Representação gráfica do contorno para o fluxo em torno de um cilindro\n",
    "Avalie a função para a função de corrente em torno de um cilindro com um raio de 1,5 numa grelha de 100 por 100 pontos, em que `x` varia entre -4 e +4 e `y` varia entre -3 e 3; use $U=1$. Avalie a função de corrente na totalidade da grelha (tem de criar uma versão vetorizada da função que escreveu para calcular a função de corrente). Depois, utilize a função `np.contour` para criar uma representação gráfica do contorno (descubra como ao ler a ajuda da função `contour` ou aceda a [esta demo](http://matplotlib.org/examples/pylab_examples/contour_demo.html)) da galeria `matplotlib`. Tem de utilizar o comando `plt.axis('equal')`, para que as escalas ao longo dos eixos sejam iguais e o círculo se assemelhe a um círculo e a não a uma elipse. Por último, poderá querer adicionar um preenchimento circular através do comando `fill` e especificar alguns valores de $x$ e $y$ em torno da circunferência do cilindro."
   ]
  },
  {
   "cell_type": "code",
   "execution_count": null,
   "metadata": {
    "collapsed": true
   },
   "outputs": [],
   "source": []
  },
  {
   "cell_type": "markdown",
   "metadata": {},
   "source": [
    "<a href=\"#ex3answer\">Solução do Exercício 3</a>"
   ]
  },
  {
   "cell_type": "markdown",
   "metadata": {},
   "source": [
    "### Devolver várias *coisas*\n",
    "Uma tarefa pode atribuir valores diferentes a variáveis numa instrução, por exemplo:"
   ]
  },
  {
   "cell_type": "code",
   "execution_count": null,
   "metadata": {
    "collapsed": true
   },
   "outputs": [],
   "source": [
    "a, b = 4, 3\n",
    "print('a:', a)\n",
    "print('b:', b)\n",
    "a, b, c = 27, np.arange(4), 'olá'\n",
    "print('a:', a)\n",
    "print('b:', b)\n",
    "print('c:', c)\n",
    "d, e, f = np.arange(0, 11, 5)\n",
    "print('d:', d)\n",
    "print('e:', e)\n",
    "print('f:', f)"
   ]
  },
  {
   "cell_type": "markdown",
   "metadata": {},
   "source": [
    "Da mesma forma, uma função poderá devolver um valor ou um array, ou vários valores, vários arrays ou o que quer que o programador decida devolver (incluindo nada, claro). Quando são devolvidas várias *coisas*, são devolvidas em forma de tuplo. Podem ser guardadas como um tuplo ou, se o utilizador souber quantas *coisas* são devolvidas, podem ser guardadas em variáveis individuais de imediato, como no exemplo acima."
   ]
  },
  {
   "cell_type": "code",
   "execution_count": null,
   "metadata": {
    "collapsed": true
   },
   "outputs": [],
   "source": [
    "def newfunc():\n",
    "    dump = 4 * np.ones(5)\n",
    "    dump[0] = 100\n",
    "    return 33, dump, 'isto funciona perfeitamente!'\n",
    "test = newfunc()\n",
    "print(type(test))\n",
    "print(test[1]) \n",
    "a, b, c = newfunc()\n",
    "print('a:', a)\n",
    "print('b:', b)\n",
    "print('c:', c)"
   ]
  },
  {
   "cell_type": "markdown",
   "metadata": {},
   "source": [
    "### <a name=\"back4\"></a>Exercício 4. Representação gráfica de corrente para o fluxo em torno de um cilindro\n",
    "Os componentes tangenciais e radiais do vetor de velocidade $\\vec{v}=(v_r,v_\\theta)$ para o fluxo de fluido invíscido em torno de um cilindro são dados por:\n",
    "\n",
    "$\\begin{split}\n",
    "v_r&=U(1-R^2/r^2)\\cos(\\theta) \\qquad r\\ge R \\\\\n",
    "v_\\theta&=-U(1+R^2/r^2)\\sin(\\theta) \\qquad r\\ge R\n",
    "\\end{split}$\n",
    "\n",
    "e é zero, caso contrário. Os componentes $x$ e $y$ do vetor de velocidade poderão ser obtidos a partir dos componentes radiais e tangenciais, como:\n",
    "\n",
    "$\\begin{split}\n",
    "v_x&=v_r\\cos(\\theta) - v_\\theta\\sin(\\theta) \\\\\n",
    "v_y &= v_r\\sin(\\theta) + v_\\theta\\cos(\\theta) \n",
    "\\end{split}$\n",
    "\n",
    "Escreva uma função que devolva os componentes $x$ e $y$ do vetor de velocidade para o fluxo de fluido em torno de um cilindro, em que $R=1.5$ e $U=2$.\n",
    "Teste a sua função e certifique-se de que em $(x,y) = (2,3)$ o vetor de velocidade é $(v_x,v_y)=(2.1331, -0.3195)$. Calcule os componentes $x$ e $y$ do vetor de velocidade (a vetorização aqui não irá ajudar, pois a sua função devolve dois valores, pelo que necessita de um ciclo duplo) numa grelha de 50 por 50 pontos, em que $x$ varia entre -4 e +4 e $y$ varia entre -3 e 3. Crie uma representação gráfica de corrente utilizando a fantástica função `plt.streamplot`, que assume quatro argumentos: `x`, `y`, `vx`, `vy`."
   ]
  },
  {
   "cell_type": "code",
   "execution_count": null,
   "metadata": {
    "collapsed": true
   },
   "outputs": [],
   "source": []
  },
  {
   "cell_type": "markdown",
   "metadata": {},
   "source": [
    "<a href=\"#ex4answer\">Solução do Exercício 4</a>"
   ]
  },
  {
   "cell_type": "markdown",
   "metadata": {},
   "source": [
    "### <a name=\"back5\"></a>Exercício 5. Derivada de uma função\n",
    "A função `func`, que escrevemos anteriormente neste notebook, implementa a seguinte função:\n",
    "\n",
    "$f(x)= \\cos(x) \\qquad x <0$\n",
    "\n",
    "$f(x) = \\exp(-x) \\qquad x \\ge 0$\n",
    "\n",
    "Derive uma expressão analítica (à mão) para a primeira derivada de $f(x)$ e implemente-a numa função Python. Teste a sua função ao comparar o resultado com uma derivada numérica por meio de um esquema de diferenciação central:\n",
    "\n",
    "$\\frac{\\text{d}f}{\\text{d}x}\\approx \\frac{f(x+d)-f(x-d)}{2d}$\n",
    "\n",
    "em que $d$ é um número pequeno. Teste a sua função para $x<0$ e $x>0$."
   ]
  },
  {
   "cell_type": "code",
   "execution_count": null,
   "metadata": {
    "collapsed": true
   },
   "outputs": [],
   "source": []
  },
  {
   "cell_type": "markdown",
   "metadata": {},
   "source": [
    "<a href=\"#ex5answer\">Solução do Exercício 5</a>"
   ]
  },
  {
   "cell_type": "markdown",
   "metadata": {},
   "source": [
    "### Usar uma função como argumento de outra função\n",
    "Até agora, utilizámos valores ou arrays individuais como argumentos de entrada das funções. Mas também podemos utilizar uma função como um dos argumentos de entrada de outra função. Considere, por exemplo, uma função chamada `takesquare` que assume dois argumentos de entrada: uma função `finput` e um valor `x`, e que devolve uma função `finput` avaliada em `x` e depois elevada ao quadrado."
   ]
  },
  {
   "cell_type": "code",
   "execution_count": null,
   "metadata": {
    "collapsed": true
   },
   "outputs": [],
   "source": [
    "def takesquare(finput, x):\n",
    "    return finput(x) ** 2"
   ]
  },
  {
   "cell_type": "markdown",
   "metadata": {},
   "source": [
    "Podemos agora executar `takesquare` com qualquer função $f$ que possa ser executada como $f(x)$ e que devolva um valor. Por exemplo, podemos executá-la com a função cosseno e podemos testar de imediato se obtivemos a resposta certa:"
   ]
  },
  {
   "cell_type": "code",
   "execution_count": null,
   "metadata": {
    "collapsed": true
   },
   "outputs": [],
   "source": [
    "print('resultado de takesquare:', takesquare(np.cos, 2))\n",
    "print('o valor correto é: ', np.cos(2) ** 2)"
   ]
  },
  {
   "cell_type": "markdown",
   "metadata": {},
   "source": [
    "### Encontrar o zero de uma função\n",
    "Encontrar o zero de uma função é uma tarefa comum na computação exploratória. O valor em que a função iguala zero é também designado *raiz* e encontrar o zero é referido como *encontrar a raiz*. Existem vários métodos para encontrar o zero de uma função, que variam de bons mas lentos (encontram sempre o zero, mas é necessário avaliar as funções várias vezes) a rápidos mas não tão bons (conseguem encontrar o zero rapidamente, mas nem sempre o fazem). Por agora, utilizaremos o último.\n",
    "\n",
    "Considere a função $f(x)=0.5-\\text{e}^{-x}$. A função é zero quando $x=-\\ln(0.5)$, mas vamos agir como se não soubéssemos isto e vamos tentar descobrir usando o método de encontrar a raiz. Em primeiro lugar, temos de escrever uma função Python para $f(x)$."
   ]
  },
  {
   "cell_type": "code",
   "execution_count": null,
   "metadata": {
    "collapsed": true
   },
   "outputs": [],
   "source": [
    "def f(x):\n",
    "    return 0.5 - np.exp(-x)"
   ]
  },
  {
   "cell_type": "markdown",
   "metadata": {},
   "source": [
    "Vamos utilizar o método `fsolve` para encontrar o zero de uma função. `fsolve` faz parte do pacote `scipy.optimize`. `fsolve` assume dois argumentos: a função para qual queremos encontrar o zero e um valor inicial para a pesquisa (sem surpresas, quanto mais próximo da raiz estiver o valor inicial, maiores são as hipóteses de `fsolve` a encontrar)."
   ]
  },
  {
   "cell_type": "code",
   "execution_count": null,
   "metadata": {
    "collapsed": true
   },
   "outputs": [],
   "source": [
    "from scipy.optimize import fsolve\n",
    "xzero = fsolve(f,1)\n",
    "print('resultado de fsolve:', xzero)\n",
    "print('f(x) em xzero:   ', f(xzero))\n",
    "print('exato valor de xzero:', -np.log(0.5))"
   ]
  },
  {
   "cell_type": "markdown",
   "metadata": {},
   "source": [
    "Imaginemos que agora quer descobrir o valor de $x$ em que $f(x)=0.3$ (Eu sei, é $-\\ln(0.2)$). Podemos, naturalmente, criar uma nova função $f_2=f(x)-0.3$ e depois tentar encontrar o zero de $f_2$. Mas, se o fizermos, mais vale tornar isto mais genérico. Vamos tentar encontrar $f(x)=a$, criando uma função $f_2=f(x)-a$"
   ]
  },
  {
   "cell_type": "code",
   "execution_count": null,
   "metadata": {
    "collapsed": true
   },
   "outputs": [],
   "source": [
    "def f2(x, a=0):\n",
    "    return f(x) - a"
   ]
  },
  {
   "cell_type": "markdown",
   "metadata": {},
   "source": [
    "Quando utilizamos `fsolve` para encontrar o zero da função `f2`, temos de o passar com um argumento adicional: o valor de `a`. Isto pode ser alcançado através do argumento de palavra-chave `args`, que é um tuplo de argumentos adicionais passados à função, para a qual `fsolve` tenta encontrar a raiz. A palavra-chave `args` pode ser diferentes valores, desde que estejam separados por vírgula, mas, no nosso caso, a função `f2` assume apenas um argumento adicional."
   ]
  },
  {
   "cell_type": "code",
   "execution_count": null,
   "metadata": {
    "collapsed": true
   },
   "outputs": [],
   "source": [
    "xroot = fsolve(f2, 1, args=(0.3))\n",
    "print('resultado de fsolve:', xroot)\n",
    "print('f(xroot):     ', f(xroot))\n",
    "print('exato valor:  ', -np.log(0.2))"
   ]
  },
  {
   "cell_type": "markdown",
   "metadata": {},
   "source": [
    "### <a name=\"back6\"></a>Exercício 6. Distribuição de densidade cumulativa\n",
    "A distribuição de densidade cumulativa $F(x)$ da distribuição Normal é dada por\n",
    "\n",
    "$F(x)=\\frac{1}{2}\\left[ 1 + \\text{erf}\\left(\\frac{x-\\mu}{\\sqrt{2\\sigma^2}}\\right)\\right] $\n",
    "\n",
    "em que $\\mu$ é a média, $\\sigma$ é o desvio padrão, e $erf$ é a função de erro. \n",
    "Recorde a definição de distribuição de densidade cumulativa: quando uma variável aleatória tem uma distribuição Normal com uma média $\\mu$ e um desvio padrão $\\sigma$, $F(x)$ é a probabilidade de a variável aleatória ser inferior a $x$. Escreva uma função Python para $F(x)$. O primeiro argumento de entrada deve ser $x$, seguido de argumentos de palavra-chave para $\\mu$ e $\\sigma$. A função de erro pode ser importada como\n",
    "\n",
    "`from scipy.special import erf`\n",
    "\n",
    "Teste a sua função, certificando-se de que, por exemplo, quando $x=\\mu$, $F$ deve devolver 0.5, e quando $x=\\mu+1.96\\sigma$, $F$ deve devolver 0.975 (lembra-se disso das aulas de estatística?).\n",
    "\n",
    "Em seguida, encontre o valor de $x$, para o qual $F(x)=p$, em que $p$ é uma probabilidade de interesse (por isso, está entre 0 e 1). Verifique a sua resposta para $\\mu=3$, $\\sigma=2$ e encontre $x$ para $p=0.1$ e $p=0.9$. Substitua as raízes encontradas com a função `fsolve` em $F(x)$ para se certificar de que o seu código funciona devidamente."
   ]
  },
  {
   "cell_type": "code",
   "execution_count": null,
   "metadata": {
    "collapsed": true
   },
   "outputs": [],
   "source": []
  },
  {
   "cell_type": "markdown",
   "metadata": {},
   "source": [
    "<a href=\"#ex6answer\">Solução do Exercício 6</a>"
   ]
  },
  {
   "cell_type": "markdown",
   "metadata": {},
   "source": [
    "### <a name=\"back7\"></a>Exercício 7. Integração numérica"
   ]
  },
  {
   "cell_type": "markdown",
   "metadata": {},
   "source": [
    "A integração numérica de uma função é uma tarefa de engenharia comum.\n",
    "O pacote `scipy` tem um subpacote específico chamado `integrate`, com várias funções de integração numérica. Vamos utilizar a função `quad`. Use a função `quad` para integrar a função $f(x)=\\text{e}^{-x}$ de 1 a 5. Verifique se o fez corretamente fazendo a integração à mão (o que é fácil para esta função).\n",
    "\n",
    "Em seguida, calcule o seguinte integral:\n",
    "\n",
    "$$\\int_1^5 \\frac{\\text{e}^{-x}}{x}\\text{d}x$$ \n",
    "\n",
    "Este integral é mais difícil de fazer analiticamente. Efetue a integração numericamente com a função `quad` e verifique a sua reposta, por exemplo, no [site wolframalpha](https://www.wolframalpha.com) onde pode simplesmente digitar: `integrate exp(-x)/x from 1 to 5`."
   ]
  },
  {
   "cell_type": "code",
   "execution_count": null,
   "metadata": {
    "collapsed": true
   },
   "outputs": [],
   "source": []
  },
  {
   "cell_type": "markdown",
   "metadata": {},
   "source": [
    "<a href=\"#ex7answer\">Solução do Exercício 7</a>"
   ]
  },
  {
   "cell_type": "markdown",
   "metadata": {},
   "source": [
    "### Soluções dos exercícios"
   ]
  },
  {
   "cell_type": "markdown",
   "metadata": {},
   "source": [
    "<a name=\"ex1answer\">Solução do Exercício 1</a>"
   ]
  },
  {
   "cell_type": "code",
   "execution_count": null,
   "metadata": {
    "collapsed": true
   },
   "outputs": [],
   "source": [
    "def test(x, alpha):\n",
    "    return np.exp(-alpha * x) * np.cos(x)\n",
    "x = np.linspace(0, 10 * np.pi, 100)\n",
    "y1 = test(x, 0.1)  # Esta função pode ser executada com um array\n",
    "y2 = test(x, 0.2)\n",
    "plt.plot(x, y1,'b', label=r'$\\alpha$=0.1') # se especificar uma etiqueta, será automaticamente utilizada na legenda\n",
    "plt.plot(x, y2,'r', label=r'$\\alpha$=0.2')\n",
    "plt.xlabel('x')\n",
    "plt.ylabel('f(x)')\n",
    "plt.legend();"
   ]
  },
  {
   "cell_type": "markdown",
   "metadata": {},
   "source": [
    " <a href=\"#back1\">Voltar ao Exercício 1</a>\n",
    "\n",
    "<a name=\"ex2answer\">Solução do Exercício 2</a>"
   ]
  },
  {
   "cell_type": "code",
   "execution_count": null,
   "metadata": {
    "collapsed": true
   },
   "outputs": [],
   "source": [
    "def psi(x, y, U=1, R=1):\n",
    "    r = np.sqrt(x ** 2 + y ** 2)\n",
    "    if r < R:\n",
    "        rv = 0.0\n",
    "    else:\n",
    "        theta = np.arctan2(y, x)\n",
    "        rv = U * (r - R ** 2 / r) * np.sin(theta)\n",
    "    return rv\n",
    "\n",
    "print(psi(2, 4, U=2, R=1.5))\n",
    "print(psi(0.5, 0, U=2, R=1.5))"
   ]
  },
  {
   "cell_type": "markdown",
   "metadata": {},
   "source": [
    "<a href=\"#back2\">Voltar ao Exercício 2</a>\n",
    "\n",
    "<a name=\"ex3answer\">Solução do Exercício 3</a>"
   ]
  },
  {
   "cell_type": "code",
   "execution_count": null,
   "metadata": {
    "collapsed": true
   },
   "outputs": [],
   "source": [
    "x,y = np.meshgrid(np.linspace(-4, 4, 100), np.linspace(-3, 3, 100))\n",
    "psivec = np.vectorize(psi)\n",
    "R = 1.5\n",
    "p = psivec(x, y, U=2, R=R)\n",
    "plt.contour(x, y, p, 50)\n",
    "alpha = np.linspace(0, 2 * np.pi, 100)\n",
    "plt.fill(R * np.cos(alpha), R * np.sin(alpha), ec='g', fc='g')\n",
    "plt.axis('scaled')"
   ]
  },
  {
   "cell_type": "markdown",
   "metadata": {},
   "source": [
    " <a href=\"#back3\">Voltar ao Exercício 3</a>\n",
    "\n",
    "<a name=\"ex4answer\">Solução do Exercício 4</a>"
   ]
  },
  {
   "cell_type": "code",
   "execution_count": null,
   "metadata": {
    "collapsed": true
   },
   "outputs": [],
   "source": [
    "def velocity(x, y, U=1, R=1):\n",
    "    r = np.sqrt(x**2 + y**2)\n",
    "    theta = np.arctan2(y, x)\n",
    "    if r > R:\n",
    "        vr =  U * (1 - R**2 / r**2) * np.cos(theta)\n",
    "        vt = -U * (1 + R**2 / r**2) * np.sin(theta)\n",
    "        vx = vr * np.cos(theta) - vt * np.sin(theta)\n",
    "        vy = vr * np.sin(theta) + vt * np.cos(theta)\n",
    "    else:\n",
    "        vx,vy = 0.0,0.0\n",
    "    return vx,vy\n",
    "\n",
    "print('velocidade em (2,3): ', velocity(2, 3, U=2, R=1.5))\n",
    "x,y = np.meshgrid(np.linspace(-4, 4, 50), np.linspace(-3, 3, 50))\n",
    "vx, vy = np.zeros((50, 50)), np.zeros((50, 50))\n",
    "R = 1.5\n",
    "for i in range(50):\n",
    "    for j in range(50):\n",
    "        vx[i,j], vy[i,j] = velocity(x[i,j], y[i,j], U=2, R=R)\n",
    "alpha = np.linspace(0, 2 * np.pi, 100)\n",
    "plt.fill(R * np.cos(alpha), R * np.sin(alpha), ec='g', fc='g')\n",
    "plt.streamplot(x, y, vx, vy)\n",
    "plt.axis('scaled')\n",
    "plt.xlim(-4, 4)\n",
    "plt.ylim(-3, 3)"
   ]
  },
  {
   "cell_type": "markdown",
   "metadata": {},
   "source": [
    " <a href=\"#back4\">Voltar ao Exercício 4</a>\n",
    "\n",
    "<a name=\"ex5answer\">Solução do Exercício 5</a>"
   ]
  },
  {
   "cell_type": "code",
   "execution_count": null,
   "metadata": {
    "collapsed": true
   },
   "outputs": [],
   "source": [
    "def dfuncdx(x):\n",
    "    if x < 0:\n",
    "        rv = -np.sin(x)\n",
    "    else:\n",
    "        rv = -np.exp(-x)\n",
    "    return rv\n",
    "d = 1e-6\n",
    "x = -1\n",
    "dfdx = (func(x+d) - func(x-d)) / (2*d)\n",
    "print('Valor verdadeiro  ', dfuncdx(x))\n",
    "print('Valor aproximado ', dfdx)\n",
    "x = 1\n",
    "dfdx = (func(x+d) - func(x-d)) / (2*d)\n",
    "print('Valor verdadeiro   ', dfuncdx(x))\n",
    "print('Valor aproximado ', dfdx)"
   ]
  },
  {
   "cell_type": "markdown",
   "metadata": {},
   "source": [
    " <a href=\"#back5\">Voltar ao Exercício 5</a>\n",
    "\n",
    "<a name=\"ex6answer\">Solução do Exercício 6</a>"
   ]
  },
  {
   "cell_type": "code",
   "execution_count": null,
   "metadata": {
    "collapsed": true
   },
   "outputs": [],
   "source": [
    "from scipy.special import erf\n",
    "def F(x, mu=0, sigma=1, p=0):\n",
    "    rv = 0.5 * (1.0 + erf((x - mu) / np.sqrt(2 * sigma**2)))\n",
    "    return rv - p\n",
    "print('x=mu dá F(x)=', F(2, mu=2, sigma=1))\n",
    "print('x=mu+1.96sig dá:', F(2+1.96, mu=2, sigma=1))\n",
    "x1 = fsolve(F, 3, args=(3, 2, 0.1))\n",
    "x2 = fsolve(F, 3, args=(3, 2, 0.9))\n",
    "print('x1,F(x1):', x1, F(x1, mu=3, sigma=2))\n",
    "print('x2,F(x2):', x2, F(x2, mu=3, sigma=2))"
   ]
  },
  {
   "cell_type": "markdown",
   "metadata": {},
   "source": [
    " <a href=\"#back6\">Voltar ao Exercício 6</a>\n",
    "\n",
    "<a name=\"ex7answer\">Solução do Exercício 7</a>"
   ]
  },
  {
   "cell_type": "code",
   "execution_count": null,
   "metadata": {
    "collapsed": true
   },
   "outputs": [],
   "source": [
    "def func1(x):\n",
    "    return np.exp(-x)\n",
    "\n",
    "def func2(x):\n",
    "    return np.exp(-x) / x\n",
    "\n",
    "from scipy.integrate import quad\n",
    "print('func1:')\n",
    "print('integração numérica:', quad(func1, 1, 5))\n",
    "print('integração analítica:', -np.exp(-5) + np.exp(-1))\n",
    "\n",
    "print('func2:')\n",
    "print('integração numérica:', quad(func2, 1, 5))\n",
    "print('resultado wolframalpha:', 0.218236)"
   ]
  },
  {
   "cell_type": "markdown",
   "metadata": {},
   "source": [
    "<a href=\"#back7\">Voltar ao Exercício 7</a>"
   ]
  },
  {
   "cell_type": "markdown",
   "metadata": {},
   "source": [
    "A obra \"Notebook 4: Funções\" é um derivado de [Notebook 4: Functions](http://nbviewer.jupyter.org/github/mbakker7/exploratory_computing_with_python/blob/master/notebook4_functions/py_exploratory_comp_4_sol.ipynb) de [mbakker7](https://github.com/mbakker7), sob a [licença CC BY (4.0 Licença Internacional)](https://creativecommons.org/licenses/by/4.0/deed.pt).\n",
    "\"Notebook 4: Funções\" é publicado sob a [licença CC BY (4.0 Licença Internacional)](https://creativecommons.org/licenses/by/4.0/deed.pt) por Educa2030."
   ]
  }
 ],
 "metadata": {
  "anaconda-cloud": {},
  "kernelspec": {
   "display_name": "Python 3",
   "language": "python",
   "name": "python3"
  },
  "language_info": {
   "codemirror_mode": {
    "name": "ipython",
    "version": 3
   },
   "file_extension": ".py",
   "mimetype": "text/x-python",
   "name": "python",
   "nbconvert_exporter": "python",
   "pygments_lexer": "ipython3",
   "version": "3.6.3"
  },
  "widgets": {
   "state": {
    "52d1b36d44f743cb838f72e2387d8110": {
     "views": [
      {
       "cell_index": 68
      }
     ]
    }
   },
   "version": "1.2.0"
  }
 },
 "nbformat": 4,
 "nbformat_minor": 1
}
