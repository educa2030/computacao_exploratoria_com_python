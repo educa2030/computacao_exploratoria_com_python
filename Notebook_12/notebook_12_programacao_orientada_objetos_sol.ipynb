{
 "cells": [
  {
   "cell_type": "markdown",
   "metadata": {},
   "source": [
    "## Notebook 12: Programação orientada a objetos\n",
    "Neste Notebook, aprendemos o que é Programação orientada a objetos (OOP, do inglês Object Oriented Programming), bem como o que são Classes e como as criar. Aprendemos também como criar gráficos com recurso à OOP e ao pacote `matplotlib`."
   ]
  },
  {
   "cell_type": "code",
   "execution_count": 1,
   "metadata": {
    "collapsed": true
   },
   "outputs": [],
   "source": [
    "import numpy as np\n",
    "import matplotlib.pyplot as plt\n",
    "%matplotlib inline"
   ]
  },
  {
   "cell_type": "markdown",
   "metadata": {},
   "source": [
    "### Uma classe de triângulos\n",
    "Até agora, aprendemos o que é a programação *funcional*. Na programação funcional, pode escrever ou usar funções que manipulam dados. Por exemplo, considere o caso em que temos de lidar com um determinado número de triângulos. Para cada triângulo, queremos poder calcular a sua área e representá-la graficamente, além de preencher o interior com uma cor. Digamos que temos um número aleatório de $N$ triângulos. Para cada triângulo, temos de guardar os valores $(x,y)$ dos seus três vértices. Assim, criamos arrays para os valores de $x$ de cada vértice e criamos arrays para os valores de $y$ de cada vértice. Depois, escrevemos uma função que calcula a área de um triângulo dados os seus três vértices, e escrevemos uma função que represente graficamente o triângulo dados os três vértices e a cor de preenchimento do triângulo, e, por último, temos de criar um ciclo para todos os vértices. Tudo isto parece ser demasiado trabalhoso, mas é fácil de realizar. Torna-se mais complicado quando queremos mudar o vértice de um triângulo. Temos de saber a sua posição no array e mudar o vértice correto.\n",
    "\n",
    "É ainda mais complicado quando temos de lidar com triângulos e retângulos. Os triângulos têm três vértices, enquanto os retângulos têm quatro. A função para calcular a área de um retângulo é muito diferente. Por isso, temos de nos certificar de que executamos a função da área de um triângulo quando temos um triângulo e a função da área de um retângulo quando temos um retângulo. A representação gráfica não é muito diferente, mas temos de apresentar quatro vértices em vez de três. Isto começa a complicar um pouco. Não seria bom podermos organizar os dados e as funções, de modo a que os dados soubessem como calcular a sua área ou como se representarem a si mesmos? Pode soar a magia, mas é exatamente isso que a programação orientada a objetos faz.\n",
    "\n",
    "A programação orientada a objetos é, na sua essência, outra forma de organizar os dados e as funções. Em vez de os definir e armazenar em separado, os dados e as funções são armazenados e unidos no que designamos *Classe*. Os dados que são armazenados designam-se *atributos* e as funções *métodos*. Será provavelmente mais fácil de entender se escrevermos e usarmos uma classe. Considere, por exemplo, a classe `Triangle` que armazena as coordenadas de três vértices. Não se preocupe com a sintaxe para já (já lá vamos). Execute o código abaixo para começarmos a usar a classe."
   ]
  },
  {
   "cell_type": "code",
   "execution_count": 2,
   "metadata": {
    "collapsed": true
   },
   "outputs": [],
   "source": [
    "class Triangle:\n",
    "    def __init__(self, x0y0, x1y1, x2y2):\n",
    "        self.x0y0 = x0y0\n",
    "        self.x1y1 = x1y1\n",
    "        self.x2y2 = x2y2"
   ]
  },
  {
   "cell_type": "markdown",
   "metadata": {},
   "source": [
    "Agora que a classe `Triangle` está definida, podemos começar a criar triângulos. Podemos executar a classe `Triangle` tal como uma função e temos de fornecer tuplos dos três vértices. A classe `Triangle` devolve o que se designa um objeto. Um objeto é uma instância de uma classe. Note também que, se escrever:\n",
    "\n",
    "`Triangle(` \n",
    "\n",
    "e premir [shift][tab], surge uma pequena caixa que apresenta os argumentos de entrada esperados (não tem de fornecer o argumento `self`; mais sobre isto posteriormente). Vamos criar um triângulo com os vértices (0,1), (3,0) and (2,3)."
   ]
  },
  {
   "cell_type": "code",
   "execution_count": 3,
   "metadata": {
    "collapsed": true
   },
   "outputs": [],
   "source": [
    "t1 = Triangle((0, 1), (3, 0), (2, 3))"
   ]
  },
  {
   "cell_type": "markdown",
   "metadata": {},
   "source": [
    "`t1` é agora uma instância da classe  `Triangle`. Dizemos simplesmente que `t1` é um triângulo. Armazenamos os três vértices do triângulo. Assim, cada objeto de `Triangle` tem três atributos. Pode descobrir que atributos um objeto tem ao escrever:\n",
    "\n",
    "`t1.` \n",
    "\n",
    "(não se esqueça do ponto) e, em seguida, prima a tecla [TAB]. É possível aceder aos atributos com uma função precedida de ponto."
   ]
  },
  {
   "cell_type": "code",
   "execution_count": 4,
   "metadata": {},
   "outputs": [
    {
     "name": "stdout",
     "output_type": "stream",
     "text": [
      "<__main__.Triangle object at 0x10ab8a160>\n",
      "(0, 1)\n",
      "(3, 0)\n",
      "(2, 3)\n"
     ]
    }
   ],
   "source": [
    "print(t1)  # não muito útil\n",
    "print(t1.x0y0)  # primeiro vértice\n",
    "print(t1.x1y1)  # segundo vértice\n",
    "print(t1.x2y2)  # terceiro vértice"
   ]
  },
  {
   "cell_type": "markdown",
   "metadata": {},
   "source": [
    "Vamos regressar à classe `Triangle`. Quando executamos a classe `Triangle` (em linguagem técnica: criamos um objeto de `Triangle`, ou ainda mais técnica: criamos uma instância da classe `Triangle`), o Python calcula a função `__init__`. Esta função é o chamado *construtor*. Vai construir um objeto. No construtor, define que argumentos têm de ser fornecidos para criar um triângulo. O nome `__init__` (são *dois* underscores antes e depois da palavra `init`) é necessário (é um dos poucos casos infelizes de escolha de nomes na linguagem Python). O primeiro argumento é `self` e diz ao Python qual é o nome do próprio objeto na classe.\n",
    "\n",
    "Vimos acima que escrever `print t1` devolve uma mensagem sem sentido. Isto pode ser resolvido ao incluir uma função de representação, que tem de ser exatamente `__repr__`. Esta função é calculada quando o objeto é apresentado (ou convertido numa string)."
   ]
  },
  {
   "cell_type": "code",
   "execution_count": 5,
   "metadata": {},
   "outputs": [
    {
     "name": "stdout",
     "output_type": "stream",
     "text": [
      "Triângulo com vértices:(0, 1)(3, 0)(2, 3)\n"
     ]
    }
   ],
   "source": [
    "class Triangle:\n",
    "    def __init__(self, x0y0, x1y1, x2y2):\n",
    "        self.x0y0 = x0y0\n",
    "        self.x1y1 = x1y1\n",
    "        self.x2y2 = x2y2\n",
    "    def __repr__(self):\n",
    "        return 'Triângulo com vértices:' + str(self.x0y0) + str(self.x1y1) + str(self.x2y2)\n",
    "t1 = Triangle((0, 1), (3, 0), (2, 3))\n",
    "print(t1)"
   ]
  },
  {
   "cell_type": "markdown",
   "metadata": {},
   "source": [
    "Na classe `Triangle`, os três vértices são armazenados como três tuplos. Assim, o valor de $x$ do primeiro vértice é `self.x0y0[0]` e o valor de $y$ é `self.x0y0[1]`. Poderá ser útil armazenar um array dos três valores de $x$ dos três vértices e um array dos três valores de $y$ dos três vértices. Se forem armazenadas, é razoavelmente fácil calcular a área $A$ de um triângulo através da seguinte fórmula:\n",
    "\n",
    "$A = \\frac{1}{2}|(x_0-x_2)(y_1-y_0) - (x_0-x_1)(y_2-y_0)|$\n",
    "\n",
    "Vamos alterar a classe `Triangle` para incluir estes dois atributos adicionais e uma função `area`."
   ]
  },
  {
   "cell_type": "code",
   "execution_count": 6,
   "metadata": {
    "collapsed": true
   },
   "outputs": [],
   "source": [
    "class Triangle:\n",
    "    def __init__(self, x0y0, x1y1, x2y2):\n",
    "        self.x0y0 = x0y0\n",
    "        self.x1y1 = x1y1\n",
    "        self.x2y2 = x2y2\n",
    "        self.x = np.array([self.x0y0[0], self.x1y1[0], self.x2y2[0]])\n",
    "        self.y = np.array([self.x0y0[1], self.x1y1[1], self.x2y2[1]])\n",
    "    def __repr__(self):\n",
    "        return 'Triângulo com vértices:' + str(self.x0y0) + str(self.x1y1) + str(self.x2y2)\n",
    "    def area(self):\n",
    "        A = 0.5 * np.abs((self.x[0] - self.x[2]) * (self.y[1] - self.y[0]) - \n",
    "                         (self.x[0] - self.x[1]) * (self.y[2] - self.y[0]))\n",
    "        return A"
   ]
  },
  {
   "cell_type": "markdown",
   "metadata": {},
   "source": [
    "Note que a função `area` ultrapassa o objeto `self`; assim que identifica `self`, tem acesso a todos os seus atributos e funções. Podemos agora criar um objeto de `Triangle` e calcular a sua área da seguinte forma (não se esqueça de executar a nova classe `Triangle` acima primeiro)."
   ]
  },
  {
   "cell_type": "code",
   "execution_count": 7,
   "metadata": {},
   "outputs": [
    {
     "name": "stdout",
     "output_type": "stream",
     "text": [
      "4.0\n"
     ]
    }
   ],
   "source": [
    "t1 = Triangle( (0,1), (3,0), (2,3) )\n",
    "print(t1.area())"
   ]
  },
  {
   "cell_type": "markdown",
   "metadata": {},
   "source": [
    "No código acima, a função `area` é calculada através da sintaxe de funções precedidas de ponto, em que `self` na função é automaticamente substituída pela variável antes do ponto (neste caso, `t1`). A sintaxe de funções precedidas de ponto é curta em comparação com a muito mais comprida:"
   ]
  },
  {
   "cell_type": "code",
   "execution_count": 8,
   "metadata": {},
   "outputs": [
    {
     "name": "stdout",
     "output_type": "stream",
     "text": [
      "4.0\n"
     ]
    }
   ],
   "source": [
    "print(Triangle.area(t1))"
   ]
  },
  {
   "cell_type": "markdown",
   "metadata": {},
   "source": [
    "Note que as classes são muito convenientes, pois o objeto do triângulo sabe quais são os seus próprios vértices. Ao escrever `t1.` e premir [TAB], são apresentados não apenas todos os atributos, mas também todas as funções de um objeto. Outra forma é usar a função `dir`."
   ]
  },
  {
   "cell_type": "code",
   "execution_count": 9,
   "metadata": {},
   "outputs": [
    {
     "data": {
      "text/plain": [
       "['__class__',\n",
       " '__delattr__',\n",
       " '__dict__',\n",
       " '__dir__',\n",
       " '__doc__',\n",
       " '__eq__',\n",
       " '__format__',\n",
       " '__ge__',\n",
       " '__getattribute__',\n",
       " '__gt__',\n",
       " '__hash__',\n",
       " '__init__',\n",
       " '__init_subclass__',\n",
       " '__le__',\n",
       " '__lt__',\n",
       " '__module__',\n",
       " '__ne__',\n",
       " '__new__',\n",
       " '__reduce__',\n",
       " '__reduce_ex__',\n",
       " '__repr__',\n",
       " '__setattr__',\n",
       " '__sizeof__',\n",
       " '__str__',\n",
       " '__subclasshook__',\n",
       " '__weakref__',\n",
       " 'area',\n",
       " 'x',\n",
       " 'x0y0',\n",
       " 'x1y1',\n",
       " 'x2y2',\n",
       " 'y']"
      ]
     },
     "execution_count": 9,
     "metadata": {},
     "output_type": "execute_result"
    }
   ],
   "source": [
    "dir(t1)"
   ]
  },
  {
   "cell_type": "markdown",
   "metadata": {},
   "source": [
    "Vamos expandir a classe `Triangle` ao adicionar uma função que represente graficamente um triângulo preenchido. A cor do triângulo é fornecida com um argumento de palavra-chave no construtor. Assim, se a cor não for indicada, deve ser usado o valor predefinido."
   ]
  },
  {
   "cell_type": "code",
   "execution_count": 10,
   "metadata": {
    "collapsed": true
   },
   "outputs": [],
   "source": [
    "class Triangle:\n",
    "    def __init__(self, x0y0, x1y1, x2y2, color='b'):\n",
    "        self.x0y0 = x0y0\n",
    "        self.x1y1 = x1y1\n",
    "        self.x2y2 = x2y2\n",
    "        self.x = np.array([self.x0y0[0], self.x1y1[0], self.x2y2[0]])\n",
    "        self.y = np.array([self.x0y0[1], self.x1y1[1], self.x2y2[1]])\n",
    "        self.color = color\n",
    "    def __repr__(self):\n",
    "        return 'Triângulo com vértices:' + str(self.x0y0) + str(self.x1y1) + str(self.x2y2)\n",
    "    def area(self):\n",
    "        A = 0.5 * np.abs((self.x[0]-self.x[2])*(self.y[1]-self.y[0]) - \n",
    "                         (self.x[0]-self.x[1])*(self.y[2]-self.y[0]))\n",
    "        return A\n",
    "    def plot(self):\n",
    "        plt.fill(self.x, self.y, color=self.color)"
   ]
  },
  {
   "cell_type": "markdown",
   "metadata": {},
   "source": [
    "Vamos criar três triângulos e armazená-los numa lista. Depois, executamos um ciclo para os triângulos na lista e representamo-los num gráfico. Note como podemos executar um ciclo para os triângulos na lista `tlist`:\n",
    "\n",
    "`for t in tlist:`\n",
    "\n",
    "Assim, cada vez que executamos o ciclo, `t` é o triângulo seguinte na lista `tlist`."
   ]
  },
  {
   "cell_type": "code",
   "execution_count": 11,
   "metadata": {},
   "outputs": [
    {
     "data": {
      "image/png": "[encoded data removed]",
      "text/plain": [
       "<matplotlib.figure.Figure at 0x10ab947b8>"
      ]
     },
     "metadata": {},
     "output_type": "display_data"
    }
   ],
   "source": [
    "tlist = []  # comece com uma lista vazia\n",
    "t1 = Triangle((0, 1), (5, 0), (3, 3), 'b')\n",
    "tlist.append(t1)  # adicione t1 à lista\n",
    "t2 = Triangle((3, 4), (1, 6), (-2, 3), 'r')\n",
    "tlist.append(t2)\n",
    "t3 = Triangle((8, -1), (6, 4), (2, 6), 'g')\n",
    "tlist.append(t3)\n",
    "plt.figure()\n",
    "for t in tlist:\n",
    "    t.plot()\n",
    "plt.axis('scaled');"
   ]
  },
  {
   "cell_type": "markdown",
   "metadata": {},
   "source": [
    "Da mesma forma, a área total dos três triângulos é:"
   ]
  },
  {
   "cell_type": "code",
   "execution_count": 12,
   "metadata": {},
   "outputs": [
    {
     "name": "stdout",
     "output_type": "stream",
     "text": [
      "área total: 20.5\n"
     ]
    }
   ],
   "source": [
    "areatot = 0.0\n",
    "for t in tlist:\n",
    "    areatot += t.area()\n",
    "print('área total:', areatot)"
   ]
  },
  {
   "cell_type": "markdown",
   "metadata": {},
   "source": [
    "### <a name=\"back1\"></a>Exercício 1. Uma classe de Círculo\n",
    "Crie uma classe `Circle` que armazene as coordenadas $(x,y)$ do centro de um círculo e o respetivo raio $R$. As funções da classe são: `area`, que devolve a área do círculo e `plot`, que representa graficamente um círculo preenchido com uma transparência de 0,5 (i.e., usa o argumento de palavra-chave `alpha=0.5` na função `fill`). O argumento de entrada da função `plot` é um raio $R^*$. Com um raio do círculo inferior a $R^*$, preencha o círculo com a cor azul. Com um raio do círculo superior a $R^*$, preencha o círculo com a cor vermelha. Demonstre que a sua classe `Circle` funciona ao carregar o ficheiro de texto `circle_data.txt`. Este ficheiro contém os dados de $x$, $y$ e $R$ para 20 círculos. Calcule e indique a área total de todos os círculos no ficheiro. Crie uma representação gráfica dos 20 círculos para demonstrar que as cores estão devidamente atribuídas, utilizando $R^*=1$."
   ]
  },
  {
   "cell_type": "markdown",
   "metadata": {},
   "source": [
    "<a href=\"#ex1answer\">Soluções do Exercício 1</a>"
   ]
  },
  {
   "cell_type": "markdown",
   "metadata": {},
   "source": [
    "### <a name=\"back2\"></a>Exercício 2. Caudal para um conjunto de poços de extração e injeção\n",
    "Considere um poço de extração com uma descarga $Q$. O poço está situado em $(x,y)=(x_w,y_w)$, num aquífero com espessura $H$ e condutividade hidráulica $k$. A cabeceira (*head*, em inglês) a uma distância radial $R$ do poço está fixada a $h_0$. A cabeceira das águas subterrâneas $h$ diminui em direção ao poço (p. ex., Eq. 11.4 em Verruijt (2012) Soil Mechanics)\n",
    "\n",
    "$$h = \\frac{Q}{2\\pi kH} \\ln\\left(\\frac{r}{R}\\right) + h_0$$\n",
    "\n",
    "onde $r$ é a distância radial do poço $r=\\sqrt{(x-x_w)^2+(y-y_w)^2}$. \n",
    "\n",
    "Em seguida, considere um sistema com $N$ poços de extração e injeção perto do centro de uma área grande; a soma das descargas de todos os poços de extração e injeção é zero (ou seja, toda a água extraída também é injetada; isto ocorre geralmente em sistemas de bombeamento e tratamento, sistemas de arrefecimento, drenagem de locais de construção, etc.). A mudança na cabeceira gerada por todos os poços em conjunto é aproximadamente zero ao longo de um círculo com raio $R$. A distribuição da cabeceira num sistema de $N$ poços pode ser escrita como (p. ex., Eq. 11.9 em Verruijt, 2010, Soil Mechanics)\n",
    "\n",
    "$$h = \\sum_{n=1}^N \\frac{Q_n}{2\\pi kH} \\ln\\left(\\frac{r_n}{R}\\right)$$\n",
    "\n",
    "onde $Q_n$ é a descarga do poço $n$ (positiva em relação à extração) situado em $(x_n,y_n)$, e em que $r_n=\\sqrt{(x-x_n)^2+(y-y_n)^2}$ é a distância do poço $n$.\n",
    "\n",
    "Escreva uma classe `Well` que armazene a localização de um poço, a descarga de um poço, o raio $R$ da área circular e os parâmetros do aquífero $k$ e $H$. A classe do poço tem um método designado `head`, que assume as coordenadas $x,y$ como argumentos de entrada e devolve a contribuição do poço para a cabeceira em $x,y$ (o termo $Q_n/(2\\pi kH)\\ln(r_n/R)$ no somatório acima).\n",
    "\n",
    "Teste a sua implementação para um aquífero com $k=2$ m/d, $H=10$ m, $R=1000$ m e um sistema de três poços: um poço de extração (com descarga positiva) e dois poços de injeção (com descarga negativa).\n",
    "\n",
    "* $(x_w,y_w)=(0,0)$, $Q=100$ m$^3$/d\n",
    "* $(x_w,y_w)=(-20,0)$, $Q=-50$ m$^3$/d\n",
    "* $(x_w,y_w)=(20,0)$, $Q=-50$ m$^3$/d\n",
    "\n",
    "Quando a implementação estiver correta, a cabeceira provocada pelos três poços em $(x,y)=(20,5)$ será de 0,2968 m. Atenção: não caia na ratoeira da divisão de números inteiros (lembre-se de que `1/2 = 0` enquanto `1,0 / 2 = 0,5`). Represente graficamente a variação da cabeceira ao longo da linha $y=1$ para $x$ com variação de -40 a +40."
   ]
  },
  {
   "cell_type": "markdown",
   "metadata": {},
   "source": [
    "<a href=\"#ex2answer\">Soluções do Exercício 2</a>"
   ]
  },
  {
   "cell_type": "markdown",
   "metadata": {},
   "source": [
    "### Arrays são objetos\n",
    "Agora que aprendeu sobre a OOP, poderá verificar que muitas das funcionalidades de Python que utiliza são, de facto, baseadas em OOP. Por exemplo, quando cria um array, o array é um objeto."
   ]
  },
  {
   "cell_type": "code",
   "execution_count": 13,
   "metadata": {},
   "outputs": [
    {
     "name": "stdout",
     "output_type": "stream",
     "text": [
      "tipo de x: <class 'numpy.ndarray'>\n"
     ]
    }
   ],
   "source": [
    "x = np.arange(12)\n",
    "print('tipo de x:', type(x))"
   ]
  },
  {
   "cell_type": "markdown",
   "metadata": {},
   "source": [
    "Assim, um array tem atributos e métodos de classe associados. Pode escrever `dir(x)` para encontrar todos os atributos e métodos (há muitos). Alguns dos atributos de um array incluem o número de dimensões e a forma. Pode até mudar a forma (desde que se certifique de que a forma se adequa ao array) ao alterar o atributo da forma."
   ]
  },
  {
   "cell_type": "code",
   "execution_count": 14,
   "metadata": {},
   "outputs": [
    {
     "name": "stdout",
     "output_type": "stream",
     "text": [
      "número de dimensões de x: 1\n",
      "forma de x: (12,)\n",
      "nova forma de x: (4, 3)\n",
      "[[ 0  1  2]\n",
      " [ 3  4  5]\n",
      " [ 6  7  8]\n",
      " [ 9 10 11]]\n"
     ]
    }
   ],
   "source": [
    "print('número de dimensões de x:', x.ndim)\n",
    "print('forma de x:', x.shape)\n",
    "x.shape = (4, 3)\n",
    "print('nova forma de x:', x.shape)\n",
    "print(x)"
   ]
  },
  {
   "cell_type": "markdown",
   "metadata": {},
   "source": [
    "Um array também tem várias funções, incluindo uma função que devolve o valor médio do array ou o valor máximo de um array."
   ]
  },
  {
   "cell_type": "code",
   "execution_count": 15,
   "metadata": {},
   "outputs": [
    {
     "name": "stdout",
     "output_type": "stream",
     "text": [
      "média de x:  5.5\n",
      "máximo de x:   11\n"
     ]
    }
   ],
   "source": [
    "print('média de x: ', x.mean())\n",
    "print('máximo de x:  ', x.max())"
   ]
  },
  {
   "cell_type": "markdown",
   "metadata": {},
   "source": [
    "### As funcionalidades de representação gráfica são objetos\n",
    "Todos os comandos de representação gráfica que utilizámos até agora são funções que fazem parte do pacote `matplotlib`. Não é, por isso, surpreendente que o pacote `matplotlib` tenha um design focado no objeto. As representações gráficas podem ser criadas a partir do uso de estruturas focadas no objeto. Isto requer um pouco de escrita adicional mas, no final, obtemos flexibilidade extra e a capacidade de criar animações.\n",
    "\n",
    "Através da sintaxe OO, criamos, em primeiro lugar, um objeto `figure` e especificamos o tamanho através do argumento de palavra-chave `figsize` (o tamanho da figura é especificado em polegadas). Depois, adicionamos um eixo à figura com o comando `add_axes` (note que é `axes` com um `e`) ao especificar a localização *relativa* do eixo na figura. As localizações da esquerda, base, largura e altura são especificadas em coordenadas relativas (ambas as direções vertical e horizontal vão de 0 a 1). Para a representação gráfica, utilizamos o método `plot` do eixo."
   ]
  },
  {
   "cell_type": "code",
   "execution_count": 16,
   "metadata": {},
   "outputs": [
    {
     "data": {
      "image/png": "[encoded data removed]",
      "text/plain": [
       "<matplotlib.figure.Figure at 0x10aba4e48>"
      ]
     },
     "metadata": {},
     "output_type": "display_data"
    }
   ],
   "source": [
    "x = np.linspace(0, 2, 100)\n",
    "y = x ** 2\n",
    "fig = plt.figure(figsize=(10, 5))\n",
    "ax1 = fig.add_axes([0.1, 0.1, 0.8, 0.8])\n",
    "ax1.plot(x, y, 'b')\n",
    "ax1.set_xlabel('x')\n",
    "ax1.set_ylabel('y')\n",
    "ax1.set_title('Figura exemplo');"
   ]
  },
  {
   "cell_type": "markdown",
   "metadata": {},
   "source": [
    "Podemos acrescentar o número de eixos que quisermos à figura e decidir exatamente onde cada eixo se situa."
   ]
  },
  {
   "cell_type": "code",
   "execution_count": 17,
   "metadata": {},
   "outputs": [
    {
     "data": {
      "image/png": "[encoded data removed]",
      "text/plain": [
       "<matplotlib.figure.Figure at 0x10aba4240>"
      ]
     },
     "metadata": {},
     "output_type": "display_data"
    }
   ],
   "source": [
    "x = np.linspace(0, 2, 100)\n",
    "y = x ** 2\n",
    "fig = plt.figure(figsize=(10, 5))\n",
    "ax1 = fig.add_axes([0.1, 0.1, 0.8, 0.8])\n",
    "ax1.plot(x, y, 'b')\n",
    "ax1.set_xlabel('x')\n",
    "ax1.set_ylabel('y')\n",
    "ax1.set_title('Figura exemplo')\n",
    "ax2 = fig.add_axes([0.15, 0.5, 0.4, 0.3])\n",
    "ax2.plot(x,-y,'r')\n",
    "ax2.set_title('Segundo eixo');"
   ]
  },
  {
   "cell_type": "markdown",
   "metadata": {},
   "source": [
    "### Matplotlib patches\n",
    "O pacote de representação gráfica `matplotlib` inclui um conjunto de classes para definir formas, designadas *patches* em `matplotlib`. Existem *patches* para muitas formas diferentes incluindo círculos, elipses, polígonos, fatias e setas. Aqui aprendemos a desenhar estes patches. Num notebook futuro, aprenderemos a movê-las de forma interativa.\n",
    "\n",
    "O processo de inclusão de um *patch* num gráfico é sempre igual. Em primeiro lugar, cria um eixo, depois um objeto de *patch* e, em seguida, adiciona o objeto de *patch* ao eixo. Cada objeto de *patch* tem alguns argumentos de entrada e vários argumentos de palavra-chave. Os argumentos de palavra-chave incluem: `ec` para a cor do contorno, `fc` para a cor da superfície, `alpha` para a transparência e `zorder` para a ordem em que são representados (o *patch* com o valor de `zorder` superior fica por cima). Os nomes de todas as classes de *patch* começam por maiúscula: `Circle`, `Ellipse`, `Polygon`, `Wedge`, `Arrow`. Para poderem ser usadas, estas classes têm de ser importadas através da sintaxe `matplotlib.patches`. Use o sistema de ajuda para saber mais acerca dos argumentos de entrada necessários. O gráfico abaixo contém dois círculos, estando o mais pequeno em cima do maior. A cor da superfície do gráfico é a mesma do círculo pequeno para que pareça que o círculo grande tem um orifício. A proporção do eixo é definida como `'equal'` no momento de criar o gráfico. A função `autoscale` tem de ser calculada para definir os limites dos eixos, de modo a que os *patches* se adequem devidamente ao eixo. Em alternativa, pode executar as funções `ax.set_xlim` e `ax.set_ylim` para selecionar limites à sua escolha."
   ]
  },
  {
   "cell_type": "code",
   "execution_count": 18,
   "metadata": {},
   "outputs": [
    {
     "data": {
      "image/png": "[encoded data removed]",
      "text/plain": [
       "<matplotlib.figure.Figure at 0x112649828>"
      ]
     },
     "metadata": {},
     "output_type": "display_data"
    }
   ],
   "source": [
    "from matplotlib.patches import Circle\n",
    "fig = plt.figure()\n",
    "ax = fig.add_axes([.1, .1, .8, .8], facecolor='violet', aspect='equal')\n",
    "small = Circle(xy=(3, 5), radius=1, fc='violet', ec='violet', zorder=2)\n",
    "big = Circle(xy=(2, 4), radius=3, fc='dodgerblue', ec='dodgerblue', zorder=1)\n",
    "ax.add_patch(small)\n",
    "ax.add_patch(big)\n",
    "ax.autoscale()"
   ]
  },
  {
   "cell_type": "markdown",
   "metadata": {},
   "source": [
    "### <a name=\"back3\"></a>Exercício 3. Matplotlib patches\n",
    "Escreva código Python para criar a figura apresentada abaixo, utilizando *patches* do pacote `matplotlib`. Use cores à sua escolha. Escreva 'círculo', 'elipse', etc. no interior dos *patches* correspondentes, utilizando a função `ax.text`.\n",
    "\n",
    "<img src=\"http://i.imgur.com/ObuPLD7.png\" alt=\"Patches\" width=800pt>"
   ]
  },
  {
   "cell_type": "markdown",
   "metadata": {},
   "source": [
    "<a href=\"#ex3answer\">Soluções do Exercício 3</a>"
   ]
  },
  {
   "cell_type": "markdown",
   "metadata": {},
   "source": [
    "### Soluções dos exercícios"
   ]
  },
  {
   "cell_type": "markdown",
   "metadata": {},
   "source": [
    "<a name=\"ex1answer\">Soluções do Exercício 1</a>"
   ]
  },
  {
   "cell_type": "code",
   "execution_count": 19,
   "metadata": {},
   "outputs": [
    {
     "name": "stdout",
     "output_type": "stream",
     "text": [
      "área total: 67.8963703559\n"
     ]
    },
    {
     "data": {
      "image/png": "[encoded data removed]",
      "text/plain": [
       "<matplotlib.figure.Figure at 0x1127a2390>"
      ]
     },
     "metadata": {},
     "output_type": "display_data"
    }
   ],
   "source": [
    "class Circle:\n",
    "    def __init__(self, x0, y0, R):\n",
    "        self.x0 = x0\n",
    "        self.y0 = y0\n",
    "        self.R = R\n",
    "    def area(self):\n",
    "        A = np.pi * self.R ** 2\n",
    "        return A\n",
    "    def plot(self, Rstar):\n",
    "        if self.R < Rstar:\n",
    "            color = 'b'\n",
    "        else:\n",
    "            color = 'r'\n",
    "        alpha = np.linspace(0, 2 * np.pi, 100)\n",
    "        plt.fill(self.x0 + self.R * np.cos(alpha), self.y0 + self.R * np.sin(alpha), \n",
    "                 color=color, alpha=0.5)\n",
    "\n",
    "data = np.loadtxt('circle_data.txt')\n",
    "clist = []\n",
    "for i in range(20):\n",
    "    c = Circle(data[i, 0], data[i, 1], data[i, 2])\n",
    "    clist.append(c)\n",
    "areatot = 0.0\n",
    "plt.figure()\n",
    "for c in clist:\n",
    "    areatot += c.area()\n",
    "    c.plot(1.0)\n",
    "plt.axis('scaled')\n",
    "print('área total:', areatot)"
   ]
  },
  {
   "cell_type": "markdown",
   "metadata": {},
   "source": [
    "<a href=\"#back1\">Voltar ao Exercício 1</a>\n",
    "\n",
    "<a name=\"ex2answer\">Soluções do Exercício 2</a>"
   ]
  },
  {
   "cell_type": "code",
   "execution_count": 20,
   "metadata": {},
   "outputs": [
    {
     "name": "stdout",
     "output_type": "stream",
     "text": [
      "head em (20, 5) é: 0.296831810871\n"
     ]
    },
    {
     "data": {
      "image/png": "[encoded data removed]",
      "text/plain": [
       "<matplotlib.figure.Figure at 0x1127a2908>"
      ]
     },
     "metadata": {},
     "output_type": "display_data"
    }
   ],
   "source": [
    "class Well:\n",
    "    def __init__(self, xw, yw, Q, k, H, R):\n",
    "        self.xw = xw\n",
    "        self.yw = yw\n",
    "        self.Q = Q\n",
    "        self.k = k\n",
    "        self.H = H\n",
    "        self.R = R\n",
    "    def head(self, x, y):\n",
    "        r = np.sqrt((x - self.xw) ** 2 + (y - self.yw) ** 2)\n",
    "        h = self.Q / (2 * np.pi * self.k * self.H) * np.log(r / self.R)\n",
    "        return h\n",
    "    \n",
    "w1 = Well(0, 0, 100, 2, 10, 1000)\n",
    "w2 = Well(-20, 0, -50, 2, 10, 1000)\n",
    "w3 = Well(20, 0, -50, 2, 10, 1000)\n",
    "wells = [w1, w2, w3]\n",
    "\n",
    "h = 0.0\n",
    "for w in wells:\n",
    "    h += w.head(20, 5)\n",
    "print('head em (20, 5) é:', h)\n",
    "\n",
    "x = np.linspace(-40, 40, 101)\n",
    "h = np.zeros_like(x)\n",
    "for w in wells:\n",
    "    h += w.head(x, 1)\n",
    "plt.figure()\n",
    "plt.plot(x, h)\n",
    "plt.xlabel('x')\n",
    "plt.ylabel('head ao longo de y=1');"
   ]
  },
  {
   "cell_type": "markdown",
   "metadata": {},
   "source": [
    "<a href=\"#back2\">Voltar ao Exercício 2</a>\n",
    "\n",
    "<a name=\"ex3answer\">Soluções do Exercício 3</a>"
   ]
  },
  {
   "cell_type": "code",
   "execution_count": 21,
   "metadata": {},
   "outputs": [
    {
     "data": {
      "image/png": "[encoded data removed]",
      "text/plain": [
       "<matplotlib.figure.Figure at 0x1127a28d0>"
      ]
     },
     "metadata": {},
     "output_type": "display_data"
    }
   ],
   "source": [
    "from matplotlib.patches import Circle, Ellipse, Polygon, Arrow, Wedge\n",
    "fig = plt.figure(figsize=(10, 5))\n",
    "ax = fig.add_axes([.1, .1, .8, .8], aspect='equal')\n",
    "c1 = Circle(xy=(0, 0), radius=2, fc='dodgerblue')\n",
    "ax.add_patch(c1)\n",
    "a1 = Arrow(x=2, y=0, dx=2, dy=0, fc='r')\n",
    "ax.add_patch(a1)\n",
    "e1 = Ellipse(xy=(8, 0), width=8, height=4, fc='b')\n",
    "ax.add_patch(e1)\n",
    "a2 = Arrow(x=0, y=2, dx=0, dy=2, fc='r')\n",
    "ax.add_patch(a2)\n",
    "w1 = Wedge(center=(0, 6), r=2, theta1=45, theta2=0, fc='b')\n",
    "ax.add_patch(w1)\n",
    "a3 = Arrow(x=-2, y=0, dx=-2, dy=0, fc='r')\n",
    "ax.add_patch(a3)\n",
    "p1 = Polygon(xy=[(-4, 0), (-6, 2), (-8, 1.5), (-10, 0),\n",
    "                 (-10, -1.5), (-7, -2)], fc='b')\n",
    "ax.add_patch(p1)\n",
    "ax.set_xlim(-10, 12)\n",
    "ax.set_xticks(np.arange(-10, 13))\n",
    "ax.set_ylim(-2, 8)\n",
    "ax.set_yticks(np.arange(-2, 9, 1))\n",
    "ax.text(0, 0, 'círculo', ha='center')\n",
    "ax.text(8, 0, 'elipse', ha='center')\n",
    "ax.text(-7, 0, 'polígono', ha='center')\n",
    "ax.text(0, 5, 'fatia', ha='center');"
   ]
  },
  {
   "cell_type": "markdown",
   "metadata": {},
   "source": [
    "<a href=\"#back3\">Voltar ao Exercício 3</a>"
   ]
  },
  {
   "cell_type": "markdown",
   "metadata": {},
   "source": [
    "A obra \"Notebook 12: Programação orientada a objetos\" é um derivado de [Notebook 12: Object oriented programming](http://nbviewer.jupyter.org/github/mbakker7/exploratory_computing_with_python/blob/master/notebook12_oop/py_exploratory_comp_12_sol.ipynb) de [mbakker7](https://github.com/mbakker7), sob a [licença CC BY (4.0 Licença Internacional)](https://creativecommons.org/licenses/by/4.0/deed.pt). \"Notebook 12: Programação orientada a objetos\" é publicado sob a [licença CC BY (4.0 Licença Internacional)](https://creativecommons.org/licenses/by/4.0/deed.pt) por Educa2030."
   ]
  }
 ],
 "metadata": {
  "kernelspec": {
   "display_name": "Python 3",
   "language": "python",
   "name": "python3"
  },
  "language_info": {
   "codemirror_mode": {
    "name": "ipython",
    "version": 3
   },
   "file_extension": ".py",
   "mimetype": "text/x-python",
   "name": "python",
   "nbconvert_exporter": "python",
   "pygments_lexer": "ipython3",
   "version": "3.6.3"
  }
 },
 "nbformat": 4,
 "nbformat_minor": 1
}
