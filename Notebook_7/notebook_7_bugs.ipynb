{
 "cells": [
  {
   "cell_type": "markdown",
   "metadata": {},
   "source": [
    "## Notebook 7: Bugs"
   ]
  },
  {
   "cell_type": "code",
   "execution_count": null,
   "metadata": {
    "collapsed": true
   },
   "outputs": [],
   "source": [
    "import numpy as np\n",
    "import matplotlib.pyplot as plt\n",
    "%matplotlib inline"
   ]
  },
  {
   "cell_type": "markdown",
   "metadata": {},
   "source": [
    "Acontece a qualquer um que escreva código: por vezes, cometem-se erros. Os erros no código, conhecidos como *bugs*, podem ser divididos em dois tipos. O primeiro consiste nos erros de sintaxe, situação em que o Python apresenta uma mensagem de erro. Depois de resolver todos os erros de sintaxe, o código pode ser executado, o que não significa, infelizmente, que obtenha a resposta que pretende. Podem permanecer um ou mais bugs na sua lógica. Para encontrar estes bugs, muitas vezes é útil testar pequenas partes do código em separado e escrever várias instruções print. Existem também ferramentas, designadas por programas de depuração ou debuggers, que ajudam a testar excertos do código para analisar os resultados intermédios. Infelizmente, estes não indicam qual é o problema: continua a caber ao programador encontrá-lo. \n",
    "\n",
    "Neste Notebook, vamos abordar vários erros de sintaxe. Os erros de sintaxe podem ser bastante longos, uma vez que geram um traceback, isto é, um conjunto de informações que indicam a função que apresenta o erro e a parte do código em que se encontra. A estratégia para descobrir o que se passa é ler a última frase da mensagem de erro. Esta mensagem de erro tem o objetivo de informar acerca do que está a ser feito incorretamente. Por vezes, é simples para o Python descobrir o que está errado e a mensagem de erro é bastante informativa. Outras vezes, o erro pode ser bastante mais complexo e o Python apresenta uma mensagem de erro que não explica de forma muito percetível o que está errado. A segunda informação importante é o facto de o Python mostrar em que linha do código identificou o problema. Apresenta algumas linhas do código no ecrã e indica a linha onde o erro ocorreu através de uma seta.\n",
    "\n",
    "Este Notebook não é, de todo, exaustivo. Vamos abordar vários erros de sintaxe, sendo que pode começar a reconhecê-los, o que vai proporcionar uma abordagem prática ao tentar resolver erros."
   ]
  },
  {
   "cell_type": "markdown",
   "metadata": {},
   "source": [
    "### `IndexError: list index out of range`\n",
    "Como primeiro exemplo, execute o código abaixo:"
   ]
  },
  {
   "cell_type": "code",
   "execution_count": null,
   "metadata": {},
   "outputs": [],
   "source": [
    "x = [1, 2, 3]\n",
    "for i in range(4):\n",
    "    print(x[i])"
   ]
  },
  {
   "cell_type": "markdown",
   "metadata": {},
   "source": [
    "Será apresentada a mensagem de erro `IndexError: list index out of range` e uma seta na linha do código onde ocorreu o erro. Esta mensagem faz sentido de imediato: o comprimento do array `x` é 3 (assim, `x[0]`, `x[1]` e `x[2]`), enquanto tenta apresentar `x[3]`. Corrija o código e execute-o novamente."
   ]
  },
  {
   "cell_type": "markdown",
   "metadata": {},
   "source": [
    "### `invalid syntax`\n",
    "Uma mensagem de erro muito comum é `invalid syntax`. Isto significa que está a tentar realizar uma ação que o Python não compreende. É bem possível que seja um erro de digitação, que pode localizar observando o código minuciosamente. Por exemplo, execute o código abaixo:"
   ]
  },
  {
   "cell_type": "code",
   "execution_count": null,
   "metadata": {},
   "outputs": [],
   "source": [
    "a = 7 \n",
    "if a = 8:\n",
    "    print('o valor de a é igual a 8')"
   ]
  },
  {
   "cell_type": "markdown",
   "metadata": {},
   "source": [
    "Da mesma forma, caso se esqueça de adicionar dois pontos, será apresentado o erro `invalid syntax`. O Python apresenta o caráter (`^`) quando não compreende o que está errado."
   ]
  },
  {
   "cell_type": "code",
   "execution_count": null,
   "metadata": {},
   "outputs": [],
   "source": [
    "avalue = 7 \n",
    "if avalue < 10\n",
    "    print('o valor de avalue é menor do que 10')"
   ]
  },
  {
   "cell_type": "markdown",
   "metadata": {},
   "source": [
    "Neste caso, o erro é o facto de a instrução `a = 8` requerer dois sinais de igual. Corrija o código e volte a executá-lo."
   ]
  },
  {
   "cell_type": "markdown",
   "metadata": {},
   "source": [
    "Outras vezes, o erro de sintaxe pode não ser tão óbvio, por exemplo, no código abaixo:"
   ]
  },
  {
   "cell_type": "code",
   "execution_count": null,
   "metadata": {},
   "outputs": [],
   "source": [
    "plt.plot([1,2,3]\n",
    "plt.title('Nice plot')"
   ]
  },
  {
   "cell_type": "markdown",
   "metadata": {},
   "source": [
    "Pode olhar durante o tempo que quiser para a linha `plt.title('Nice plot')`, mas parece estar tudo bem. E está mesmo! O problema está na linha imediatamente acima, onde falta fechar os parênteses curvos. O Python percebe que a representação gráfica continua na linha seguinte, mas o comando `plt.title` não faz sentido na função `plt.plot` e, por isso, apresenta uma mensagem de erro. Não consegue fazer muito mais. Corrija o parêntese e execute o código novamente."
   ]
  },
  {
   "cell_type": "markdown",
   "metadata": {},
   "source": [
    "### Mensagens de erro mais longas\n",
    "As mensagens de erro podem ser bastante longas, dependendo do local do código onde ocorreu o erro. No código abaixo, o erro ocorre na linha `plt.plot(xdata, ydata)`, a qual executa uma função do pacote `matplotlib`, apresentando o erro quando tenta representar `y` vs. `x` (com uma mensagem de erro genérica do `matplotlib`; não substitui os nomes dos arrays que quer efetivamente representar). Execute o código:"
   ]
  },
  {
   "cell_type": "code",
   "execution_count": null,
   "metadata": {},
   "outputs": [],
   "source": [
    "def func_exp(x, a=2, b=3):\n",
    "    y = b * np.exp(-a * x)\n",
    "\n",
    "xdata = np.linspace(0, 4, 10)\n",
    "ydata = func_exp(xdata, b=4, a=1)\n",
    "\n",
    "plt.plot(xdata, ydata);"
   ]
  },
  {
   "cell_type": "markdown",
   "metadata": {},
   "source": [
    "Mais uma vez, parece estar tudo bem com o código, mas o `matplotlib` apresenta o erro `x and y must not be None`. Note que `x` e `y` se referem a `xdata` e `ydata`, porque essa é a instrução do código. Aparentemente, o `xdata` ou o `ydata` é igual a `None`. O que tem de fazer aqui é apresentar `xdata` e `ydata` no ecrã através de uma instrução print."
   ]
  },
  {
   "cell_type": "code",
   "execution_count": null,
   "metadata": {},
   "outputs": [],
   "source": [
    "print(xdata)\n",
    "print(ydata)"
   ]
  },
  {
   "cell_type": "markdown",
   "metadata": {},
   "source": [
    "Como pode observar, o elemento `xdata` é um array com 10 valores, mas `ydata` é `None`. O erro está na função `func_exp` que está definida. Esta função não devolve o valor de `y` que está a ser calculado. Corrija a função e execute o código novamente."
   ]
  },
  {
   "cell_type": "markdown",
   "metadata": {},
   "source": [
    "### Exercícios\n",
    "A melhor forma de aprender a resolver erros de código é com a prática. Considere os seguintes fragmentos de código. Cada fragmento de código contém um ou dois erros de sintaxe. Cabe-lhe corrigir o erro para o código ser executado corretamente. Note que tem de efetuar alterações em uma ou duas linhas de cada fragmento de código."
   ]
  },
  {
   "cell_type": "markdown",
   "metadata": {},
   "source": [
    "### Exercício 1 <a name=\"back1\"></a>"
   ]
  },
  {
   "cell_type": "code",
   "execution_count": null,
   "metadata": {},
   "outputs": [],
   "source": [
    "y = (xvalues + 2) * (xvalues - 1) * (xvalues - 2)\n",
    "xvalues = linspace(-3, 3, 100)\n",
    "plt.plot(xvalues, y, 'r--')\n",
    "plt.plot([-2, 1, 2], [0 ,0, 0], 'bo', markersize=10)\n",
    "plt.xlabel('x-axis')\n",
    "plt.ylabel('y-axis')\n",
    "plt.title('Nice Python figure!')"
   ]
  },
  {
   "cell_type": "markdown",
   "metadata": {},
   "source": [
    "<a href=\"#ex1answer\">Solução do Exercício 1</a>"
   ]
  },
  {
   "cell_type": "markdown",
   "metadata": {},
   "source": [
    "### Exercício 2 <a name=\"back2\"></a>"
   ]
  },
  {
   "cell_type": "code",
   "execution_count": null,
   "metadata": {},
   "outputs": [],
   "source": [
    "def test(x, alpha):\n",
    "    return np.exp(-alpha * x) * np.cos(x)\n",
    "x = np.linspace(0, 10np.pi, 100)\n",
    "alpha = 0.2\n",
    "y = test(x)\n",
    "plt.plot(x, y, 'b')\n",
    "plt.xlabel('x')\n",
    "plt.ylabel('f(x)')"
   ]
  },
  {
   "cell_type": "markdown",
   "metadata": {},
   "source": [
    "<a href=\"#ex2answer\">Solução do Exercício 2</a>"
   ]
  },
  {
   "cell_type": "markdown",
   "metadata": {},
   "source": [
    "### Exercício 3 <a name=\"back3\"></a>"
   ]
  },
  {
   "cell_type": "code",
   "execution_count": null,
   "metadata": {},
   "outputs": [],
   "source": [
    "temperature = np.loadtxt('rome_temp.txt')\n",
    "plt.plot(np.arange(1, 13), temperature, 'k--')\n",
    "for i in range(len(temperature)):\n",
    "    if temperature[i] < 15:\n",
    "        plt.plot(i + 1, temperature[i], 'bo')\n",
    "    else\n",
    "        plt.plot(i + 1, temperature[i], 'ro')\n",
    "plt.xlim(1, 12)\n",
    "plt.xlabel('mês')\n",
    "plt.ylabel('temperatura (Celcius)')"
   ]
  },
  {
   "cell_type": "markdown",
   "metadata": {},
   "source": [
    "<a href=\"#ex3answer\">Solução do Exercício 3</a>"
   ]
  },
  {
   "cell_type": "markdown",
   "metadata": {},
   "source": [
    "### Exercício 4 <a name=\"back4\"></a>"
   ]
  },
  {
   "cell_type": "code",
   "execution_count": null,
   "metadata": {},
   "outputs": [],
   "source": [
    "a = np.array([2, 2, 4, 2, 4, 4])\n",
    "\n",
    "for i in range(a):\n",
    "    if a[i] < 3:  # substitua o valor por 77 quando o valor for igual \n",
    "        a[i] = 77\n",
    "    else:  # caso contrário, substitua o valor por -77\n",
    "        a[i] = -77\n",
    "print('a modificado:' a)"
   ]
  },
  {
   "cell_type": "markdown",
   "metadata": {},
   "source": [
    "<a href=\"#ex4answer\">Solução do Exercício 4</a>"
   ]
  },
  {
   "cell_type": "markdown",
   "metadata": {},
   "source": [
    "### Exercício 5 <a name=\"back5\"></a>"
   ]
  },
  {
   "cell_type": "code",
   "execution_count": null,
   "metadata": {},
   "outputs": [],
   "source": [
    "y = np.zeros(20, 20)\n",
    "y[8:13] = 10\n",
    "plt.matshow(y)\n",
    "plt.title(image of array y);"
   ]
  },
  {
   "cell_type": "markdown",
   "metadata": {},
   "source": [
    "<a href=\"#ex5answer\">Solução do Exercício 5</a>"
   ]
  },
  {
   "cell_type": "markdown",
   "metadata": {},
   "source": [
    "### Soluções dos exercícios"
   ]
  },
  {
   "cell_type": "markdown",
   "metadata": {},
   "source": [
    "<a name=\"ex1answer\">Solução do Exercício 1</a>"
   ]
  },
  {
   "cell_type": "code",
   "execution_count": null,
   "metadata": {},
   "outputs": [],
   "source": [
    "xvalues = np.linspace(-3, 3, 100)  # os xvalues devem ser posicionados antes de y. linspace deve ser np.linspace\n",
    "y = (xvalues + 2) * (xvalues - 1) * (xvalues - 2)\n",
    "plt.plot(xvalues, y, 'r--')\n",
    "plt.plot([-2, 1, 2], [0 ,0, 0], 'bo', markersize=10)\n",
    "plt.xlabel('x-axis')\n",
    "plt.ylabel('y-axis')\n",
    "plt.title('Nice Python figure!');"
   ]
  },
  {
   "cell_type": "markdown",
   "metadata": {},
   "source": [
    "<a href=\"#back1\">Voltar ao Exercício 1</a>\n",
    "\n",
    "<a name=\"ex2answer\">Solução do Exercício 2</a>"
   ]
  },
  {
   "cell_type": "code",
   "execution_count": null,
   "metadata": {},
   "outputs": [],
   "source": [
    "def test(x, alpha):\n",
    "    return np.exp(-alpha * x) * np.cos(x)\n",
    "x = np.linspace(0, 10 * np.pi, 100)  # * entre 10 e np.pi\n",
    "alpha = 0.2\n",
    "y = test(x, alpha)  # esqueceu-se de passar alpha para teste\n",
    "plt.plot(x, y, 'b')\n",
    "plt.xlabel('x')\n",
    "plt.ylabel('f(x)');"
   ]
  },
  {
   "cell_type": "markdown",
   "metadata": {},
   "source": [
    "<a href=\"#back2\">Voltar ao Exercício 2</a>\n",
    "\n",
    "<a name=\"ex3answer\">Solução do Exercício 3</a>"
   ]
  },
  {
   "cell_type": "code",
   "execution_count": null,
   "metadata": {},
   "outputs": [],
   "source": [
    "temperature = np.loadtxt('rome_temp.dat')  # rome_temp.dat\n",
    "plt.plot(np.arange(1, 13), temperature, 'k--')\n",
    "for i in range(len(temperature)):\n",
    "    if temperature[i] < 15:\n",
    "        plt.plot(i + 1, temperature[i], 'bo')\n",
    "    else:  # add colon\n",
    "        plt.plot(i + 1, temperature[i], 'ro')\n",
    "plt.xlim(1, 12)\n",
    "plt.xlabel('mês')\n",
    "plt.ylabel('temperatura (Celcius)');"
   ]
  },
  {
   "cell_type": "markdown",
   "metadata": {},
   "source": [
    "<a href=\"#back3\">Voltar ao Exercício 3</a>\n",
    "\n",
    "<a name=\"ex4answer\">Solução do Exercício 4</a>"
   ]
  },
  {
   "cell_type": "code",
   "execution_count": null,
   "metadata": {},
   "outputs": [],
   "source": [
    "a = np.array([2, 2, 4, 2, 4, 4])\n",
    "\n",
    "for i in range(len(a)):  # range(len(a)) i.o. range(a)\n",
    "    if a[i] < 3:  # substitua o valor por 77 quando o valor for igual a 2\n",
    "        a[i] = 77\n",
    "    else:  # caso contrário, substitua o valor por -77\n",
    "        a[i] = -77\n",
    "print('a modificado:', a)  # vírgula adicionada"
   ]
  },
  {
   "cell_type": "markdown",
   "metadata": {},
   "source": [
    "<a href=\"#back4\">Voltar ao Exercício 4</a>\n",
    "\n",
    "<a name=\"ex5answer\">Solução do Exercício 5</a>"
   ]
  },
  {
   "cell_type": "code",
   "execution_count": null,
   "metadata": {},
   "outputs": [],
   "source": [
    "y = np.zeros((20, 20))  # adicione parêntesis em (20, 20)\n",
    "y[8:13] = 10\n",
    "plt.matshow(y)\n",
    "plt.title('image of array y');  # adicione aspas na string de texto"
   ]
  },
  {
   "cell_type": "markdown",
   "metadata": {},
   "source": [
    "<a href=\"#back5\">Voltar ao Exercício 5</a>"
   ]
  },
  {
   "cell_type": "markdown",
   "metadata": {},
   "source": [
    "A obra \"Notebook 7: Bugs\" é um derivado de [Notebook 7: Bugs](http://nbviewer.jupyter.org/github/mbakker7/exploratory_computing_with_python/blob/master/notebook7_bugs/py_exploratory_comp_7_sol.ipynb) de [mbakker7](https://github.com/mbakker7), sob a licença CC BY (4.0 Licença Internacional).\n",
    "\"Notebook 7: Bugs\" é publicado sob a licença CC BY (4.0 Licença Internacional) por Educa2030."
   ]
  }
 ],
 "metadata": {
  "kernelspec": {
   "display_name": "Python 3",
   "language": "python",
   "name": "python3"
  },
  "language_info": {
   "codemirror_mode": {
    "name": "ipython",
    "version": 3
   },
   "file_extension": ".py",
   "mimetype": "text/x-python",
   "name": "python",
   "nbconvert_exporter": "python",
   "pygments_lexer": "ipython3",
   "version": "3.6.3"
  }
 },
 "nbformat": 4,
 "nbformat_minor": 1
}
