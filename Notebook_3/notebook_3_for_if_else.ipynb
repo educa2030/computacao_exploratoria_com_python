{
 "cells": [
  {
   "cell_type": "markdown",
   "metadata": {},
   "source": [
    "## Notebook 3: Ciclos `for` e instruções `if/else`\n",
    "Uma vez que vamos voltar a utilizar os pacotes `numpy` e `matplotlib`, vamos começar por importá-los:"
   ]
  },
  {
   "cell_type": "code",
   "execution_count": null,
   "metadata": {
    "collapsed": true
   },
   "outputs": [],
   "source": [
    "import matplotlib.pyplot as plt\n",
    "import numpy as np\n",
    "%matplotlib inline"
   ]
  },
  {
   "cell_type": "markdown",
   "metadata": {},
   "source": [
    "### O ciclo `for`\n",
    "Os ciclos são utilizados para executar um comando repetidamente. A sintaxe para um ciclo é a seguinte:"
   ]
  },
  {
   "cell_type": "code",
   "execution_count": null,
   "metadata": {
    "collapsed": true
   },
   "outputs": [],
   "source": [
    "for i in [0, 1, 2, 3, 4]:\n",
    "    print('Olá Mundo', i)"
   ]
  },
  {
   "cell_type": "markdown",
   "metadata": {},
   "source": [
    "No código acima, a variável `i` repete-se nos cinco valores da lista `[0, 1, 2, 3, 4]`. Na primeira vez, o valor de `i` é igual a `0`; na segunda vez, o seu valor é `1` e assim sucessivamente, até à última vez em que o valor é `4`. Repare na sintaxe de um ciclo `for`. No final de uma instrução `for`, é necessário colocar dois pontos (`:`) e, em seguida, fazer a indentação. Não interessa quantos espaços indenta, desde que continue a utilizar o mesmo número de espaços em todo o ciclo `for`. Os Notebooks Jupyter indentam automaticamente 4 espaços, o que é considerado uma boa prática em Python, por isso, aplique-a. Pode ter a quantidade de linhas de código que quiser dentro de um ciclo `for`. Para terminar um ciclo `for`, basta parar a indentação."
   ]
  },
  {
   "cell_type": "code",
   "execution_count": null,
   "metadata": {
    "collapsed": true
   },
   "outputs": [],
   "source": [
    "for x in [0, 1, 2, 3]: \n",
    "    xsquared = x ** 2\n",
    "    print('x, xquadrado', x, xsquared)\n",
    "print('Está terminado o ciclo')"
   ]
  },
  {
   "cell_type": "markdown",
   "metadata": {},
   "source": [
    "A lista de valores a repetir pode ser qualquer coisa. Nem precisa de ser números. O ciclo `for` vai simplesmente ser executado a todos os valores da lista, um a um:"
   ]
  },
  {
   "cell_type": "code",
   "execution_count": null,
   "metadata": {
    "collapsed": true
   },
   "outputs": [],
   "source": [
    "for data in [20, 'mark', np.sqrt(10)]:\n",
    "    print('o valor de data é:', data)"
   ]
  },
  {
   "cell_type": "markdown",
   "metadata": {},
   "source": [
    "É claro que se torna muito inconveniente ter de especificar uma lista para repetir quando a lista é muito longa. Por exemplo, se quer fazer algo 100 vezes, não vai querer escrever uma lista de valores de 0 a 100. Mas o Python tem uma função útil para isso, chamada `range`. Pode repetir um `range`, tal como pode repetir uma lista. Para repetir 10 vezes, começando pelo valor `0`:"
   ]
  },
  {
   "cell_type": "code",
   "execution_count": null,
   "metadata": {
    "collapsed": true
   },
   "outputs": [],
   "source": [
    "for i in range(10):\n",
    "    print('o valor de i é:', i)"
   ]
  },
  {
   "cell_type": "markdown",
   "metadata": {},
   "source": [
    "Um `range` pode ser convertido numa lista através da função `list`. Pode executar a função `range` com apenas um argumento, o que vai gerar um intervalo do 0 até um determinado número, sem incluir este último número. Tenha em atenção que a função `range(10)` devolve dez números de 0 a 9, inclusive. Opcionalmente, pode apresentar um valor inicial e um intervalo, semelhante à função `np.arange`."
   ]
  },
  {
   "cell_type": "code",
   "execution_count": null,
   "metadata": {
    "collapsed": true
   },
   "outputs": [],
   "source": [
    "print('um range com 10 valores:', list(range(10)))\n",
    "print('um range de 10 até 20', list(range(10, 20)))\n",
    "print('um range de 10 até 20 com espaçamento de 2:', list(range(10, 20, 2)))"
   ]
  },
  {
   "cell_type": "markdown",
   "metadata": {},
   "source": [
    "Um ciclo pode ser utilizado para preencher um array. Vamos calcular $y=\\cos(x)$ em que $x$ é um array que varia de 0 a $2\\pi$ com 100 pontos. É claro que já sabemos que isto pode ser feito com a instrução `y=cos(x)`. No entanto, às vezes não é possível e temos de preencher um array com um ciclo. Em primeiro lugar, temos de criar o array `y` (por exemplo, apenas com zeros através da função `zeros_like`) e, em seguida, preenchê-lo com os valores corretos repetindo todos os valores de `x`, de forma a que o índice vá de `0` até ao tamanho do array `x`. O enumerador no ciclo (a variável `i` no código abaixo) é utilizado como índice do array que é preenchido."
   ]
  },
  {
   "cell_type": "code",
   "execution_count": null,
   "metadata": {
    "collapsed": true
   },
   "outputs": [],
   "source": [
    "x = np.linspace(0, 2 * np.pi, 100)\n",
    "y = np.zeros_like(x)  # similar a zeros(shape(x))\n",
    "for i in range(len(x)):\n",
    "    y[i] = np.cos(x[i])\n",
    "plt.plot(x, y);"
   ]
  },
  {
   "cell_type": "markdown",
   "metadata": {},
   "source": [
    "Os ciclos são construções muito úteis num script de programação. Sempre que tiver de fazer uma informatização múltiplas vezes, pense de imediato: *ciclos!*"
   ]
  },
  {
   "cell_type": "markdown",
   "metadata": {},
   "source": [
    "### <a name=\"back1\"></a>Exercício 1.  O primeiro ciclo `for`\n",
    "Crie uma lista com os nomes dos meses. Crie uma segunda lista com o número dos dias de cada mês (para um ano normal). Crie um ciclo `for` que apresente:\n",
    "\n",
    "`O número de dias em MÊS é de XX dias`\n",
    "\n",
    "onde, como é óbvio, apresenta o nome certo do mês em `MÊS` e o número certo de dias em `XX`."
   ]
  },
  {
   "cell_type": "code",
   "execution_count": null,
   "metadata": {
    "collapsed": true
   },
   "outputs": [],
   "source": []
  },
  {
   "cell_type": "markdown",
   "metadata": {},
   "source": [
    "<a href=\"#ex1answer\">Solução do Exercício 1</a>"
   ]
  },
  {
   "cell_type": "markdown",
   "metadata": {},
   "source": [
    "### A instrução `if`\n",
    "Uma instrução `if` permite-lhe realizar uma tarefa apenas quando o resultado da instrução `if` é verdadeiro. Por exemplo:"
   ]
  },
  {
   "cell_type": "code",
   "execution_count": null,
   "metadata": {
    "collapsed": true
   },
   "outputs": [],
   "source": [
    "data = 4\n",
    "print('valor inicial:', data)\n",
    "if data < 6:\n",
    "    print('valor alterado na primeira instrução if')\n",
    "    data = data + 2\n",
    "print('valor após a primeira instrução if:', data)\n",
    "if data > 20:\n",
    "    print('valor alterado na segunda instrução if')\n",
    "    data = 200\n",
    "print('valor após a segunda instrução if:', data)  # data não alterou uma vez que não é maior que 20"
   ]
  },
  {
   "cell_type": "markdown",
   "metadata": {},
   "source": [
    "Repare na sintaxe da instrução `if`. Começa com `if` seguido de uma instrução que ou é `True` (verdadeira) ou é `False` (falsa) e termina com dois pontos. Depois dos dois pontos, tem de indentar, e todo o bloco de código indentado (neste caso 2 linhas de código) é executado se a instrução for `True`. A instrução `if` termina quando termina a indentação. Recorde que, no Notebook 2, aprendeu que pode utilizar os sinais de maior do que `>`, maior ou igual `>=`, igual `==`, menor ou igual `<=`, menor do que `<` ou diferente de `!=`."
   ]
  },
  {
   "cell_type": "markdown",
   "metadata": {},
   "source": [
    "### A instrução `if`/`else`\n",
    "A instrução `if` pode ser seguida de uma instrução `else`, que é executada quando a condição depois de `if` é `False`. Por exemplo:"
   ]
  },
  {
   "cell_type": "code",
   "execution_count": null,
   "metadata": {
    "collapsed": true
   },
   "outputs": [],
   "source": [
    "a = 4\n",
    "if a < 3:\n",
    "    print('a é menor do que 3')\n",
    "else:\n",
    "    print('a não é menor do que 3')"
   ]
  },
  {
   "cell_type": "markdown",
   "metadata": {},
   "source": [
    "Pode inclusivamente ampliar a instrução `else` através de uma ou mais condições, com o comando `elif`, que é a forma abreviada de `else if`."
   ]
  },
  {
   "cell_type": "code",
   "execution_count": null,
   "metadata": {
    "collapsed": true
   },
   "outputs": [],
   "source": [
    "a = 4\n",
    "if a < 4:\n",
    "    print('a é menor do que 4')\n",
    "elif a > 4:\n",
    "    print('a é maior do que 4')\n",
    "else:\n",
    "    print('a é igual a 4')"
   ]
  },
  {
   "cell_type": "markdown",
   "metadata": {},
   "source": [
    "Mais do que especificar o valor de uma variável na parte superior de uma célula de código, pode pedir ao utilizador para inserir um valor e armazenar esse valor na variável através da função `input`. A função `input` devolve uma *string* que pode ser convertida num número com a função `float`. Execute a célula de código abaixo múltiplas vezes para ver se funciona quando o valor inserido é maior do que 4, menor do que 4 ou igual a 4."
   ]
  },
  {
   "cell_type": "code",
   "execution_count": null,
   "metadata": {
    "collapsed": true
   },
   "outputs": [],
   "source": [
    "a = float(input('Insira um valor: '))\n",
    "if a < 4:\n",
    "    print('o valor inserido é menor do que 4')\n",
    "elif a > 4:\n",
    "    print('o valor inserido é maior do que 4')\n",
    "else:\n",
    "    print('o valor inserido é igual a 4')"
   ]
  },
  {
   "cell_type": "markdown",
   "metadata": {},
   "source": [
    "### <a name=\"back2\"></a>Exercício 2. Combinação do ciclo `for` com a instrução `if`\n",
    "Considere a seguinte função:\n",
    "\n",
    "$\\begin{split}\n",
    "y &= \\cos(x) \\qquad \\text{para} \\qquad x < 0 \\\\\n",
    "y &= \\exp(-x) \\qquad \\text{para} \\qquad x \\ge 0 \\\\\n",
    "\\end{split}$\n",
    "\n",
    "Calcule $y$ para valores de $x$ entre $-2\\pi$ e $2\\pi$ com 100 pontos e crie um grafico. Certifique-se que os limites do eixo $x$ vai de $-2\\pi$ a $2\\pi$."
   ]
  },
  {
   "cell_type": "code",
   "execution_count": null,
   "metadata": {
    "collapsed": true
   },
   "outputs": [],
   "source": []
  },
  {
   "cell_type": "markdown",
   "metadata": {},
   "source": [
    "<a href=\"#ex2answer\">Solução do Exercício 2</a>"
   ]
  },
  {
   "cell_type": "markdown",
   "metadata": {},
   "source": [
    "### <a name=\"back3\"></a>Exercício 3. Carregar e repetir os dados de temperatura\n",
    "Carregue os dados da temperatura da Holanda do ficheiro de dados (`holland_temperature.dat`). Repita todas as temperaturas mensais e apresente uma mensagem que inclua o número do mês e que indique se a temperatura média mensal está acima ou abaixo dos 10 graus."
   ]
  },
  {
   "cell_type": "code",
   "execution_count": null,
   "metadata": {
    "collapsed": true
   },
   "outputs": [],
   "source": []
  },
  {
   "cell_type": "markdown",
   "metadata": {},
   "source": [
    "<a href=\"#ex3answer\">Solução do Exercício 3</a>"
   ]
  },
  {
   "cell_type": "markdown",
   "metadata": {},
   "source": [
    "### Criação de ciclos e somatório\n",
    "Um ciclo pode ser utilizado para calcular a soma de todos os valores num array. Considere, por exemplo, o array `data` com oito valores. Vamos calcular a soma de todos os valores em `data`. Em primeiro lugar, definimos uma variável `datasum` e atribuímos-lhe o valor 0. Em seguida, executamos o ciclo a todos os valores em `data` e adicionamos esse valor a `datasum`:"
   ]
  },
  {
   "cell_type": "code",
   "execution_count": null,
   "metadata": {
    "collapsed": true
   },
   "outputs": [],
   "source": [
    "data = np.array([1, 3, 2, 5, 7, 3, 4, 2])\n",
    "datasum = 0\n",
    "for i in range(len(data)):\n",
    "    datasum = datasum + data[i]\n",
    "    print('i, datasum: ', i, datasum)\n",
    "print('total da soma dos dados: ', datasum)"
   ]
  },
  {
   "cell_type": "markdown",
   "metadata": {},
   "source": [
    "Tenha em atenção que a instrução: \n",
    "\n",
    "`datasum = datasum + data[i]` \n",
    "\n",
    "significa que o valor de `data[i]` é adicionado ao valor atual de `datasum` e que o resultado é atribuído a `datasum`. Na realidade, existe uma sintaxe mais simples para a mesma instrução:\n",
    "\n",
    "`datasum += data[i]`\n",
    "\n",
    "O comando `+=` significa que adiciona o que estiver à direita do sinal `+=` ao que estiver à esquerda do sinal. Pode utilizar a sintaxe com que estiver mais à vontade (apesar de `+=` ser considerada a melhor e, em alguns casos, a mais eficaz)."
   ]
  },
  {
   "cell_type": "markdown",
   "metadata": {},
   "source": [
    "### <a name=\"back4\"></a>Exercício 4.  Total corrente\n",
    "Para os dados do exemplo anterior, calcule o total corrente e armazene-o num array através de um ciclo. Nesta perspetiva, o resultado será um array com o mesmo tamanho que `data`, em que o elemento `i` é a soma de todos os valores no array `data` até e incluindo `data[i]`. Apresente o array `data` e o array com o total corrente no ecrã. Por fim, verifique a sua resposta utilizando a função `cumsum` do pacote `numpy`, que deverá dar a mesma resposta que o seu ciclo."
   ]
  },
  {
   "cell_type": "code",
   "execution_count": null,
   "metadata": {
    "collapsed": true
   },
   "outputs": [],
   "source": []
  },
  {
   "cell_type": "markdown",
   "metadata": {},
   "source": [
    "<a href=\"#ex4answer\">Solução do Exercício 4</a>"
   ]
  },
  {
   "cell_type": "markdown",
   "metadata": {},
   "source": [
    "### Encontrar o valor máximo da forma mais difícil\n",
    "Em seguida, vamos encontrar o máximo no array `data` e o índice do valor máximo. A título de exemplo, vamos fazer isto da forma mais difícil, utilizando um ciclo e uma instrução *if*. Em primeiro lugar, criamos uma variável `maxvalue` que contenha o valor máximo e definimo-la inicialmente para um número muito pequeno. Criamos também uma variável `maxindex`, que é o índice do valor máximo e é definida inicialmente para `None`. Em seguida, executamos o ciclo a todos os valores em `data` e atualizamos o `maxvalue` e o `maxindex` sempre que encontrarmos um valor maior do que o atual `maxvalue`."
   ]
  },
  {
   "cell_type": "code",
   "execution_count": null,
   "metadata": {
    "collapsed": true
   },
   "outputs": [],
   "source": [
    "maxvalue = -1e8\n",
    "maxindex = None\n",
    "for i in range(len(data)):\n",
    "    if data[i] > maxvalue:\n",
    "        maxvalue = data[i]\n",
    "        maxindex = i\n",
    "print('o valor máximo é ', maxvalue)\n",
    "print('o índice do valor maximo é ', maxindex)"
   ]
  },
  {
   "cell_type": "markdown",
   "metadata": {},
   "source": [
    "Para este exemplo, é fácil verificar se estes números estão corretos olhando para o array `data`. Mas é claro que existem funções (no pacote `numpy`) para encontrar o valor máximo e o índice do valor máximo: a função `np.max` devolve o valor máximo de um array e a função `np.argmax` devolve o índice do valor máximo do array. Existem funções semelhantes para o valor mínimo."
   ]
  },
  {
   "cell_type": "code",
   "execution_count": null,
   "metadata": {
    "collapsed": true
   },
   "outputs": [],
   "source": [
    "print('o valor máximo é ', np.max(data))\n",
    "print('o índice do valor máximo é ', np.argmax(data))"
   ]
  },
  {
   "cell_type": "markdown",
   "metadata": {},
   "source": [
    "### <a name=\"back5\"></a>Exercício 5. O mês com temperaturas mais próximas de 15 graus\n",
    "Encontre o mês em que a temperatura média mensal na Holanda se aproximou mais dos 15 graus. Aplique a abordagem descrita acima executando ciclos a todos os valores e utilize uma instrução `if` dentro do ciclo. Também poderá querer utilizar a função `abs` para calcular o valor absoluto de um número. Verifique a sua resposta utilizando um método alternativo no qual não sejam necessários um ciclo e uma instrução `if`."
   ]
  },
  {
   "cell_type": "code",
   "execution_count": null,
   "metadata": {
    "collapsed": true
   },
   "outputs": [],
   "source": []
  },
  {
   "cell_type": "markdown",
   "metadata": {},
   "source": [
    "<a href=\"#ex5answer\">Solução do Exercício 5</a>"
   ]
  },
  {
   "cell_type": "markdown",
   "metadata": {},
   "source": [
    "### Ciclos aninhados\n",
    "Também é possível ter ciclos dentro de ciclos. Estes são chamados de ciclos aninhados (*nested loops* em inglês). Por exemplo, considere o array `data` com 3 linhas e 4 colunas apresentado abaixo. Queremos calcular a soma dos valores em cada linha e vamos fazê-lo utilizando um ciclo duplo. Em primeiro lugar, criamos um array de zeros chamado `rowtotal` de tamanho 3 (um valor para cada linha do array `data`). Em seguida, executamos o ciclo a cada uma das linhas. Em cada linha dentro do ciclo, começamos outro ciclo, que é executado a todas as colunas, e adiciona o valor ao array `rowtotal` dessa linha."
   ]
  },
  {
   "cell_type": "code",
   "execution_count": null,
   "metadata": {
    "collapsed": true
   },
   "outputs": [],
   "source": [
    "data = np.array([[1, 2, 3, 5],\n",
    "                 [4, 8, 6, 4],\n",
    "                 [3, 5, 4, 6]])\n",
    "rowtotal = np.zeros(3)\n",
    "for irow in range(3):\n",
    "    for jcol in range(4):\n",
    "        rowtotal[irow] += data[irow, jcol]\n",
    "        #alternativa mais extensa:\n",
    "        #rowtotal[irow] = rowtotal[irow] + data[irow,jcol]\n",
    "print(rowtotal)"
   ]
  },
  {
   "cell_type": "markdown",
   "metadata": {},
   "source": [
    "Depois de executar o código acima, certifique-se primeiro de que a resposta está certa. Em seguida, tenha em atenção que é importante definir os valores de `rowtotal` para 0 antes de iniciar os ciclos, uma vez que adicionamos a estes valores para calcular a soma de cada linha. No código, utilizamos dois ciclos, por isso indentámos duas vezes."
   ]
  },
  {
   "cell_type": "markdown",
   "metadata": {},
   "source": [
    "### `Break` e `while`\n",
    "Uma tarefa comum é encontrar a posição de um valor numa tabela ordenada (por exemplo, uma lista ou um array). Por exemplo, determinar entre que dois números deverá estar posicionado o número 6 na sequência ordenada `[1, 4, 5, 8, 9]`. Sabemos que é entre `5` e `8`, mas e se a lista for longa? Nesse caso, será útil ter um programa para fazer o cálculo. Para encontrar a posição na lista, precisamos de executar um ciclo à lista e quebrá-lo assim que encontrarmos a posição. Para isso, o Python tem o comando `break`."
   ]
  },
  {
   "cell_type": "code",
   "execution_count": null,
   "metadata": {
    "collapsed": true
   },
   "outputs": [],
   "source": [
    "x = [1, 4, 5, 8, 9]\n",
    "a = 6\n",
    "for i in range(len(x)):\n",
    "    if a < x[i]:\n",
    "        break\n",
    "print('a está entre', x[i-1], 'e', x[i])"
   ]
  },
  {
   "cell_type": "markdown",
   "metadata": {},
   "source": [
    "Existe outra forma de programar isto com um ciclo `while`. Vamos começar por executar o ciclo `while` ao código indicado acima."
   ]
  },
  {
   "cell_type": "code",
   "execution_count": null,
   "metadata": {
    "collapsed": true
   },
   "outputs": [],
   "source": [
    "x = [1, 4, 5, 8, 9]\n",
    "a = 6\n",
    "i = 0\n",
    "while a >= x[i]:\n",
    "    i = i + 1\n",
    "print('a está entre', x[i-1], 'e', x[i])"
   ]
  },
  {
   "cell_type": "markdown",
   "metadata": {},
   "source": [
    "No ciclo `while`, a comparação é feita no início do ciclo, enquanto o enumerador (neste caso `i`) é atualizado dentro do ciclo. Tanto um ciclo com um `break` como um ciclo `while` com um enumerador funcionam bem, mas os ciclos `while` podem ser traiçoeiros em alguns casos, uma vez que podem resultar em ciclos infinitos quando existe um erro no código. Quando tem um ciclo infinito (um que nunca termina), clique no menu [Kernel] na parte superior da janela e selecione [Restart]. Esta ação vai terminar a sessão de Python atual e iniciar uma nova. Quando apresenta algo no ecrã no seu ciclo `while`, pode não ser possível quebrar o ciclo e poderá ser necessário terminar a sessão no Jupyter (e provavelmente vai perder algum trabalho)."
   ]
  },
  {
   "cell_type": "markdown",
   "metadata": {},
   "source": [
    "### Strings\n",
    "As `strings` são um tipo de dados muito versátil e podíamos facilmente passar um Notebook inteiro a falar sobre `strings`. Vamos usar as `strings` de forma limitada, por isso vamos abordar apenas o mínimo indispensável. Já utilizámos `strings` para especificar nomes nos eixos de um gráfico ou na legenda de um gráfico. As `strings` são como tuplos, sendo que qualquer carater numa `string` tem um índice. Cada carater ou intervalo de carateres pode ser acedido, tal como acontece com os tuplos, mas não pode ser alterado. Uma `string` também tem tamanho."
   ]
  },
  {
   "cell_type": "code",
   "execution_count": null,
   "metadata": {
    "collapsed": true
   },
   "outputs": [],
   "source": [
    "text1 = 'Bom dia a todos'\n",
    "print(len(text1))\n",
    "print(text1[0])\n",
    "print(text1[0:7])"
   ]
  },
  {
   "cell_type": "markdown",
   "metadata": {},
   "source": [
    "Quando adiciona duas `strings`, elas são colocadas em sequência, exatamente como acontece com as listas. Quando quer combinar texto com uma variável, em primeiro lugar tem de alterar a variável para uma `string` e, depois, adicionar as duas `strings`."
   ]
  },
  {
   "cell_type": "code",
   "execution_count": null,
   "metadata": {
    "collapsed": true
   },
   "outputs": [],
   "source": [
    "newtext = text1 + ' desta sala'  # Adicionar duas strings\n",
    "print(newtext)\n",
    "a = 7\n",
    "mês = 'O número mágico é ' + str(a)  # Combinar strings e numeros\n",
    "print(mês)"
   ]
  },
  {
   "cell_type": "markdown",
   "metadata": {},
   "source": [
    "As comparações funcionam em `strings` exatamente como funcionam nos números. A comparação começa com o primeiro carater numa `string` e só passa para o carater seguinte quando os primeiros carateres de ambas as `strings` são iguais. A letra ‘a’ é mais pequena do que a ‘b’, a ‘b’ é mais pequena do que a ‘c’, etc. Mas, atenção ao seguinte pormenor: os carateres em maiúsculas têm um código mais pequeno do que todos os outros carateres em minúsculas! Portanto, 'A' é mais pequeno do que 'a', mas também é mais pequeno do que 'm' ou qualquer outro carater em minúsculas. Certifique-se de que compreende as instruções que se seguem:"
   ]
  },
  {
   "cell_type": "code",
   "execution_count": null,
   "metadata": {
    "collapsed": true,
    "scrolled": true
   },
   "outputs": [],
   "source": [
    "print('delft' < 'eindhoven')  # Verdadeiro porque 'd' é menor do que 'e'\n",
    "print('dalft' < 'delft')      # Verdadeiro porque 'a' é menor do que 'e'\n",
    "print('delft' == 'Delft')     # Falso porque maiúsculas e minúsculas não são iguais\n",
    "print('Delft' < 'delft')      # Verdadeiro porque 'D' é menor do que 'd'\n",
    "print('delft' > 'Eindhoven')  # Também verdadeiro porque 'd' é maior do que 'E' ou qualquer outro carater em maiúsculas"
   ]
  },
  {
   "cell_type": "markdown",
   "metadata": {},
   "source": [
    "As `strings` podem ser convertidas em maiúsculas ou minúsculas."
   ]
  },
  {
   "cell_type": "code",
   "execution_count": null,
   "metadata": {
    "collapsed": true
   },
   "outputs": [],
   "source": [
    "TU = 'TU Delft'\n",
    "print(TU)\n",
    "print(TU.lower())\n",
    "print(TU.upper())"
   ]
  },
  {
   "cell_type": "markdown",
   "metadata": {},
   "source": [
    "Uma `string` com várias palavras pode ser convertida numa lista de palavras através da função `split`."
   ]
  },
  {
   "cell_type": "code",
   "execution_count": null,
   "metadata": {
    "collapsed": true
   },
   "outputs": [],
   "source": [
    "sentence = 'Esta é uma frase contendo várias palavras'\n",
    "print('Esta é a frase:')\n",
    "print(sentence)\n",
    "wordlist = sentence.split()\n",
    "print('Esta é a frase dividida:')\n",
    "print(wordlist)\n",
    "print('Todas as palavras podem ser apresentadas separadamente:')\n",
    "for word in wordlist:\n",
    "    print(word)"
   ]
  },
  {
   "cell_type": "markdown",
   "metadata": {},
   "source": [
    "### <a name=\"back6\"></a>Exercício 6. Encontrar a posição do seu nome numa lista\n",
    "Utilize um ciclo para descobrir entre que dois nomes deverá estar posicionado o seu nome na lista `['Aaldrich', 'Babette', 'Chris', 'Franka', 'Joe', 'Louisa', 'Pierre', 'Simone', 'Tarek', 'Yvonne', 'Zu']` e apresente o resultado no ecrã."
   ]
  },
  {
   "cell_type": "code",
   "execution_count": null,
   "metadata": {
    "collapsed": true
   },
   "outputs": [],
   "source": []
  },
  {
   "cell_type": "markdown",
   "metadata": {},
   "source": [
    "<a href=\"#ex6answer\">Solução do Exercício 6</a>"
   ]
  },
  {
   "cell_type": "markdown",
   "metadata": {},
   "source": [
    "### <a name=\"back7\"></a>Exercício 7. Dados sobre petróleo\n",
    "O ficheiro `oil_price.dat` contém o preço mensal do petróleo desde 1985. O ficheiro contém três colunas: ano, mês, preço em Euros (com base no *site* do Banco Europeu). Represente graficamente o preço do petróleo (coloque os números no eixo horizontal, vamos aprender a utilizar datas noutro notebook) e determine o mês e o ano da primeira subida do preço do petróleo acima de 40 euros, acima de 60 euros e acima de 80 euros. Tem de escrever no ecrã algo como `O preço do petróleo subiu acima dos 40 euros pela primeira vez no mês xx do ano yyyy`, em que `xx` e `yyyy` são o mês e o ano corretos. Utilize um ciclo duplo. Consegue modificar o código de forma a apresentar o nome do mês em vez do número?"
   ]
  },
  {
   "cell_type": "code",
   "execution_count": null,
   "metadata": {
    "collapsed": true
   },
   "outputs": [],
   "source": []
  },
  {
   "cell_type": "markdown",
   "metadata": {},
   "source": [
    "<a href=\"#ex6answer\">Solução do Exercício 7</a>"
   ]
  },
  {
   "cell_type": "markdown",
   "metadata": {},
   "source": [
    "### Soluções dos exercícios"
   ]
  },
  {
   "cell_type": "markdown",
   "metadata": {},
   "source": [
    "<a name=\"ex1answer\">Solução do Exercício 1</a>"
   ]
  },
  {
   "cell_type": "code",
   "execution_count": null,
   "metadata": {
    "collapsed": true
   },
   "outputs": [],
   "source": [
    "meses = ['Janeiro', 'Fevereiro', 'Março', 'Abril',\\\n",
    "          'Maio','Junho', 'Julho', 'Agosto', 'Setembro',\\\n",
    "          'Outubro', 'Novembro', 'Dezembro']\n",
    "dias = [31, 28, 31, 30, 31, 30, 31, 31, 30, 31, 30, 31]\n",
    "for i in range(12):\n",
    "    print('O número de dias em', meses[i], 'é de', dias[i], 'dias')"
   ]
  },
  {
   "cell_type": "markdown",
   "metadata": {},
   "source": [
    "<a href=\"#back1\">Voltar ao Exercício 1</a>\n",
    "\n",
    "<a name=\"ex2answer\">Solução do Exercício 2</a>"
   ]
  },
  {
   "cell_type": "code",
   "execution_count": null,
   "metadata": {
    "collapsed": true
   },
   "outputs": [],
   "source": [
    "x = np.linspace(-2 * np.pi, 2 * np.pi, 100)\n",
    "y = np.zeros_like(x)\n",
    "for i in range(100):\n",
    "    if x[i] < 0:\n",
    "        y[i] = np.cos(x[i])\n",
    "    else:\n",
    "        y[i] = np.exp(-x[i])\n",
    "plt.plot(x, y)\n",
    "plt.xlim(-2 * np.pi, 2 * np.pi);"
   ]
  },
  {
   "cell_type": "markdown",
   "metadata": {},
   "source": [
    "<a href=\"#back2\">Voltar ao Exercício 2</a>\n",
    "\n",
    "<a name=\"ex3answer\">Solução do Exercício 3</a>"
   ]
  },
  {
   "cell_type": "code",
   "execution_count": null,
   "metadata": {
    "collapsed": true
   },
   "outputs": [],
   "source": [
    "temperature = np.loadtxt('holland_temperature.dat')\n",
    "for i in range(len(temperature)):\n",
    "    if temperature[i] < 10:\n",
    "        print('temperatura mensal média no mês ', i+1, ' é inferior a 10 graus')\n",
    "    else:\n",
    "        print('temperatura mensal média no mês ', i+1, ' é superior a 10 graus')"
   ]
  },
  {
   "cell_type": "markdown",
   "metadata": {},
   "source": [
    "<a href=\"#back3\">Voltar ao Exercício 3</a>\n",
    "\n",
    "<a name=\"ex4answer\">Solução do Exercício 4</a>"
   ]
  },
  {
   "cell_type": "code",
   "execution_count": null,
   "metadata": {
    "collapsed": true
   },
   "outputs": [],
   "source": [
    "data = np.array([1, 3, 2, 5, 7, 3, 4, 2])\n",
    "runningtotal = np.zeros_like(data)\n",
    "runningtotal[0] = data[0]\n",
    "for i in range(1, len(data)):\n",
    "    runningtotal[i] = runningtotal[i-1] + data[i]\n",
    "print('valores dos dados:', data)\n",
    "print('total corrente:', runningtotal)\n",
    "print('total corrente com numpy:', np.cumsum(data))"
   ]
  },
  {
   "cell_type": "markdown",
   "metadata": {},
   "source": [
    "<a href=\"#back4\">Voltar ao Exercício 4</a>\n",
    "\n",
    "<a name=\"ex5answer\">Solução do Exercício 5</a>"
   ]
  },
  {
   "cell_type": "code",
   "execution_count": null,
   "metadata": {
    "collapsed": true
   },
   "outputs": [],
   "source": [
    "temperature = np.loadtxt('holland_temperature.dat')\n",
    "print(temperature)\n",
    "monthindex = -1\n",
    "tdiff = 100.0\n",
    "for i in range(12):\n",
    "    if abs(temperature[i] - 15) < tdiff:\n",
    "        monthindex = i\n",
    "        tdiff = abs(temperature[i] - 15)\n",
    "print('Número do mês com temperaturas mais próximas de 15 graus, temp: ', monthindex + 1, temperature[monthindex])\n",
    "print('Método alternativo:')\n",
    "altmin = np.argmin(abs(temperature - 15))\n",
    "print('Número do mês com temperaturas mais próximas de 15 graus, temp: ', altmin + 1, temperature[altmin])"
   ]
  },
  {
   "cell_type": "markdown",
   "metadata": {},
   "source": [
    "<a href=\"#back5\">Voltar ao Exercício 5</a>\n",
    "\n",
    "<a name=\"ex6answer\">Solução do Exercício 6</a>"
   ]
  },
  {
   "cell_type": "code",
   "execution_count": null,
   "metadata": {
    "collapsed": true
   },
   "outputs": [],
   "source": [
    "x = ['Aaldrich', 'Babette', 'Chris', 'Franka', 'Joe', 'Louisa', 'Pierre', 'Simone', 'Tarek', 'Yvonne', 'Zu']\n",
    "myname = 'Mark'\n",
    "for i in range(len(x)):\n",
    "    if myname < x[i]:\n",
    "        break\n",
    "print(myname, 'está entre', x[i-1], 'e', x[i])"
   ]
  },
  {
   "cell_type": "markdown",
   "metadata": {},
   "source": [
    "<a href=\"#back6\">Voltar ao Exercício 6</a>\n",
    "\n",
    "<a name=\"ex7answer\">Solução do Exercício 7</a>"
   ]
  },
  {
   "cell_type": "code",
   "execution_count": null,
   "metadata": {
    "collapsed": true
   },
   "outputs": [],
   "source": [
    "oilprice = np.loadtxt('oil_price_monthly.dat', delimiter=',')\n",
    "plt.plot(oilprice[:,2], 'b-')\n",
    "nrow, ncol = oilprice.shape\n",
    "months = ['Janeiro', 'Fevereiro', 'Março', 'Abril',\\\n",
    "          'Maio','Junho', 'Julho', 'Agosto', 'Setembro',\\\n",
    "          'Outubro', 'Novembro', 'Dezembro']\n",
    "for price in [40, 60, 80]:\n",
    "    for i in range(nrow):\n",
    "        if oilprice[i, 2] > price:\n",
    "            print('O preço do óleo subiu acima dos ', price, 'euros pela primeira vez no mês', \\\n",
    "                  months[int(oilprice[i, 1])], 'do ano', int(oilprice[i, 0]))\n",
    "            break"
   ]
  },
  {
   "cell_type": "markdown",
   "metadata": {},
   "source": [
    "<a href=\"#back7\">Voltar ao Exercício 7</a>"
   ]
  },
  {
   "cell_type": "markdown",
   "metadata": {},
   "source": [
    "A obra \"Notebook 3: Ciclos for e instruções if/else\" é um derivado de [Notebook 3: for loops and if/else statements](http://nbviewer.jupyter.org/github/mbakker7/exploratory_computing_with_python/blob/master/notebook3_for_and_if/py_exploratory_comp_3_sol.ipynb) de [mbakker7](https://github.com/mbakker7), sob a [licença CC BY (4.0 Licença Internacional)](https://creativecommons.org/licenses/by/4.0/deed.pt).\n",
    "\"Notebook 3: Ciclos for e instruções if/else\" é publicado sob a [licença CC BY (4.0 Licença Internacional)](https://creativecommons.org/licenses/by/4.0/deed.pt) por Educa2030."
   ]
  }
 ],
 "metadata": {
  "kernelspec": {
   "display_name": "Python 3",
   "language": "python",
   "name": "python3"
  },
  "language_info": {
   "codemirror_mode": {
    "name": "ipython",
    "version": 3
   },
   "file_extension": ".py",
   "mimetype": "text/x-python",
   "name": "python",
   "nbconvert_exporter": "python",
   "pygments_lexer": "ipython3",
   "version": "3.6.3"
  }
 },
 "nbformat": 4,
 "nbformat_minor": 1
}
