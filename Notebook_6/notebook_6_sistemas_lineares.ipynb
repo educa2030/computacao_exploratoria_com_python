{
 "cells": [
  {
   "cell_type": "markdown",
   "metadata": {},
   "source": [
    "## Notebook 6: Sistemas de equações lineares"
   ]
  },
  {
   "cell_type": "markdown",
   "metadata": {},
   "source": [
    "Neste Notebook, vamos aprender a construir e a resolver sistemas de equações lineares e a aplicar estas técnicas para resolver problemas práticos."
   ]
  },
  {
   "cell_type": "code",
   "execution_count": null,
   "metadata": {
    "collapsed": true
   },
   "outputs": [],
   "source": [
    "import numpy as np\n",
    "import matplotlib.pyplot as plt\n",
    "%matplotlib inline"
   ]
  },
  {
   "cell_type": "markdown",
   "metadata": {},
   "source": [
    "### Construir e resolver um sistema de equações lineares\n",
    "Uma parábola é definida por três pontos (partindo do princípio de que não se encontram numa linha reta). A equação de uma parábola é $y=ax^2+bx+c$, onde $a$, $b$, e $c$ são constantes.\n",
    "Dados três pontos $(x_1,y_1)$, $(x_2,y_2)$, $(x_3,y_3)$, poderá ser compilado o seguinte sistema de três equações lineares:\n",
    "\n",
    "$$\n",
    "\\begin{split}\n",
    "x_1^2a+x_1b+c&=y_1 \\\\\n",
    "x_2^2a+x_2b+c&=y_2 \\\\\n",
    "x_3^2a+x_3b+c&=y_3 \\\\\n",
    "\\end{split}\n",
    "$$\n",
    "\n",
    "Ou na forma de matriz:\n",
    "\n",
    "$$\\left(\n",
    "\\begin{array}{ccc}\n",
    "x_1^2 & x_1 & 1 \\\\\n",
    "x_2^2 & x_2 & 1 \\\\\n",
    "x_3^2 & x_3 & 1 \\\\\n",
    "\\end{array}\n",
    "\\right)\n",
    "\\left(\n",
    "\\begin{array}{c}\n",
    "a \\\\b \\\\c \\\\\n",
    "\\end{array}\n",
    "\\right)\n",
    "=\\left(\n",
    "\\begin{array}{c}\n",
    "y_1 \\\\\n",
    "y_2 \\\\\n",
    "y_3 \\\\\n",
    "\\end{array}\n",
    "\\right)$$\n",
    "\n",
    "Para resolver este problema, construímos um array de 2 dimensões que contém a matriz (chamado `A`) e um array de 1 dimensão que contém o lado direito (chamado `rhs`).\n",
    "Vamos fazê-lo para os três pontos $(x_1,y_1)=(-2,2)$, $(x_2,y_2)=(1,-1)$, $(x_3,y_3)=(4,4)$."
   ]
  },
  {
   "cell_type": "code",
   "execution_count": null,
   "metadata": {
    "collapsed": true
   },
   "outputs": [],
   "source": [
    "xp = np.array([-2, 1, 4])\n",
    "yp = np.array([2, -1, 4])\n",
    "A = np.zeros((3, 3))\n",
    "rhs = np.zeros(3)\n",
    "for i in range(3):\n",
    "    A[i] = xp[i] ** 2, xp[i], 1  # Armazena uma linha de cada vez\n",
    "    rhs[i] = yp[i]\n",
    "print('Array A:')\n",
    "print(A)\n",
    "print('rhs:',rhs)"
   ]
  },
  {
   "cell_type": "markdown",
   "metadata": {},
   "source": [
    "O sistema poderá ser resolvido através do método `solve`, que faz parte do subpacote `linalg` do `numpy`. O método `solve` assume como entrada um array de 2 dimensões (a matriz) e um array de 1 dimensão (o lado direito), e devolve a solução. Para confirmar se a solução está correta, temos de fazer uma multiplicação de matrizes armazenada no array `A` com a solução obtida, à qual chamamos `sol`. Como sabemos, a linha\n",
    "\n",
    "`A * sol`\n",
    "\n",
    "faz uma multiplicação termo a termo. Para uma multiplicação de matrizes, tem de ser utilizado o símbolo `@` (em alternativa, a função `np.dot` pode ser utilizada; o símbolo `@` não funciona em Python 2)."
   ]
  },
  {
   "cell_type": "code",
   "execution_count": null,
   "metadata": {
    "collapsed": true
   },
   "outputs": [],
   "source": [
    "sol = np.linalg.solve(A, rhs)\n",
    "print('a solução é:', sol)\n",
    "print('valores particulares de y:', yp)\n",
    "print('A @ sol:', A @ sol)"
   ]
  },
  {
   "cell_type": "markdown",
   "metadata": {},
   "source": [
    "Também podemos verificar visualmente se resolvemos o problema de forma correta, desenhando os três pontos e a parábola."
   ]
  },
  {
   "cell_type": "code",
   "execution_count": null,
   "metadata": {
    "collapsed": true
   },
   "outputs": [],
   "source": [
    "plt.plot(xp, yp, 'ro')\n",
    "x = np.linspace(-3, 5, 100)\n",
    "y = sol[0] * x ** 2 + sol[1] * x + sol[2]\n",
    "plt.plot(x, y, 'b');"
   ]
  },
  {
   "cell_type": "markdown",
   "metadata": {},
   "source": [
    "### <a name=\"back1\"></a>Exercício 1. Criar uma onda\n",
    "Considere as seguintes quatro medidas de quantidade $y$ no tempo $t$: $(t_0,y_0)=(0,3)$, $(t_1,y_1)=(0.25,1)$, $(t_2,y_2)=(0.5,-3)$, $(t_3,y_3)=(0.75,1)$. As medidas fazem parte de uma onda que poderá ser escrita como:\n",
    "\n",
    "$y = a\\cos(\\pi t) + b\\cos(2\\pi t) + c\\cos(3\\pi t) + d\\cos(4\\pi t)$\n",
    "\n",
    "em que $a$, $b$, $c$, e $d$ são parâmetros. Construa um sistema de quatro equações lineares e resolva para os quatro parâmetros. Crie uma representação gráfica da onda para valores de $t$ entre 0 e 1, e apresente as quatro medidas com pontos."
   ]
  },
  {
   "cell_type": "code",
   "execution_count": null,
   "metadata": {
    "collapsed": true
   },
   "outputs": [],
   "source": []
  },
  {
   "cell_type": "markdown",
   "metadata": {},
   "source": [
    "<a href=\"#ex1answer\">Soluções do Exercício 1</a>"
   ]
  },
  {
   "cell_type": "markdown",
   "metadata": {},
   "source": [
    "### Criar um polinómio arbitrário\n",
    "Nos três exercícios seguintes, vamos criar um polinómio de grau arbitrário $N$ para um conjunto de $N+1$ pontos de dados. A função que vamos criar é:\n",
    "$$f(x) = a_0 + a_1x + a_2x^2 + ... + a_Nx^N =\\sum\\limits_{n=0}^{N}a_nx^n$$\n",
    "\n",
    "Repare que temos $N+1$ parâmetros $a_n$, enquanto o grau do polinómio é chamado $N$."
   ]
  },
  {
   "cell_type": "markdown",
   "metadata": {},
   "source": [
    "### <a name=\"back2\"></a>Exercício 2. A função `fpoly`\n",
    "Para começar, escreva uma função chamada `fpoly` que devolva um array em que o elemento $n$ seja igual a $x^n$. Os argumentos de entrada da função são o valor de $x$ e o grau do polinómio $N$. O resultado da função é um array de comprimento $N+1$. Teste a sua função para $x=2$ e $N=4$ ao executar:\n",
    "\n",
    "`print fpoly(2, 4)`\n",
    "\n",
    "que deve devolver `[  1.   2.   4.   8.  16.]`."
   ]
  },
  {
   "cell_type": "code",
   "execution_count": null,
   "metadata": {
    "collapsed": true
   },
   "outputs": [],
   "source": []
  },
  {
   "cell_type": "markdown",
   "metadata": {},
   "source": [
    "<a href=\"#ex2answer\">Soluções do Exercício 2</a>"
   ]
  },
  {
   "cell_type": "markdown",
   "metadata": {},
   "source": [
    "### <a name=\"back3\"></a>Exercício 3. A função `solvepoly`\n",
    "Em seguida, escreva uma função que calcule os parâmetros $a_n$ para criar um polinómio de grau $N$ com os $N+1$ pontos de dados. A função deverá chamar-se `solvepoly`. Os argumentos de entrada da função são um array $x$ de comprimento $N+1$ e um array $y$ de comprimento $N+1$. O resultado é um array com os parâmetros $a_n$, de modo a que um polinómio de grau $N$ passe exatamente pelos $N+1$ pontos de dados $x$ e $y$. Dentro da função, tem de calcular uma matriz de $N+1$ equações para os $N+1$ parâmetros incógnitos. Para cada uma das linhas da matriz, execute a função `fpoly`. Teste a sua função ao executar os quatro comandos seguintes. Se o código estiver correto, o array do parâmetro `a` é [ 3.          2.33333333 -6.          1.66666667].\n",
    "\n",
    "    xp = np.array([0, 1, 2, 3])\n",
    "    yp = np.array([3, 1, -3, 1])\n",
    "    a = solvepoly(xp, yp)\n",
    "    print(a)"
   ]
  },
  {
   "cell_type": "code",
   "execution_count": null,
   "metadata": {
    "collapsed": true
   },
   "outputs": [],
   "source": []
  },
  {
   "cell_type": "markdown",
   "metadata": {},
   "source": [
    "<a href=\"#ex3answer\">Soluções do Exercício 3</a>"
   ]
  },
  {
   "cell_type": "markdown",
   "metadata": {},
   "source": [
    "### <a name=\"back4\"></a>Exercício 4. A função `fpolyeval`\n",
    "Por último, escreva uma função chamada `fpolyeval` para avaliar a função $ f(x) = \\sum \\limits_{n=0}^{N}a_nx^n $ para os parâmetros dados de $a$ e um array de valores $x$. A função `fpolyeval` tem como argumento de entrada um array $x$ de comprimento arbitrário e um array de parâmetros $a$ de comprimento $N+1$. A função devolve um array de valores $f(x)$ com um comprimento igual ao comprimento de $x$. Em primeiro lugar, teste a função ao executar:\n",
    "\n",
    "`fpolyeval(xp, a)`\n",
    "\n",
    "em que `xp` é o array de valores inseridos no Exercício 3 e `a` são os parâmetros calculados no Exercício 3. Se tiver programado tudo corretamente, a função deverá devolver os quatro valores de `yp` especificados no Exercício 3. Teste novamente a sua função ao executar os seguintes comandos, que devem representar graficamente os quatro pontos de dados do Exercício 3 como marcadores e o polinómio de grau 3 que passa exatamente pelos quatro pontos.\n",
    "\n",
    "    x = np.linspace(-1,4,100)\n",
    "    y = fpolyeval(x, a)\n",
    "    plt.plot(xp, yp, 'ko', label='data')\n",
    "    plt.plot(x, y, label='fitted poly')\n",
    "    plt.legend(loc='best');"
   ]
  },
  {
   "cell_type": "code",
   "execution_count": null,
   "metadata": {
    "collapsed": true
   },
   "outputs": [],
   "source": []
  },
  {
   "cell_type": "markdown",
   "metadata": {},
   "source": [
    "<a href=\"#ex4answer\">Soluções do Exercício 4</a>"
   ]
  },
  {
   "cell_type": "markdown",
   "metadata": {},
   "source": [
    "### Águas subterrâneas unidimensionais\n",
    "Considere uma camada arenosa coberta por uma camada argilosa. A camada arenosa está delimitada em cada lado por um canal com um nível de água fixo de $h_1^*$ (esquerda) e de $h_2^*$ (direita); a distância entre os dois canais é $L$. Existem fugas de água pela camada argilosa a uma taxa constante $P$ (ver Figura). A cabeça da água subterrânea na camada arenosa é regida pela equação diferencial ordinária de segunda ordem:\n",
    "\n",
    "$$\\frac{\\text{d}^2h}{\\text{d}x^2} = -\\frac{P}{kD}$$\n",
    "\n",
    "em que $h$ é a cabeça (*head* em inglês), $k$ é a condutividade hidráulica da camada arenosa e $D$ é a espessura da camada arenosa. As condições de contorno são $h=h_1^*$ em $x=0$ e $h=h_2^*$ em $x=L$. \n",
    "\n",
    "<img src=\"http://i.imgur.com/2DH0sxT.png\" alt=\"Consolidation\" width=\"400px\">\n",
    "\n",
    "Embora seja fácil resolver este problema, vamos resolvê-lo numericamente através do método das diferenças finitas (o que permite que $P$ seja uma função de $x$, por exemplo). A cabeça é calculada a $N+1$ pontos uniformemente espaçados, de $x=0$ a $x=L$. Os pontos são marcados de $x_0$ a $x_{N}$, em que $x_n=n\\Delta x$, e $\\Delta x$ é a distância horizontal entre os pontos. A cabeça no ponto $x_n$ é chamada $h_n$. A derivada de segunda ordem pode ser estimada como (consulte, p. ex., Verrujt (2012) Soil Mechanics, Eq. 17.4; pode encontrar uma ligação para um PDF com o texto completo do livro em Software [aqui](http://geo.verruijt.net/).\n",
    "\n",
    "$$\\frac{\\text{d}^2h}{\\text{d}x^2} \\approx \\frac{1}{\\Delta x} \\left[ \\frac{h_{n+1}-h_n}{\\Delta x} - \\frac{h_{n}-h_{n-1}}{\\Delta x} \\right]= \\frac{h_{n-1}-2h_n+h_{n+1}}{(\\Delta x)^2}$$\n",
    "\n",
    "A substituição desta estimativa da derivada na equação diferencial e a reorganização dos termos resulta em:\n",
    "\n",
    "$$h_{n-1}-2h_n+h_{n+1} = -P\\frac{(\\Delta x)^2}{kD}$$\n",
    "\n",
    "Pode ser escrita uma equação como esta para cada ponto $n$, exceto para o primeiro e o último pontos, em que temos de aplicar as condições de contorno:\n",
    "\n",
    "$$h_0=h_1^* \\qquad h_N=h_2^*$$\n",
    "\n",
    "Quando $N=4$, temos de resolver um sistema de $N+1=5$ equações lineares nas incógnitas $h_0$ a $h_4$:\n",
    "\n",
    "$$\\begin{split}\n",
    "h_0 &= h_1^*  \\\\\n",
    "h_{0}-2h_1+h_{2} &= -P(\\Delta x)^2/(kD) \\\\\n",
    "h_{1}-2h_2+h_{3} &= -P(\\Delta x)^2/(kD) \\\\\n",
    "h_{2}-2h_3+h_{4} &= -P(\\Delta x)^2/(kD) \\\\\n",
    "h_4 &= h_2^* \n",
    "\\end{split}$$\n",
    "\n",
    "ou na forma de matriz:\n",
    "\n",
    "$$\\left(\n",
    "\\begin{array}{ccccc}\n",
    "1 & 0 & 0 & 0 & 0 \\\\\n",
    "1 & -2 & 1 & 0 & 0 \\\\\n",
    "0 & 1 & -2 & 1 & 0 \\\\\n",
    "0 & 0 & 1 & -2 & 1 \\\\\n",
    "0 & 0 & 0 & 0 & 1 \\\\\n",
    "\\end{array}\n",
    "\\right)\n",
    "\\left(\n",
    "\\begin{array}{c}\n",
    "h_0 \\\\\n",
    "h_1 \\\\\n",
    "h_2 \\\\\n",
    "h_3 \\\\\n",
    "h_4 \\\\\n",
    "\\end{array}\n",
    "\\right)\n",
    "=\\left(\n",
    "\\begin{array}{c}\n",
    "h_1^* \\\\\n",
    "-P(\\Delta x)^2/(kD) \\\\\n",
    "-P(\\Delta x)^2/(kD) \\\\\n",
    "-P(\\Delta x)^2/(kD) \\\\\n",
    "h_2^* \\\\\n",
    "\\end{array}\n",
    "\\right)$$\n",
    "\n",
    "Note que a matriz é maioritariamente composta por zeros. A matriz é referida como uma matriz tridiagonal, pois existem apenas valores ao longo de três diagonais da matriz. A matriz poderá ser construída ao especificar os valores e as posições das diagonais. A diagonal principal tem a posição número zero e o comprimento $N+1$. A diagonal exatamente acima da diagonal principal tem a posição número +1 e o comprimento $N$, enquanto a diagonal abaixo da diagonal principal tem a posição número −1 e também o comprimento $N$. A função `np.diag` cria uma matriz composta por uma diagonal. Os argumentos de entrada são um array do comprimento correto com os valores ao longo da diagonal e a posição da diagonal. A matriz pode ser construída da seguinte forma:"
   ]
  },
  {
   "cell_type": "code",
   "execution_count": null,
   "metadata": {
    "collapsed": true
   },
   "outputs": [],
   "source": [
    "N = 4\n",
    "d0 = -2 * np.ones(N + 1)  # diagonal principal\n",
    "d0[0] = 1  # o primeiro valor da diagonal principal é 1\n",
    "d0[-1] = 1 # o último valor da diagonal principal é 1\n",
    "dplus1 = np.ones(N) # diagonal imediatamente acima da diagonal principal, posição 1\n",
    "dplus1[0] = 0    # o primeiro valor da diagonal é 0\n",
    "dmin1 = np.ones(N)  # diagonal imediatamente abaixo da diagonal principal, posição -1\n",
    "dmin1[-1] = 0    # o último valor da diagonal é 0\n",
    "A = np.diag(d0, 0) + np.diag(dplus1, 1) + np.diag(dmin1, -1)\n",
    "print(A)"
   ]
  },
  {
   "cell_type": "markdown",
   "metadata": {},
   "source": [
    "Note que o método das diferenças finitas descrito acima é preciso quando usa um número razoável de pontos. Quatro pontos não chegam. Poderá descobrir se utilizou pontos suficientes ao, por exemplo, duplicar o número de pontos e comparar as duas soluções."
   ]
  },
  {
   "cell_type": "markdown",
   "metadata": {},
   "source": [
    "### <a name=\"back5\"></a>Exercício 5. A cabeça entre dois canais\n",
    "Calcule a distribuição da cabeça numa camada arenosa delimitada de cada lado por um canal. Dado que: $k=10$ m/dia, $D=10$ m, $h_1^*=20$ m, $h_2^*=22$ m, $L=1000$ m, $P=0.001$ m/d. Use $N=40$. Escreva o código Python para:\n",
    "\n",
    "* Resolver as cabeças em todos os $N+1$ pontos\n",
    "* Apresentar o valor máximo da cabeça entre os dois canais no ecrã (deve ser cerca de 22,5) \n",
    "* Criar uma representação gráfica da cabeça vs. $x$. Identique os eixos."
   ]
  },
  {
   "cell_type": "code",
   "execution_count": null,
   "metadata": {
    "collapsed": true
   },
   "outputs": [],
   "source": []
  },
  {
   "cell_type": "markdown",
   "metadata": {},
   "source": [
    "<a href=\"#ex5answer\">Soluções do Exercício 5</a>"
   ]
  },
  {
   "cell_type": "markdown",
   "metadata": {},
   "source": [
    "### Consolidação\n",
    "A deformação dos solos de argila saturados é um processo lento designado consolidação. Na compressão de um solo, a porosidade diminui e, como resultado, existe menos espaço disponível para água capilar. Assim, alguma água capilar tem de ser empurrada para fora do solo durante a compressão. Isto pode demorar algum tempo em argila, pois a sua permeabilidade é reduzida. Pode ser encontrada uma descrição extensa do processo de consolidação, por ex., nos Capítulos 15-17 de Verruijt, 2012, Soil Mechanics, disponível neste [link](http://geo.verruijt.net/)."
   ]
  },
  {
   "cell_type": "markdown",
   "metadata": {},
   "source": [
    "Considere uma consolidação unidimensional num solo com uma altura de $h$. A pressão da água $p$ existente na amostra de solo é regida pela equação diferencial:\n",
    "\n",
    "$$\\frac{\\partial p}{\\partial t} = c_v \\frac{\\partial^2 p}{\\partial z^2}$$\n",
    "\n",
    "em que $z$ é a coordenada vertical (ascendente positivo) e $c_v$ é o coeficiente de consolidação. Consideramos o problema em que a água pode ser drenada pela camada superior, mas não pela camada inferior, pelo que a condição de contorno na camada inferior é:\n",
    "\n",
    "$$z=0 \\qquad \\frac{\\partial p}{\\partial z} = 0$$\n",
    "\n",
    "e a condição de contorno na camada superior é:\n",
    "\n",
    "$$z=h \\qquad p = 0$$\n",
    "\n",
    "É aplicada uma carga constante na camada superior no tempo $t=0$ resultando, inicialmente, numa pressão uniforme $q$ em toda a amostra de solo (exceto em $z=0$, em que a pressão é sempre zero).\n",
    "\n",
    "$$t=0 \\qquad p = q$$\n",
    "\n",
    "<img src=\"http://i.imgur.com/4xdeoxw.png\" alt=\"Consolidation\" width=\"400px\">"
   ]
  },
  {
   "cell_type": "markdown",
   "metadata": {},
   "source": [
    "A mudança de pressão ao longo do tempo no solo é simulada através de um método numérico (o das diferenças finitas totalmente implícitas, para ser exato). A pressão é calculada a $N+1$ pontos, uniformemente distribuídos de $z=0$ a $z=h$. Os pontos são marcados de $z_0$ a $z_{N}$, em que $z_n=n\\Delta z$, e $\\Delta z$ é a distância vertical entre os pontos. A pressão no ponto $z_n$ é chamada $p_n$. É calculada uma solução separada para cada intervalo de tempo $\\Delta t$. A derivada temporal é estimada como:\n",
    "\n",
    "$$\\frac{\\partial p}{\\partial t} \\approx \\frac{p_n(t) - p_n(t-\\Delta t)}{\\Delta t}$$\n",
    "\n",
    "enquanto a derivada espacial é estimada como:\n",
    "\n",
    "$$\\frac{\\partial^2 p}{\\partial z^2} \\approx \\frac{p_{n-1}(t) -2p_n(t) + p_{n+1}(t)}{\\Delta z)^2} $$\n",
    "\n",
    "A substituição das estimativas destas derivadas e a junção de termos resulta na seguinte operação:\n",
    "\n",
    "$$p_{n-1}(t) - (2+\\mu)p_n(t) + p_{n+1}(t) = -\\mu p_n(t-\\Delta t)$$\n",
    "\n",
    "onde\n",
    "\n",
    "$$\\mu = (\\Delta z)^2/(c_v\\Delta t)$$\n",
    "\n",
    "Esta é uma equação para a pressão nos pontos $(n−1)$, $n$ e $(n+1)$ no tempo $t$, em que se presume que a pressão no tempo $t-\\Delta t$ é conhecida.\n",
    "\n",
    "As equações para $n=0$ e $n=N$ são diferentes. \n",
    "\n",
    "Na camada inferior da amostra ($n=0$), a condição de contorno é $\\partial p/\\partial z = 0$. A derivada poderá ser estimada a $z_0=0$ como:\n",
    "\n",
    "$$\\left(\\frac{\\partial p}{\\partial z}\\right)_{z=0} \\approx (p_1-p_{-1})/(2\\Delta z)=0$$\n",
    "\n",
    "em que $p_{-1}$ é a pressão num ponto imaginário $\\Delta z$ abaixo de $z_0$. A derivada é zero quando $p_{-1}=p_1$ e a substituição na equação para $n=0$ resulta em:\n",
    "\n",
    "$$- (2+\\mu)p_n(t) + 2p_{n+1}(t) = -\\mu p_n(t-\\Delta t)$$\n",
    "\n",
    "A equação para $n=N$ é mais simples, pois, na camada superior da amostra ($n=N$), a pressão está fixada em $p_N=0$."
   ]
  },
  {
   "cell_type": "markdown",
   "metadata": {},
   "source": [
    "A título de exemplo, o sistema de equações para $N=4$ é:\n",
    "\n",
    "$$\\left(\n",
    "\\begin{array}{ccccc}\n",
    "-(2+\\mu) & 2 & 0 & 0 & 0 \\\\\n",
    "1 & -(2+\\mu) & 1 & 0 & 0 \\\\\n",
    "0 & 1 & -(2+\\mu) & 1 & 0 \\\\\n",
    "0 & 0 & 1 & -(2+\\mu) & 1 \\\\\n",
    "0 & 0 & 0 & 0 & 1 \\\\\n",
    "\\end{array}\n",
    "\\right)\n",
    "\\left(\n",
    "\\begin{array}{c}\n",
    "p_0(t) \\\\\n",
    "p_1(t) \\\\\n",
    "p_2(t) \\\\\n",
    "p_3(t) \\\\\n",
    "p_4(t) \\\\\n",
    "\\end{array}\n",
    "\\right)\n",
    "=\\left(\n",
    "\\begin{array}{c}\n",
    "-\\mu p_0(t-\\Delta t)) \\\\\n",
    "-\\mu p_1(t-\\Delta t)) \\\\\n",
    "-\\mu p_2(t-\\Delta t)) \\\\\n",
    "-\\mu p_3(t-\\Delta t) \\\\\n",
    "0 \\\\\n",
    "\\end{array}\n",
    "\\right)$$\n",
    "\n",
    "A solução é obtida graças aos intervalos de tempo. A matriz tem de ser calculada apenas uma vez, pois não muda ao longo do tempo. A cada intervalo de tempo, tem de ser calculado um novo lado direito e um sistema linear de $N+1$\n",
    "equações tem de ser resolvido. Se a matriz é chamada $A$ e o lado direito (com base nas pressões a $t-\\Delta t$) é chamado $\\vec{r}(t-\\Delta t)$ a pressão no tempo $t$, $\\vec{p}(t)$ é obtida ao resolver o sistema:\n",
    "\n",
    "$$A\\vec{p}(t) = \\vec{r}(t-\\Delta t)$$"
   ]
  },
  {
   "cell_type": "markdown",
   "metadata": {},
   "source": [
    "Repare novamente que o procedimento de solução numérica apresentado é estimado e apenas resulta em soluções precisas quando o intervalo de tempo $\\Delta t$ e a discretização espacial $\\Delta z$ são pequenos o suficiente."
   ]
  },
  {
   "cell_type": "markdown",
   "metadata": {},
   "source": [
    "### <a name=\"back6\"></a>Exercício 6. Consolidação unidimensional\n",
    "Considere o processo de consolidação de uma camada argilosa com 2 m de espessura. É aplicada uma carga uniforme ao tempo $t=0$ provocando um aumento unitário na pressão, i.e., $p(t=0)=1$. O coeficiente de consolidação da argila é $c_v=1\\cdot 10^{-6}$ $m^2/s$. Simule o processo de consolidação utilizando o método numérico descrito acima. Utilize $N=40$ e um intervalo de tempo de $\\Delta t=4\\cdot 10^4$ seg. Assuma 50 intervalos de tempo e represente graficamente a distribuição da pressão na argila a cada 10 intervalos de tempo. Adicione etiquetas aos eixos e uma legenda. Compare a sua solução com a do gráfico da Fig. 16.2 de Veruit (2012). (Note que Verruijt representa graficamente o valor de $p$ no eixo horizontal.) A última linha da sua representação gráfica deve estimar a linha $c_v t / h^2=0.5$ no gráfico de Verrujt.\n",
    "\n",
    "Certifique-se de que o seu código Python:\n",
    "\n",
    "* Resolve para a pressão em todos os $N+1$ pontos, para todos os 50 intervalos de tempo, e representa graficamente os resultados após 10, 20, 30, 40 e 50 intervalos de tempo.\n",
    "* Apresenta o valor máximo da pressão no ecrã após 10, 20, 30, 40 e 50 intervalos de tempo."
   ]
  },
  {
   "cell_type": "code",
   "execution_count": null,
   "metadata": {
    "collapsed": true
   },
   "outputs": [],
   "source": []
  },
  {
   "cell_type": "markdown",
   "metadata": {},
   "source": [
    "<a href=\"#ex6answer\">Soluções do Exercício 6</a>"
   ]
  },
  {
   "cell_type": "markdown",
   "metadata": {},
   "source": [
    "### A inversa de uma matriz\n",
    "Conforme indicado, os valores da matriz `A` não variam ao longo do tempo. Assim, é mais eficiente calcular e armazenar a inversa da matriz em vez de executar repetidamente o método `np.linalg.solve`. A inversa de uma matriz pode ser calculada através da função `inv` do pacote `linalg`. Se a inversa da matriz `A` se chamar `Ainv`, a solução para a pressão poderá ser obtida através da multiplicação de matrizes de `Ainv` com o lado direito. Por exemplo, para o primeiro problema neste Notebook, criar uma parábola com três pontos, a inversa da matriz pode ser calculada para obter uma solução da seguinte forma:"
   ]
  },
  {
   "cell_type": "code",
   "execution_count": null,
   "metadata": {
    "collapsed": true
   },
   "outputs": [],
   "source": [
    "A = np.array([[ 4, -2, 1],\n",
    "              [ 1,  1, 1],\n",
    "              [16,  4, 1]])\n",
    "rhs = np.array([2,-1, 4])\n",
    "Ainv = np.linalg.inv(A)\n",
    "sol = Ainv @ rhs\n",
    "print('sol:', sol)"
   ]
  },
  {
   "cell_type": "markdown",
   "metadata": {},
   "source": [
    "### <a name=\"back7\"></a>Exercício 7. Continuação da consolidação unidimensional\n",
    "Modifique a sua resposta para o Exercício 6 ao calcular e armazenar a inversa da matriz e calcule uma solução através da multiplicação da inversa da matriz com o vetor do lado direito."
   ]
  },
  {
   "cell_type": "code",
   "execution_count": null,
   "metadata": {
    "collapsed": true
   },
   "outputs": [],
   "source": []
  },
  {
   "cell_type": "markdown",
   "metadata": {},
   "source": [
    "<a href=\"#ex7answer\">Soluções do Exercício 7</a>"
   ]
  },
  {
   "cell_type": "markdown",
   "metadata": {},
   "source": [
    "### Matrizes esparsas\n",
    "O procedimento utilizado até agora para construir a matriz para uma solução das diferenças finitas não é muito eficiente, pois é criada uma matriz completa, composta maioritariamente por zeros. Os valores diferentes de zero surgem apenas em três diagonais. Há rotinas mais eficientes que armazenam o que se designa por *matrizes esparsas*. Numa matriz esparsa, apenas são armazenados o valor e a localização de valores diferentes de zero numa matriz. A funcionalidade das matrizes esparsas está disponível no pacote `scipy.sparse`. Pode ser criada uma matriz esparsa a partir de diagonais com a função `diags`, a qual utiliza uma lista de arrays para as diagonais e uma lista dos números das diagonais. Por exemplo, a matriz:\n",
    "\n",
    "$$\\left(\n",
    "\\begin{array}{cccc}\n",
    "2 & 3 & 0 & 0 \\\\\n",
    "1 & 2 & 3 & 0 \\\\\n",
    "0 & 1 & 2 & 3 \\\\\n",
    "0 & 0 & 1 & 2 \\\\\n",
    "\\end{array}\n",
    "\\right)$$\n",
    "é criada como:"
   ]
  },
  {
   "cell_type": "code",
   "execution_count": null,
   "metadata": {
    "collapsed": true
   },
   "outputs": [],
   "source": [
    "import scipy.sparse as sp\n",
    "A = sp.diags([1 * np.ones(3), \n",
    "              2 * np.ones(4), \n",
    "              3 * np.ones(3)], \n",
    "             [-1, 0, 1], format='csc')\n",
    "print('Matriz esparsa A')\n",
    "print(A) # Indica a forma como A é armazenada: linha, coluna, valor\n",
    "print('Matriz completa A como um array')\n",
    "print(A.toarray())  # Devolve o array equivalente completo"
   ]
  },
  {
   "cell_type": "markdown",
   "metadata": {},
   "source": [
    "Há várias formas de armazenar uma matriz esparsa. No código acima, a matriz esparsa `A` é armazenada numa *coluna esparsa comprimida* (especificada como `'csc'`). As vantagens e desvantagens deste formato encontram-se [aqui](http://docs.scipy.org/doc/scipy/reference/generated/scipy.sparse.csc_matrix.html). `A` é agora um objeto de matriz esparsa. (Note que o sinal de multiplicação não efetua uma multiplicação termo a termo para objetos da matriz esparsa.) A solução para o sistema de equações $Ax=b$ é obtida através da função `spsolve` do módulo `scipy.sparse.linalg`. "
   ]
  },
  {
   "cell_type": "code",
   "execution_count": null,
   "metadata": {
    "collapsed": true
   },
   "outputs": [],
   "source": [
    "from scipy.sparse.linalg import spsolve\n",
    "print('tipo de A:', type(A))\n",
    "b = np.arange(4)\n",
    "x = spsolve(A,b)  # x é solução de Ax=b\n",
    "print('lado direito definido como:', b)\n",
    "print('verificar A @ x dá o mesmo:', A @ x)"
   ]
  },
  {
   "cell_type": "markdown",
   "metadata": {},
   "source": [
    "A principal vantagem das matrizes esparsas é poder resolver problemas *muito* maiores do que com matrizes completas, pois apenas armazena os (poucos) pontos diferentes de zero. O solucionador `spsolve` também utiliza a condição esparsa da matriz e é, geralmente, mais rápido."
   ]
  },
  {
   "cell_type": "markdown",
   "metadata": {},
   "source": [
    "### <a name=\"back8\"></a> Exercício 8. Matriz esparsa\n",
    "Refaça o Exercício 5, mas agora utilize uma matriz *esparsa*. Obtenha uma solução para a cabeça utilizando $h_1^*=42$, $h_2^*=40$, e $N=10000$. Os restantes parâmetros são os mesmos do Exercício 2. Crie uma representação gráfica da cabeça entre os dois canais.\n",
    "**Atenção**: ao tentar resolver o problema com uma matriz (completa) regular e $N=10000$, poderá ficar sem memória no computador ou a resolução poderá demorar *muito* tempo e/ou o programa poderá parar. Não tente isto, mas se acidentalmente o fizer e o seu Notebook não recuperar, experimente clicar em 'Kernel', na barra de menus do topo, e depois clique em 'Reiniciar'."
   ]
  },
  {
   "cell_type": "code",
   "execution_count": null,
   "metadata": {
    "collapsed": true
   },
   "outputs": [],
   "source": []
  },
  {
   "cell_type": "markdown",
   "metadata": {},
   "source": [
    "<a href=\"#ex8answer\">Soluções do Exercício 8</a>"
   ]
  },
  {
   "cell_type": "markdown",
   "metadata": {},
   "source": [
    "### Soluções dos exercícios"
   ]
  },
  {
   "cell_type": "markdown",
   "metadata": {},
   "source": [
    "<a name=\"ex1answer\">Soluções do Exercício 1</a>"
   ]
  },
  {
   "cell_type": "code",
   "execution_count": null,
   "metadata": {
    "collapsed": true
   },
   "outputs": [],
   "source": [
    "tp = np.array([0, 0.25, 0.5, 0.75])\n",
    "yp = np.array([ 3, 1, -3, 1])\n",
    "A = np.zeros((4, 4))\n",
    "rhs = np.zeros(4)\n",
    "for i in range(4):\n",
    "    A[i] = np.cos(1 * np.pi * tp[i]), np.cos(2 * np.pi * tp[i]), \\\n",
    "           np.cos(3 * np.pi * tp[i]), np.cos(4 * np.pi * tp[i])  # Armazena uma linha de cada vez\n",
    "    rhs[i] = yp[i]\n",
    "sol = np.linalg.solve(A, rhs)\n",
    "print('a,b,c,d: ',sol)\n",
    "\n",
    "t = np.linspace(0, 1, 100)\n",
    "y = sol[0] * np.cos(1 * np.pi * t) + sol[1] * np.cos(2 * np.pi * t) + \\\n",
    "    sol[2] * np.cos(3 * np.pi * t) + sol[3] * np.cos(4 * np.pi * t)\n",
    "plt.plot(t, y, 'b', label='onda')\n",
    "plt.plot(tp, yp, 'ro', label='dados')\n",
    "plt.legend(loc='best');"
   ]
  },
  {
   "cell_type": "markdown",
   "metadata": {},
   "source": [
    "<a href=\"#back1\">Voltar ao Exercício 1</a>\n",
    "\n",
    "<a name=\"ex2answer\">Soluções do Exercício 2</a>"
   ]
  },
  {
   "cell_type": "code",
   "execution_count": null,
   "metadata": {
    "collapsed": true
   },
   "outputs": [],
   "source": [
    "def fpoly(x, N):\n",
    "    rv = np.zeros(N + 1)\n",
    "    for n in range(N + 1):\n",
    "        rv[n] = x ** n\n",
    "    return rv\n",
    "\n",
    "print(fpoly(2, 4))"
   ]
  },
  {
   "cell_type": "markdown",
   "metadata": {},
   "source": [
    "<a href=\"#back2\">Voltar ao Exercício 2</a>\n",
    "\n",
    "<a name=\"ex3answer\">Soluções do Exercício 3</a>"
   ]
  },
  {
   "cell_type": "code",
   "execution_count": null,
   "metadata": {
    "collapsed": true
   },
   "outputs": [],
   "source": [
    "def solvepoly(x, y):\n",
    "    N = len(x) - 1\n",
    "    mat = np.zeros((N+1, N+1))\n",
    "    for n in range(N+1):\n",
    "        mat[n] = fpoly(x[n], N)\n",
    "    par = np.linalg.solve(mat, y)\n",
    "    return par\n",
    "    \n",
    "xp = np.array([0, 1, 2, 3])\n",
    "yp = np.array([3, 1, -3, 1])\n",
    "a = solvepoly(xp, yp)\n",
    "print(a)"
   ]
  },
  {
   "cell_type": "markdown",
   "metadata": {},
   "source": [
    "<a href=\"#back3\">Voltar ao Exercício 3</a>\n",
    "\n",
    "<a name=\"ex4answer\">Soluções do Exercício 4</a>"
   ]
  },
  {
   "cell_type": "code",
   "execution_count": null,
   "metadata": {
    "collapsed": true
   },
   "outputs": [],
   "source": [
    "def fpolyeval(x, a):\n",
    "    rv = np.zeros(len(x))\n",
    "    for n in range(len(a)):\n",
    "        rv += a[n] * x ** n\n",
    "    return rv\n",
    "\n",
    "print(fpolyeval(xp, a))"
   ]
  },
  {
   "cell_type": "code",
   "execution_count": null,
   "metadata": {
    "collapsed": true
   },
   "outputs": [],
   "source": [
    "x = np.linspace(-1,4,100)\n",
    "y = fpolyeval(x, a)\n",
    "plt.plot(xp, yp, 'ko', label='data')\n",
    "plt.plot(x, y, label='fitted poly')\n",
    "plt.legend(loc='best');"
   ]
  },
  {
   "cell_type": "markdown",
   "metadata": {},
   "source": [
    "<a href=\"#back4\">Voltar ao Exercício 4</a>\n",
    "\n",
    "<a name=\"ex5answer\">Soluções do Exercício 5</a>"
   ]
  },
  {
   "cell_type": "code",
   "execution_count": null,
   "metadata": {
    "collapsed": true
   },
   "outputs": [],
   "source": [
    "k = 10\n",
    "D = 10\n",
    "h1star = 20\n",
    "h2star = 22\n",
    "L = 1000\n",
    "P = 0.001\n",
    "N = 40\n",
    "\n",
    "d0 = -2 * np.ones(N + 1)  # diagonal principal\n",
    "d0[0] = 1  # o primeiro valor da diagonal principal é 1\n",
    "d0[-1] = 1 # o último valor da diagonal principal é 1\n",
    "dplus1 = np.ones(N) # diagonal imediatamente acima da diagonal principal, posição 1\n",
    "dplus1[0] = 0    # o primeiro valor da diagonal é 0\n",
    "dmin1 = np.ones(N)  # diagonal imediatamente abaixo da diagonal principal, posição -1\n",
    "dmin1[-1] = 0    # o último valor da diagonal é 0\n",
    "A = np.diag(d0, 0) + np.diag(dplus1, 1) + np.diag(dmin1, -1)\n",
    "# Lado direito\n",
    "delx = L / N\n",
    "rhs = -P * delx ** 2 / (k * D) * np.ones(N + 1)\n",
    "rhs[0] = h1star\n",
    "rhs[-1] = h2star\n",
    "# Resolve para a cabeça e faz a representação gráfica\n",
    "h = np.linalg.solve(A, rhs)\n",
    "x = np.linspace(0, L, N + 1)\n",
    "plt.plot(x, h)\n",
    "plt.xlabel('x (m)')\n",
    "plt.ylabel('head (m)')\n",
    "print('valor máximo head ', np.max(h))"
   ]
  },
  {
   "cell_type": "markdown",
   "metadata": {},
   "source": [
    "<a href=\"#back5\">Voltar ao Exercício 5</a>\n",
    "\n",
    "<a name=\"ex6answer\">Soluções do Exercício 6</a>"
   ]
  },
  {
   "cell_type": "code",
   "execution_count": null,
   "metadata": {
    "collapsed": true
   },
   "outputs": [],
   "source": [
    "cv = 1e-6  # m^2/s\n",
    "h = 2  # m\n",
    "N = 40\n",
    "delt = 4e4  # segundos\n",
    "#\n",
    "delz = h / N\n",
    "mu = delz ** 2 / (cv * delt)\n",
    "\n",
    "d0 = -(2 + mu) * np.ones(N + 1)\n",
    "d0[-1] = 1\n",
    "dp1 = np.ones(N)\n",
    "dp1[0] = 2\n",
    "dm1 = np.ones(N)\n",
    "dm1[-1] = 0\n",
    "A = np.diag(d0) + np.diag(dp1, 1) + np.diag(dm1, -1)\n",
    "\n",
    "p = np.ones(N + 1)\n",
    "for i in range(5):\n",
    "    for j in range(10):\n",
    "        rhs = -mu * p\n",
    "        rhs[-1] = 0\n",
    "        p = np.linalg.solve(A, rhs)\n",
    "    plt.plot(np.arange(0, h + 0.01, delz), p, label=str((i + 1) * 10) + ' intervalos de tempo')\n",
    "    print('valor máximo depois de', 10 * ( i + 1), 'intervalos de tempo é:', p[0])\n",
    "plt.xlim(0, 2)\n",
    "plt.legend(loc='best')\n",
    "plt.xlabel('z')\n",
    "plt.ylabel('p')\n",
    "plt.yticks(np.linspace(0, 1, 11))\n",
    "plt.title('Consolidação');"
   ]
  },
  {
   "cell_type": "markdown",
   "metadata": {},
   "source": [
    "<a href=\"#back6\">Voltar ao Exercício 6</a>\n",
    "\n",
    "<a name=\"ex7answer\">Soluções do Exercício 7</a>"
   ]
  },
  {
   "cell_type": "code",
   "execution_count": null,
   "metadata": {
    "collapsed": true
   },
   "outputs": [],
   "source": [
    "cv = 1e-6  # m^2/s\n",
    "h = 2  # m\n",
    "N = 40\n",
    "delt = 4e4  # segundos\n",
    "#\n",
    "delz = h / N\n",
    "mu = delz ** 2 / (cv * delt)\n",
    "\n",
    "d0 = -(2 + mu) * np.ones(N + 1)\n",
    "d0[-1] = 1\n",
    "dp1 = np.ones(N)\n",
    "dp1[0] = 2\n",
    "dm1 = np.ones(N)\n",
    "dm1[-1] = 0\n",
    "A = np.diag(d0) + np.diag(dp1, 1) + np.diag(dm1, -1)\n",
    "Ainv = np.linalg.inv(A)\n",
    "\n",
    "p = np.ones(N + 1)\n",
    "for i in range(5):\n",
    "    for j in range(10):\n",
    "        rhs = -mu * p\n",
    "        rhs[-1] = 0\n",
    "        p = Ainv @ rhs\n",
    "    plt.plot(np.arange(0, h + 0.01, delz), p, label=str((i + 1) * 10) + ' intervalos de tempo')\n",
    "    print('valor máximo depois de', 10 * ( i + 1), 'intervalos de tempo é:', p[0])\n",
    "plt.xlim(0, 2)\n",
    "plt.legend(loc='best')\n",
    "plt.xlabel('z')\n",
    "plt.ylabel('p')\n",
    "plt.yticks(np.linspace(0, 1, 11))\n",
    "plt.title('Consolidação');"
   ]
  },
  {
   "cell_type": "markdown",
   "metadata": {},
   "source": [
    "<a href=\"#back7\">Voltar ao Exercício 7</a>\n",
    "\n",
    "<a name=\"ex8answer\">Soluções do Exercício 8</a>"
   ]
  },
  {
   "cell_type": "code",
   "execution_count": null,
   "metadata": {
    "collapsed": true
   },
   "outputs": [],
   "source": [
    "from scipy.sparse import diags\n",
    "from scipy.sparse.linalg import spsolve \n",
    "k = 10\n",
    "D = 10\n",
    "h1star = 42\n",
    "h2star = 40\n",
    "L = 1000\n",
    "P = 0.001\n",
    "N = 10000\n",
    "d0 = -2 * np.ones(N + 1)  # diagonal principal\n",
    "d0[0] = 1  # o primeiro valor da diagonal principal é 1\n",
    "d0[-1] = 1 # o último valor da diagonal principal é 1\n",
    "dplus1 = np.ones(N) # diagonal imediatamente acima da diagonal principal, posição 1\n",
    "dplus1[0] = 0    # o primeiro valor da diagonal é 0\n",
    "dmin1 = np.ones(N)  # diagonal imediatamente abaixo da diagonal principal, posição -1\n",
    "dmin1[-1] = 0    # o último valor da diagonal é 0\n",
    "A = diags([dmin1, d0, dplus1], [-1, 0, 1], format='csc')\n",
    "# Lado direito\n",
    "delx = L / N\n",
    "rhs = -P * delx ** 2 / (k * D) * np.ones(N + 1)\n",
    "rhs[0] = h1star\n",
    "rhs[-1] = h2star\n",
    "h = spsolve(A, rhs)\n",
    "plt.plot(h)\n",
    "plt.xlabel('node number')\n",
    "plt.ylabel('head (m)');"
   ]
  },
  {
   "cell_type": "markdown",
   "metadata": {},
   "source": [
    "<a href=\"#back8\">Voltar ao Exercício 8</a>"
   ]
  },
  {
   "cell_type": "markdown",
   "metadata": {},
   "source": [
    "A obra \"Notebook 6: Sistemas de equações lineares\" é um derivado de [Notebook 6: Systems of linear equations](http://nbviewer.jupyter.org/github/mbakker7/exploratory_computing_with_python/blob/master/notebook6_linear_systems/py_exploratory_comp_6_sol.ipynb) de [mbakker7](https://github.com/mbakker7), sob a licença CC BY (4.0 Licença Internacional).\n",
    "\"Notebook 6: Sistemas de equações lineares\" é publicado sob a licença CC BY (4.0 Licença Internacional) por Educa2030."
   ]
  }
 ],
 "metadata": {
  "kernelspec": {
   "display_name": "Python 3",
   "language": "python",
   "name": "python3"
  },
  "language_info": {
   "codemirror_mode": {
    "name": "ipython",
    "version": 3
   },
   "file_extension": ".py",
   "mimetype": "text/x-python",
   "name": "python",
   "nbconvert_exporter": "python",
   "pygments_lexer": "ipython3",
   "version": "3.6.3"
  }
 },
 "nbformat": 4,
 "nbformat_minor": 1
}
