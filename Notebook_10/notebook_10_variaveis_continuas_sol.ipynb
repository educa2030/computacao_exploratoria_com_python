{
 "cells": [
  {
   "cell_type": "markdown",
   "metadata": {},
   "source": [
    "## Notebook 10: Variáveis aleatórias contínuas\n",
    "Neste Notebook, vamos abordar a distribuição contínua. Começamos por analisar dados que geramos nós mesmos e vamos considerar os dados reais no final do Notebook.\n",
    "\n",
    "A distribuição de probabilidade mais comum é, provavelmente (passe a redundância), a distribuição Normal. Os números aleatórios de uma distribuição Normal podem ser gerados com a função `normal` no subpacote `random` do pacote `numpy`, em que a palavra-chave `loc` é a média (a predefinição é 0) e `scale` é o desvio padrão (a predefinição é 1). A média e o desvio padrão de um conjunto de dados podem ser calculados com as funções `mean` e `std` do pacote `numpy`."
   ]
  },
  {
   "cell_type": "code",
   "execution_count": 1,
   "metadata": {
    "collapsed": true
   },
   "outputs": [],
   "source": [
    "import numpy as np\n",
    "import matplotlib.pyplot as plt\n",
    "import numpy.random as rnd\n",
    "%matplotlib inline"
   ]
  },
  {
   "cell_type": "code",
   "execution_count": 2,
   "metadata": {},
   "outputs": [
    {
     "name": "stdout",
     "output_type": "stream",
     "text": [
      "média dos dados:  5.05327626633\n",
      "desvio padrão dos dados:  2.12590328172\n"
     ]
    }
   ],
   "source": [
    "data = rnd.normal(loc=5, scale=2, size=100)  # Array com 100 valores\n",
    "print('média dos dados: ', np.mean(data))\n",
    "print('desvio padrão dos dados: ', np.std(data))"
   ]
  },
  {
   "cell_type": "markdown",
   "metadata": {},
   "source": [
    "Note que a média e o desvio padrão dos 100 números obtidos de uma distribuição normal com média de 5 e um desvio padrão de 2 não são exatamente iguais a 5 e 2, respetivamente. Afinal de contas, estas são apenas estimativas do desvio padrão e da média verdadeiros subjacentes. Estas estimativas designam-se média amostral e desvio padrão da amostra (dos 100 números obtidos de uma distribuição Normal). Execute o código acima várias vezes. É obtido um novo conjunto de 100 números aleatórios de cada vez, com um desvio padrão e uma média ligeiramente diferentes. Voltaremos a esta questão mais tarde."
   ]
  },
  {
   "cell_type": "markdown",
   "metadata": {},
   "source": [
    "### Histogramas\n",
    "Provavelmente, a primeira coisa a fazer quando obtém um novo conjunto de dados é ver os dados. Uma forma de o fazer é através de um histograma. Para criar um histograma, conta quantos pontos de dados recaem num determinado intervalo. Por exemplo, quantos pontos de dados existem entre 5 e 6. Estes intervalos designam-se *bins*. O gráfico de barras do número de pontos de dados em cada *bin* designa-se um histograma. A função utilizada para calcular e representar graficamente um histograma designa-se `hist` e faz parte do pacote `matplotlib`. A forma mais simples de representar graficamente um histograma é deixar a função `hist` decidir os *bins* que vai usar; o número de *bins* predefinido é `nbin=10`; a função `hist` define até onde colocar os limites dos *bins*. A função `hist` cria um histograma e devolve um tuplo com três elementos. O primeiro elemento é um array com o tamanho `nbin`, que contém o número de pontos de dados em cada *bin*. O segundo elemento é um array com o tamanho `nbin+1`, que contém os limites dos *bins*. O terceiro elemento é uma lista de objetos que representam as barras do histograma; não vamos utilizar este último elemento aqui.\n",
    "\n",
    "Na célula de código abaixo, criamos um histograma de 100 pontos obtidos de uma distribuição Normal, com uma média de 6 e um desvio padrão de 2. Note que, com um conjunto de dados de 100 pontos, o histograma não se parece muito à típica curva em forma de sino, caraterística de uma distribuição Normal, embora os pontos de dados sejam de facto obtidos de uma distribuição Normal real. Execute o código abaixo várias vezes para ver como muda com um novo conjunto aleatório de 100 pontos de dados."
   ]
  },
  {
   "cell_type": "code",
   "execution_count": 3,
   "metadata": {},
   "outputs": [
    {
     "name": "stdout",
     "output_type": "stream",
     "text": [
      "número de pontos de dados em cada bin: [  3.   4.   7.  22.  19.  22.  10.  10.   2.   1.]\n",
      "limites dos bins: [  1.26234945   2.31121987   3.3600903    4.40896072   5.45783114\n",
      "   6.50670156   7.55557199   8.60444241   9.65331283  10.70218326\n",
      "  11.75105368]\n"
     ]
    },
    {
     "data": {
      "image/png": "[encoded data removed]",
      "text/plain": [
       "<matplotlib.figure.Figure at 0x1094e7f60>"
      ]
     },
     "metadata": {},
     "output_type": "display_data"
    }
   ],
   "source": [
    "data = rnd.normal(loc=6, scale=2, size=100)\n",
    "hist_data = plt.hist(data)\n",
    "plt.xlabel('bins')\n",
    "plt.ylabel('número de pontos de dados')\n",
    "print('número de pontos de dados em cada bin:', hist_data[0])\n",
    "print('limites dos bins:', hist_data[1])"
   ]
  },
  {
   "cell_type": "markdown",
   "metadata": {},
   "source": [
    "Como pode ver no exemplo anterior, os limites dos bins não são escolhidos como números simpáticos: a função `hist` toma os valores máximo e mínimo dos dados e divide-os em intervalos iguais de `nbin`. Por norma, quererá especificar o número de bins com a palavra-chave `bins` e o intervalo (limites mínimo e máximo dos bins) com a palavra-chave `range`. Se os valores de dados estiverem fora do intervalo (como outliers), são ignorados. No código abaixo, são escolhidos 12 bins espaçados de forma igual de 0 a 12. Note que usamos os mesmos dados do gráfico acima, mas ao simplesmente escolhermos bins diferentes, o histograma tem um aspeto bastante diferente."
   ]
  },
  {
   "cell_type": "code",
   "execution_count": 4,
   "metadata": {},
   "outputs": [
    {
     "name": "stdout",
     "output_type": "stream",
     "text": [
      "número de pontos de dados em cada bin: [  0.   2.   1.   9.  14.  20.  22.  14.  11.   6.   0.   1.]\n",
      "limites dos bins: [  0.   1.   2.   3.   4.   5.   6.   7.   8.   9.  10.  11.  12.]\n"
     ]
    },
    {
     "data": {
      "image/png": "[encoded data removed]",
      "text/plain": [
       "<matplotlib.figure.Figure at 0x1094e7438>"
      ]
     },
     "metadata": {},
     "output_type": "display_data"
    }
   ],
   "source": [
    "hist_data = plt.hist(data, bins=12, range=(0, 12))\n",
    "print('número de pontos de dados em cada bin:', hist_data[0])\n",
    "print('limites dos bins:', hist_data[1])\n",
    "plt.xlabel('bins')\n",
    "plt.ylabel('número de pontos de dados');"
   ]
  },
  {
   "cell_type": "markdown",
   "metadata": {},
   "source": [
    "Pode ser adicionada uma linha que represente a função de densidade da probabilidade da distribuição normal subjacente. Comece por importar a classe `norm` do pacote `scipy.stats`. Depois, execute a função `norm.pdf` (pdf representa função de densidade da probabilidade, do inglês *probability density function*) para calcular os valores da distribuição normal dados os três argumentos: os valores de $x$ onde calcular a distribuição normal, a média e o desvio padrão. Vamos adicionar a distribuição Normal subjacente ao histograma que acabámos de criar. A única coisa que temos de mudar no histograma é o eixo vertical. No gráfico acima, o eixo vertical apresenta o número de pontos de dados. Precisamos de normalizar isto para que o eixo vertical dê a probabilidade de um ponto de dados se encontrar num bin. O histograma pode ser normalizado através da palavra-chave `normed=True`."
   ]
  },
  {
   "cell_type": "code",
   "execution_count": 5,
   "metadata": {},
   "outputs": [
    {
     "data": {
      "image/png": "[encoded data removed]",
      "text/plain": [
       "<matplotlib.figure.Figure at 0x1094e7be0>"
      ]
     },
     "metadata": {},
     "output_type": "display_data"
    }
   ],
   "source": [
    "from scipy.stats import norm\n",
    "a = plt.hist(data, bins=12, range=(0, 12), normed=True)\n",
    "x = np.linspace(0, 12, 100)\n",
    "y = norm.pdf(x, 6, 2) # mu=6, sig=2\n",
    "plt.plot(x, y, 'r')\n",
    "plt.xlabel('valor')\n",
    "plt.ylabel('probabilidade');"
   ]
  },
  {
   "cell_type": "markdown",
   "metadata": {},
   "source": [
    "### <a name=\"back1\"></a>Exercício 1. O primeiro histograma\n",
    "Gere 1000 números aleatórios a partir de uma distribuição Normal com uma média de 100 e um desvio padrão de 10. Calcule e apresente no ecrã a média e o desvio padrão dos seus dados. Crie dois gráficos um acima do outro através do comando `plt.subplot` (use `plt.subplot?` se se esqueceu de como o fazer). No gráfico de cima, represente um histograma com 20 bins de 50 a 150. Note que, com um conjunto de dados deste tamanho (1000 pontos de dados), o histograma começa a parecer-se muito mais com a típica curva em forma de sino de uma distribuição Normal. Adicione ao gráfico uma linha vermelha que represente a função de densidade da probabilidade da distribuição normal subjacente. No gráfico de baixo, crie um histograma da função de distribuição acumulada ao definir a palavra-chave `cumulative=True` (consulte `plt.hist?` para obter detalhes). No último gráfico, também pode ser positivo usar as palavras-chave `histtype='step'` e `align='right'`. Adicione ao gráfico uma linha vermelha que represente a função de distribuição acumulada da distribuição normal subjacente através da função `norm.cdf`, que funciona tal como a função `norm.pdf`, mas calcula a função de distribuição acumulada (cdf, do inglês *cumulative distribution function*). Por último, certifique-se de que os limites ao longo do eixo horizontal são os mesmos para ambos os gráficos."
   ]
  },
  {
   "cell_type": "markdown",
   "metadata": {},
   "source": [
    "<a href=\"#ex1answer\">Soluções do Exercício 1</a>"
   ]
  },
  {
   "cell_type": "markdown",
   "metadata": {},
   "source": [
    "### Percentis\n",
    "Outra descrição útil de um conjunto de dados são os percentis ou quantis. Para tal, consideramos os dados ordenados, ou seja, ordenamos os pontos de dados no sentido ascendente (para que o primeiro ponto de dados seja o valor mínimo dos dados e o último ponto de dados seja o valor máximo). O percentil 25 é o ponto de dados nos dados ordenados que garante que 25% dos dados estão abaixo deste ponto de dados (logo, 75% estão acima deste ponto de dados). Os percentis de um conjunto de dados são habitualmente referidos como “percentis empíricos”, pois são os percentis do conjunto de dados e não da distribuição subjacente. O percentil empírico 50 é equivalente à mediana dos dados. Os intervalos comuns a observar são a região dos 50% em torno da mediana (também designado intervalo interquartil ou IQR), que vai do percentil empírico 25 ao percentil empírico 75, e a região dos 95%, que vai do percentil empírico 2,5 ao percentil empírico 97,5. Os percentis de um conjunto de dados podem ser calculados com a função `percentile` do pacote `numpy`. O primeiro argumento são os dados, o segundo argumento é uma lista de percentis:"
   ]
  },
  {
   "cell_type": "code",
   "execution_count": 6,
   "metadata": {},
   "outputs": [
    {
     "name": "stdout",
     "output_type": "stream",
     "text": [
      "percentil 2.5: 6.21945242096\n",
      "percentil 50: 10.2104190482\n",
      "percentil 97.5: 13.7214065335\n",
      "intervalo 95%: 6.21945242096  até  13.7214065335\n"
     ]
    }
   ],
   "source": [
    "data = rnd.normal(loc=10, scale=2, size=100)\n",
    "lower, median, upper = np.percentile(data, [2.5, 50, 97.5])\n",
    "print('percentil 2.5:', lower)\n",
    "print('percentil 50:', median)\n",
    "print('percentil 97.5:', upper)\n",
    "print('intervalo 95%:', lower, ' até ', upper)"
   ]
  },
  {
   "cell_type": "markdown",
   "metadata": {},
   "source": [
    "Os percentis teóricos de uma dada distribuição podem ser calculados com a função `ppf`, exceto no caso de os percentis serem dados como valores inferiores a 1 (ou seja, 0,5 para o percentil 50). Por exemplo, os valores teóricos para a distribuição Normal usada acima são:"
   ]
  },
  {
   "cell_type": "code",
   "execution_count": 7,
   "metadata": {},
   "outputs": [
    {
     "data": {
      "text/plain": [
       "array([  6.08007203,  10.        ,  13.91992797])"
      ]
     },
     "execution_count": 7,
     "metadata": {},
     "output_type": "execute_result"
    }
   ],
   "source": [
    "norm.ppf([0.025, 0.5, 0.975], loc=10, scale=2)"
   ]
  },
  {
   "cell_type": "markdown",
   "metadata": {},
   "source": [
    "### <a name=\"back2\"></a>Exercício 2. Quartil superior e inferior\n",
    "Gere 100 pontos de dados a partir de uma distribuição Normal com uma média de 20 e um desvio padrão de 4. Calcule o intervalo interquartil (intervalo de 25% a 75%). Calcule o valor teórico do intervalo interquartil e compare-o com o intervalo interquartil dos dados. Crie um histograma da distribuição acumulada. Adicione linhas verticais vermelhas ao gráfico para os percentis empíricos 25 e 75 dos dados e linhas verticais pretas para os percentis 25 e 75 da distribuição subjacente. As linhas verticais ao longo do gráfico podem ser adicionadas com a função `plt.axvline`, que assume o valor de $x$ da linha como um argumento. Para especificar a cor da linha vertical, use o argumento de palavra-chave `color`."
   ]
  },
  {
   "cell_type": "markdown",
   "metadata": {},
   "source": [
    "<a href=\"#ex2answer\">Soluções do Exercício 2</a>"
   ]
  },
  {
   "cell_type": "markdown",
   "metadata": {},
   "source": [
    "### Diagramas de caixa de bigodes (*Box-whisker plots*)\n",
    "Os diagramas de caixa de bigodes (também referidos como boxplots) são uma forma de visualizar o nível e o alcance dos dados. A partir de uma boxplot, pode ver se os dados são simétricos ou não e quão amplos são os dados. Um diagrama de caixa de bigodes pode ser criado com a função `boxplot` do pacote `matplotlib` da seguinte forma:"
   ]
  },
  {
   "cell_type": "code",
   "execution_count": 8,
   "metadata": {},
   "outputs": [
    {
     "data": {
      "image/png": "[encoded data removed]",
      "text/plain": [
       "<matplotlib.figure.Figure at 0x111f905c0>"
      ]
     },
     "metadata": {},
     "output_type": "display_data"
    }
   ],
   "source": [
    "rnd.seed(10)\n",
    "data = rnd.normal(loc=10, scale=2, size=500)\n",
    "plt.boxplot(data);"
   ]
  },
  {
   "cell_type": "markdown",
   "metadata": {},
   "source": [
    "A função `boxplot` cria o gráfico e devolve muitas coisas, como 'caixas', 'linhas horizontais no final dos bigodes (em inglês, *caps*)', etc. Estas últimas são úteis para as diferentes caraterísticas do gráfico e não as vamos usar aqui. O que vê no gráfico é uma linha vermelha na mediana dos dados. A caixa azul abrange o intervalo IQR do quartil inferior (25%) ao quartil superior (75%). As caixas são as linhas pretas que estão unidas à caixa de 50% com linhas pretas. Prolongam-se pelo ponto de dados mais extremo no intervalo de dados `whis*IQR`, em que o valor predefinido de `whis` é 1,5. Quaisquer pontos de dados que recaiam fora das caixas são potenciais outliers e são representados graficamente como pequenos círculos. Neste caso, há 5 pontos fora das caixas, mas nenhum é outlier. Foram, afinal de contas, obtidos da distribuição Normal!"
   ]
  },
  {
   "cell_type": "markdown",
   "metadata": {},
   "source": [
    "### Pandas\n",
    "Todas as técnicas descritas neste Notebook também podem ser realizadas com o pacote `pandas`. Geralmente, o `pandas` é mais simples, pois tem muito mais funcionalidades. Pode gerir os valores em falta (valores `NaN`, por exemplo) e, por predefinição, as representações gráficas têm um bom aspeto.\n",
    "\n",
    "A função `read_csv` do pacote `pandas` poderá ser usada para ler dados de um ficheiro e armazená-los num `DataFrame` (consulte o Notebook onde abordámos o pacote `pandas`). Um `DataFrame` também pode ser criado do zero. Primeiro, o pacote `pandas` é importado e designado `pd`. Depois, é criado um `DataFrame` e os valores são adicionados a duas colunas ao obter duas distribuições normais diferentes; as colunas são designadas `test1` e `test2`. A função `describe` do pacote `pandas` cria um belo resumo dos dados, incluindo o número de valores, a média, o desvio padrão e os valores mínimo, de 25%, de 50%, de 75% e máximo."
   ]
  },
  {
   "cell_type": "code",
   "execution_count": 9,
   "metadata": {},
   "outputs": [
    {
     "data": {
      "text/html": [
       "<div>\n",
       "<style>\n",
       "    .dataframe thead tr:only-child th {\n",
       "        text-align: right;\n",
       "    }\n",
       "\n",
       "    .dataframe thead th {\n",
       "        text-align: left;\n",
       "    }\n",
       "\n",
       "    .dataframe tbody tr th {\n",
       "        vertical-align: top;\n",
       "    }\n",
       "</style>\n",
       "<table border=\"1\" class=\"dataframe\">\n",
       "  <thead>\n",
       "    <tr style=\"text-align: right;\">\n",
       "      <th></th>\n",
       "      <th>test1</th>\n",
       "      <th>test2</th>\n",
       "    </tr>\n",
       "  </thead>\n",
       "  <tbody>\n",
       "    <tr>\n",
       "      <th>count</th>\n",
       "      <td>100.000000</td>\n",
       "      <td>100.000000</td>\n",
       "    </tr>\n",
       "    <tr>\n",
       "      <th>mean</th>\n",
       "      <td>2.862210</td>\n",
       "      <td>5.101536</td>\n",
       "    </tr>\n",
       "    <tr>\n",
       "      <th>std</th>\n",
       "      <td>1.883256</td>\n",
       "      <td>0.933086</td>\n",
       "    </tr>\n",
       "    <tr>\n",
       "      <th>min</th>\n",
       "      <td>-2.632002</td>\n",
       "      <td>3.012896</td>\n",
       "    </tr>\n",
       "    <tr>\n",
       "      <th>25%</th>\n",
       "      <td>1.487364</td>\n",
       "      <td>4.512289</td>\n",
       "    </tr>\n",
       "    <tr>\n",
       "      <th>50%</th>\n",
       "      <td>2.742579</td>\n",
       "      <td>5.003217</td>\n",
       "    </tr>\n",
       "    <tr>\n",
       "      <th>75%</th>\n",
       "      <td>4.158108</td>\n",
       "      <td>5.631319</td>\n",
       "    </tr>\n",
       "    <tr>\n",
       "      <th>max</th>\n",
       "      <td>8.343370</td>\n",
       "      <td>7.662577</td>\n",
       "    </tr>\n",
       "  </tbody>\n",
       "</table>\n",
       "</div>"
      ],
      "text/plain": [
       "            test1       test2\n",
       "count  100.000000  100.000000\n",
       "mean     2.862210    5.101536\n",
       "std      1.883256    0.933086\n",
       "min     -2.632002    3.012896\n",
       "25%      1.487364    4.512289\n",
       "50%      2.742579    5.003217\n",
       "75%      4.158108    5.631319\n",
       "max      8.343370    7.662577"
      ]
     },
     "execution_count": 9,
     "metadata": {},
     "output_type": "execute_result"
    }
   ],
   "source": [
    "import pandas as pd\n",
    "data = pd.DataFrame()\n",
    "data['test1'] = rnd.normal(loc=3, scale=2, size=100)\n",
    "data['test2'] = rnd.normal(loc=5, scale=1, size=100)\n",
    "data.describe()"
   ]
  },
  {
   "cell_type": "markdown",
   "metadata": {},
   "source": [
    "Valores como `mean` ou `max` podem ser obtidos para todo o `DataFrame` ou para uma coluna de cada vez. Os percentis podem ser obtidos através da função `quantile`. A função `quantile` devolve um `DataFrame`, ao qual se pode aceder com funções padrão para `DataFrame`, ou os valores podem ser extraídos para um array `numpy` por meio do atributo `.values`."
   ]
  },
  {
   "cell_type": "code",
   "execution_count": 10,
   "metadata": {},
   "outputs": [
    {
     "name": "stdout",
     "output_type": "stream",
     "text": [
      "mínimo de test1: -2.6320024343\n",
      "desvio padrão de DataFrame:\n",
      "test1    1.883256\n",
      "test2    0.933086\n",
      "dtype: float64\n",
      "percentis de 5% and 95% de test2:\n",
      "0.05    3.535725\n",
      "0.95    6.821249\n",
      "Name: test2, dtype: float64\n",
      "quantile como numpy array: [ 3.53572544  6.82124898]\n"
     ]
    }
   ],
   "source": [
    "print('mínimo de test1:', data.test1.min())\n",
    "print('desvio padrão de DataFrame:')\n",
    "print(data.std())\n",
    "print('percentis de 5% and 95% de test2:')\n",
    "print(data.test2.quantile([0.05, 0.95]))\n",
    "print('quantile como numpy array:', data.test2.quantile([0.05, 0.95]).values)"
   ]
  },
  {
   "cell_type": "markdown",
   "metadata": {},
   "source": [
    "O histograma dos dados em duas colunas pode ser criado com a função `hist` do pacote `pandas`. Note que a palavra-chave `sharex` está definida como `True` para que o eixo horizontal tenha o mesmo tamanho em ambos os histogramas (o que facilita a comparação). O tamanho da figura é especificado para que a figura seja mais ampla (10) do que alta (4)."
   ]
  },
  {
   "cell_type": "code",
   "execution_count": 11,
   "metadata": {},
   "outputs": [
    {
     "data": {
      "image/png": "[encoded data removed]",
      "text/plain": [
       "<matplotlib.figure.Figure at 0x10e5849b0>"
      ]
     },
     "metadata": {},
     "output_type": "display_data"
    }
   ],
   "source": [
    "data.hist(sharex=True, figsize=(10, 4));"
   ]
  },
  {
   "cell_type": "markdown",
   "metadata": {},
   "source": [
    "### Dados em falta\n",
    "Os dados reais geralmente contêm valores em falta. Todas as bases de dados têm a sua forma de tratar valores em falta. Algumas bases de dados deixam o valor vazio, outras substituem um número que pode ser facilmente reconhecido (por exemplo, -9999). No `pandas`, estes valores podem ser convertidos em *Not A Number* através do valor `NaN` do pacote `numpy` (funciona tanto no formato `np.NaN` como `np.nan`). No código abaixo, o valor com índice 5 na coluna `test1` mudou para `nan`. Pode ser obtido um histograma acumulado como:\n",
    "(Nota: a função `plt.hist` não funciona com dados que incluam valores não numéricos, mas a função do histograma do `pandas` funciona bem.)"
   ]
  },
  {
   "cell_type": "code",
   "execution_count": 12,
   "metadata": {},
   "outputs": [
    {
     "data": {
      "image/png": "[encoded data removed]",
      "text/plain": [
       "<matplotlib.figure.Figure at 0x1a1429c588>"
      ]
     },
     "metadata": {},
     "output_type": "display_data"
    }
   ],
   "source": [
    "data.test1[5] = np.nan  # Substituir o valor de test1 com índice 5 por nan\n",
    "data.hist(cumulative=True, sharex=True, figsize=(10, 4), normed=True);"
   ]
  },
  {
   "cell_type": "markdown",
   "metadata": {},
   "source": [
    "O `pandas` também representa boxplots de um DataFrame."
   ]
  },
  {
   "cell_type": "code",
   "execution_count": 13,
   "metadata": {},
   "outputs": [
    {
     "data": {
      "image/png": "[encoded data removed]",
      "text/plain": [
       "<matplotlib.figure.Figure at 0x1a142acef0>"
      ]
     },
     "metadata": {},
     "output_type": "display_data"
    }
   ],
   "source": [
    "data.boxplot();"
   ]
  },
  {
   "cell_type": "markdown",
   "metadata": {},
   "source": [
    "O histograma ou boxplot de uma coluna de um DataFrame pode ser obtido ao especificar a coluna que pretende representar graficamente:"
   ]
  },
  {
   "cell_type": "code",
   "execution_count": 14,
   "metadata": {},
   "outputs": [
    {
     "data": {
      "text/plain": [
       "<matplotlib.figure.Figure at 0x111fe54a8>"
      ]
     },
     "metadata": {},
     "output_type": "display_data"
    },
    {
     "data": {
      "image/png": "[encoded data removed]",
      "text/plain": [
       "<matplotlib.figure.Figure at 0x111fe55f8>"
      ]
     },
     "metadata": {},
     "output_type": "display_data"
    },
    {
     "data": {
      "image/png": "[encoded data removed]",
      "text/plain": [
       "<matplotlib.figure.Figure at 0x1a142e3080>"
      ]
     },
     "metadata": {},
     "output_type": "display_data"
    }
   ],
   "source": [
    "plt.figure()\n",
    "data.hist(column='test1')  # Cria o histograma da coluna test1\n",
    "plt.figure()\n",
    "data.boxplot(column='test2');  # Cria o boxplot da coluna test2"
   ]
  },
  {
   "cell_type": "markdown",
   "metadata": {},
   "source": [
    "### Valores únicos num DataFrame\n",
    "O pacote `pandas` pode ser muito útil para determinar os valores únicos num DataFrame ou na coluna de um DataFrame. Como exemplo, vamos criar um DataFrame com 100 números inteiros aleatórios entre 1 e 10. Pode encontrar os valores únicos na coluna com a função `.unique()`."
   ]
  },
  {
   "cell_type": "code",
   "execution_count": 15,
   "metadata": {},
   "outputs": [
    {
     "name": "stdout",
     "output_type": "stream",
     "text": [
      "valores únicos na coluna: [ 6  7 10  2  8  1  3  9  4  5]\n"
     ]
    }
   ],
   "source": [
    "a = pd.DataFrame()\n",
    "a['data'] = rnd.randint(1, 10 + 1, 100)\n",
    "print('valores únicos na coluna:', a['data'].unique())"
   ]
  },
  {
   "cell_type": "markdown",
   "metadata": {},
   "source": [
    "Vamos agora começar a aplicar as nossas técnicas estatísticas em dados reais em vez de em conjuntos de dados gerados com um gerador de números aleatórios."
   ]
  },
  {
   "cell_type": "markdown",
   "metadata": {},
   "source": [
    "<figure>\n",
    "<img src= \"http://upload.wikimedia.org/wikipedia/commons/thumb/8/8f/Pseudotsuga_menziesii_28236.JPG/450px-Pseudotsuga_menziesii_28236.JPG\" width=\"200\" ALIGN=\"right\" style=\"padding:10px;\"> \n",
    "</figure>\n",
    "### Conjunto de dados de experiências em vigas de madeira\n",
    "É fornecido um conjunto de dados de 356 experiências em vigas de madeira, abetos de Douglas para ser mais específico (consulte a imagem à direita), no ficheiro `douglas_data.csv` (dados cedidos por Geert Ravenhorst, Timber Structures, Civil Engineering and Geosciences, TU Delft). O ficheiro contém 9 colunas separadas por vírgulas. A primeira linha (linha número 0) do ficheiro contém os nomes das colunas. A segunda linha (linha número 1) contém informações acerca das unidades dos dados (não vamos carregar estas informações). A primeira coluna tem o nome da amostra (`sample`), seguindo-se: a percentagem da humidade (`moisture`), a proporção do nó (`knotratio`), a largura do anel da árvore em mm (`treering`), o módulo de elasticidade dinâmico em N/mm$^2$ (`Edyn`), a densidade da madeira em kg/m$^3$ (`density`), a altura da viga em mm (`beamheight`), o módulo de elasticidade estático em N/mm$^2$ (`Estat`) e, por último, a resistência à flexão em N/mm$^2$ (`bstrength`). Será fornecida uma descrição mais extensa destes diferentes dados quando forem usados."
   ]
  },
  {
   "cell_type": "markdown",
   "metadata": {},
   "source": [
    "### <a name=\"back3\"></a>Exercício 3. Carregar dados experimentais e operações básicas\n",
    "Carregue os dados do ficheiro `douglas_data.csv` através do comando `read_csv` do pacote `pandas` (consulte `notebook8` para uma introdução ao `pandas`). Use as palavras-chave `skiprows` e `skipinitialspace`. Efetue as três seguintes tarefas:\n",
    "\n",
    "* Determine e registe os valores mínimo e máximo medidos da resistência à flexão.\n",
    "* Determine e registe a média e o desvio padrão da densidade. \n",
    "* Determine e registe os percentis 2.5, 50 e 97.5 da largura do anel da árvore."
   ]
  },
  {
   "cell_type": "markdown",
   "metadata": {},
   "source": [
    "<a href=\"#ex3answer\">Soluções do Exercício 3</a>"
   ]
  },
  {
   "cell_type": "markdown",
   "metadata": {},
   "source": [
    "### <a name=\"back4\"></a>Exercício 4. Boxplot de conteúdos de humidade\n",
    "Os conteúdos de humidade são definidos como a divisão da massa da humidade numa viga pela massa total da viga (incluindo a humidade), sendo registada em forma de percentagem. Calcule e registe a média e o desvio padrão dos conteúdos de humidade e crie uma boxplot."
   ]
  },
  {
   "cell_type": "markdown",
   "metadata": {},
   "source": [
    "Quando olha para os dados, é óbvio que existe um outlier. Crie uma nova boxplot para todos os dados, excetuando o outlier, por exemplo, ao criar uma boxplot para todos os dados de humidade abaixo de um determinado valor. Certifique-se de que escolhe os limites certos para o eixo vertical de forma a que os bigodes (*whiskers*) fiquem visíveis."
   ]
  },
  {
   "cell_type": "markdown",
   "metadata": {},
   "source": [
    "<a href=\"#ex4answer\">Soluções do Exercício 4</a>"
   ]
  },
  {
   "cell_type": "markdown",
   "metadata": {},
   "source": [
    "### <a name=\"back5\"></a>Exercício 5. Histograma da resistência à flexão\n",
    "Crie um histograma da resistência à flexão. Adicione etiquetas aos eixos. O histograma parece uma distribuição Normal? No mesmo gráfico, crie uma linha vertical vermelha para a resistência à flexão de 5% determinada a título experimental. Apresente a resistência à flexão de percentil 5 no ecrã."
   ]
  },
  {
   "cell_type": "markdown",
   "metadata": {},
   "source": [
    "<a href=\"#ex5answer\">Soluções do Exercício 5</a>"
   ]
  },
  {
   "cell_type": "markdown",
   "metadata": {},
   "source": [
    "### <a name=\"back6\"></a>Exercício 6. Distribuição normal para a resistência à flexão\n",
    "Vamos tentar encaixar uma distribuição normal nos dados de resistência à flexão. Obviamente, isto não é muito correto, pois a cauda da distribuição Normal vai prolongar-se abaixo de zero à esquerda, o que é irrealista. Se a parte da cauda abaixo de zero é pequena, pode ser um primeiro passo razoável. Crie um histograma normalizado da resistência à flexão. Calcule a média e o desvio padrão dos dados de resistência à flexão e represente no mesmo gráfico a função de densidade da probabilidade Normal através destas estimativas da média e do desvio padrão. Adicione uma linha vertical vermelha para a resistência à flexão de 5% de acordo com os dados, e uma linha vertical preta para a resistência à flexão de 5% de acordo com a distribuição Normal ajustada."
   ]
  },
  {
   "cell_type": "markdown",
   "metadata": {},
   "source": [
    "<a href=\"#ex6answer\">Soluções do Exercício 6</a>"
   ]
  },
  {
   "cell_type": "markdown",
   "metadata": {},
   "source": [
    "### Soluções dos exercícios"
   ]
  },
  {
   "cell_type": "markdown",
   "metadata": {},
   "source": [
    "<a name=\"ex1answer\">Soluções do Exercício 1</a>"
   ]
  },
  {
   "cell_type": "code",
   "execution_count": 16,
   "metadata": {},
   "outputs": [
    {
     "name": "stdout",
     "output_type": "stream",
     "text": [
      "média dos dados é: 99.6455825837\n",
      "desvio padrão dos dados é: 10.3855767338\n"
     ]
    },
    {
     "data": {
      "image/png": "[encoded data removed]",
      "text/plain": [
       "<matplotlib.figure.Figure at 0x1a1447dc88>"
      ]
     },
     "metadata": {},
     "output_type": "display_data"
    }
   ],
   "source": [
    "from scipy.stats import norm\n",
    "mu = 100\n",
    "sig = 10\n",
    "data = rnd.normal(loc=mu, scale=sig, size=1000)\n",
    "print('média dos dados é:', np.mean(data))\n",
    "print('desvio padrão dos dados é:', np.std(data))\n",
    "plt.subplot(211)\n",
    "a = plt.hist(data, bins=20, range=(50, 150), normed=True)\n",
    "x = np.linspace(50, 150, 100)\n",
    "y = norm.pdf(x, mu, sig)\n",
    "plt.plot(x, y, 'r')\n",
    "plt.xlim(50, 150)\n",
    "plt.ylabel('probabilidade')\n",
    "plt.subplot(212)\n",
    "b = plt.hist(data, bins=20, range=(50, 150), cumulative=True, \\\n",
    "             histtype='step', normed=True, align='right')\n",
    "y = norm.cdf(x, mu, sig)\n",
    "plt.plot(x, y, 'r')\n",
    "plt.xlim(50, 150)\n",
    "plt.xlabel('bins')\n",
    "plt.ylabel('probabilidade');"
   ]
  },
  {
   "cell_type": "markdown",
   "metadata": {},
   "source": [
    "<a href=\"#back1\">Voltar ao Exercício 1</a>\n",
    "\n",
    "<a name=\"ex2answer\">Soluções do Exercício 2</a>"
   ]
  },
  {
   "cell_type": "code",
   "execution_count": 17,
   "metadata": {},
   "outputs": [
    {
     "name": "stdout",
     "output_type": "stream",
     "text": [
      "IQR pdf: 17.3020409992 22.6979590008\n",
      "IQR dos dados  16.6812350038 22.5296106987\n"
     ]
    },
    {
     "data": {
      "image/png": "[encoded data removed]",
      "text/plain": [
       "<matplotlib.figure.Figure at 0x1a142bec18>"
      ]
     },
     "metadata": {},
     "output_type": "display_data"
    }
   ],
   "source": [
    "mu = 20\n",
    "sig = 4\n",
    "p25, p75 = norm.ppf([0.25, 0.75], loc=mu, scale=sig)\n",
    "print('IQR pdf:', p25, p75)\n",
    "data = rnd.normal(loc=mu, scale=sig, size=100)\n",
    "d25, d75 = np.percentile(data, [25, 75])\n",
    "print('IQR dos dados ', d25, d75)\n",
    "plt.hist(data, bins=20, cumulative=True, histtype='step')\n",
    "plt.axvline(d25, color='r')\n",
    "plt.axvline(d75, color='r')\n",
    "plt.axvline(p25, color='k')\n",
    "plt.axvline(p75, color='k')\n",
    "plt.xlabel('bins')\n",
    "plt.ylabel('número acumulado de pontos de dados');"
   ]
  },
  {
   "cell_type": "markdown",
   "metadata": {},
   "source": [
    "<a href=\"#back2\">Voltar ao Exercício 2</a>\n",
    "\n",
    "<a name=\"ex3answer\">Soluções do Exercício 3</a>"
   ]
  },
  {
   "cell_type": "code",
   "execution_count": 18,
   "metadata": {},
   "outputs": [
    {
     "name": "stdout",
     "output_type": "stream",
     "text": [
      "mínimo e máximo da resistência à flexão:  15.66 101.53\n",
      "média e desvio padrão da densidade:  575.7247191011236 62.0073830786214\n",
      "2.5%, 50%, 97.5% da largura do anel da árvore: \n",
      "0.025    2.04750\n",
      "0.500    3.78000\n",
      "0.975    7.00875\n",
      "Name: treering, dtype: float64\n"
     ]
    }
   ],
   "source": [
    "from pandas import read_csv\n",
    "w = read_csv('douglas_data.csv',skiprows=[1],skipinitialspace=True)\n",
    "print('mínimo e máximo da resistência à flexão: ', w.bstrength.min(), w.bstrength.max())\n",
    "print('média e desvio padrão da densidade: ', w.density.mean(), w.density.std())\n",
    "print('2.5%, 50%, 97.5% da largura do anel da árvore: ')\n",
    "print(w.treering.quantile([0.025, 0.5, 0.975]))"
   ]
  },
  {
   "cell_type": "markdown",
   "metadata": {},
   "source": [
    "<a href=\"#back3\">Voltar ao Exercício 3</a>\n",
    "\n",
    "<a name=\"ex4answer\">Soluções do Exercício 4</a>"
   ]
  },
  {
   "cell_type": "code",
   "execution_count": 19,
   "metadata": {},
   "outputs": [
    {
     "name": "stdout",
     "output_type": "stream",
     "text": [
      "média dos conteúdos de humidade:  13.553932584269662\n",
      "desvio padrão dos conteúdos de humidade:  1.7931673875992056\n"
     ]
    },
    {
     "data": {
      "image/png": "[encoded data removed]",
      "text/plain": [
       "<matplotlib.figure.Figure at 0x1a144dbe80>"
      ]
     },
     "metadata": {},
     "output_type": "display_data"
    }
   ],
   "source": [
    "print('média dos conteúdos de humidade: ', w.moisture.mean())\n",
    "print('desvio padrão dos conteúdos de humidade: ', w.moisture.std())\n",
    "a = plt.boxplot(w.moisture)"
   ]
  },
  {
   "cell_type": "code",
   "execution_count": 20,
   "metadata": {},
   "outputs": [
    {
     "data": {
      "image/png": "[encoded data removed]",
      "text/plain": [
       "<matplotlib.figure.Figure at 0x1a146b1ba8>"
      ]
     },
     "metadata": {},
     "output_type": "display_data"
    }
   ],
   "source": [
    "plt.boxplot(w.moisture[w.moisture < 30])\n",
    "plt.ylim(10.5, 17);"
   ]
  },
  {
   "cell_type": "markdown",
   "metadata": {},
   "source": [
    "<a href=\"#back4\">Voltar ao Exercício 4</a>\n",
    "\n",
    "<a name=\"ex5answer\">Soluções do Exercício 5</a>"
   ]
  },
  {
   "cell_type": "code",
   "execution_count": 21,
   "metadata": {},
   "outputs": [
    {
     "name": "stdout",
     "output_type": "stream",
     "text": [
      "percentil 5 empírico:  22.412499999999998\n"
     ]
    },
    {
     "data": {
      "image/png": "[encoded data removed]",
      "text/plain": [
       "<matplotlib.figure.Figure at 0x1a1479b978>"
      ]
     },
     "metadata": {},
     "output_type": "display_data"
    }
   ],
   "source": [
    "w.hist(column='bstrength', normed=True)\n",
    "plt.xlabel('resistência à flexão (N/m$^2$)')\n",
    "five = w.bstrength.quantile(0.05)\n",
    "print('percentil 5 empírico: ', five)\n",
    "plt.axvline(five, color='r');"
   ]
  },
  {
   "cell_type": "markdown",
   "metadata": {},
   "source": [
    "<a href=\"#back5\">Voltar ao Exercício 5</a>\n",
    "\n",
    "<a name=\"ex6answer\">Soluções do Exercício 6</a>"
   ]
  },
  {
   "cell_type": "code",
   "execution_count": 22,
   "metadata": {},
   "outputs": [
    {
     "data": {
      "image/png": "[encoded data removed]",
      "text/plain": [
       "<matplotlib.figure.Figure at 0x1a14cafb00>"
      ]
     },
     "metadata": {},
     "output_type": "display_data"
    }
   ],
   "source": [
    "from scipy.stats import norm\n",
    "w.hist(column='bstrength', normed=True)\n",
    "meanstrength = w.bstrength.mean()\n",
    "stdstrength = w.bstrength.std()\n",
    "x = np.linspace(0, 100, 100)\n",
    "y = norm.pdf(x, loc=meanstrength, scale=stdstrength)\n",
    "plt.plot(x, y, 'r')\n",
    "plt.axvline(five, color='r')\n",
    "plt.axvline(meanstrength - 1.64 * stdstrength, color='k');"
   ]
  },
  {
   "cell_type": "markdown",
   "metadata": {},
   "source": [
    "<a href=\"#back6\">Voltar ao Exercício 6</a>"
   ]
  },
  {
   "cell_type": "markdown",
   "metadata": {},
   "source": [
    "A obra \"Notebook 10: Variáveis aleatórias contínuas\" é um derivado de [Notebook 10: Continuous random variables](http://nbviewer.jupyter.org/github/mbakker7/exploratory_computing_with_python/blob/master/notebook10_continuous_random_variables/py_exploratory_comp_10_sol.ipynb) de [mbakker7](https://github.com/mbakker7), sob a licença CC BY (4.0 Licença Internacional). \"Notebook 10: Variáveis aleatórias contínuas\" é publicado sob a licença CC BY (4.0 Licença Internacional) por Educa2030."
   ]
  }
 ],
 "metadata": {
  "kernelspec": {
   "display_name": "Python 3",
   "language": "python",
   "name": "python3"
  },
  "language_info": {
   "codemirror_mode": {
    "name": "ipython",
    "version": 3
   },
   "file_extension": ".py",
   "mimetype": "text/x-python",
   "name": "python",
   "nbconvert_exporter": "python",
   "pygments_lexer": "ipython3",
   "version": "3.6.3"
  }
 },
 "nbformat": 4,
 "nbformat_minor": 1
}
