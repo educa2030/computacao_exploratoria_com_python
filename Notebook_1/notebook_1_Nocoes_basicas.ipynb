{
 "cells": [
  {
   "cell_type": "markdown",
   "metadata": {},
   "source": [
    "## Notebook 1: Noções básicas e representação gráfica\n",
    "### Primeiros passos com Python\n",
    "Portátil, potente e extremamente fácil de usar, o Python é uma linguagem de programação de código aberto bastante popular, usada por aplicações de script e programas independentes. O Python pode ser utilizado para fazer praticamente tudo. Por exemplo, pode utilizar Python como uma calculadora. Posicione o cursor na célula de código abaixo e prima [shift][enter]. O resultado deve ser 12."
   ]
  },
  {
   "cell_type": "code",
   "execution_count": null,
   "metadata": {
    "collapsed": true
   },
   "outputs": [],
   "source": [
    "6 * 2"
   ]
  },
  {
   "cell_type": "markdown",
   "metadata": {},
   "source": [
    "Repare que o espaço extra é adicionado para tornar o código mais legível. `2 * 3` funciona da mesma forma que `2*3`. Mas é altamente recomendado usar os espaços adicionais (de facto, esta é considerada uma boa prática).\n",
    "\n",
    "Ao programar, o objetivo é armazenar os valores em variáveis."
   ]
  },
  {
   "cell_type": "code",
   "execution_count": null,
   "metadata": {
    "collapsed": true
   },
   "outputs": [],
   "source": [
    "a = 6\n",
    "b = 2\n",
    "a * b"
   ]
  },
  {
   "cell_type": "markdown",
   "metadata": {},
   "source": [
    "Tanto `a` como `b` são agora variáveis. Cada variável tem um tipo. Neste caso, são ambos números inteiros. Para apresentar o valor de uma variável no ecrã, use a função `print` (a última instrução de uma célula de código é apresentada automaticamente no ecrã se não estiver armazenada numa variável, como acima demonstrado)."
   ]
  },
  {
   "cell_type": "code",
   "execution_count": null,
   "metadata": {
    "collapsed": true
   },
   "outputs": [],
   "source": [
    "print(a)\n",
    "print(b)\n",
    "print(a * b)\n",
    "print(a / b)"
   ]
  },
  {
   "cell_type": "markdown",
   "metadata": {},
   "source": [
    "Pode adicionar algum texto à função `print` colocando o texto entre aspas (funciona tanto com aspas simples como com aspas duplas, desde que seja coerente no início e no fim), e separando o texto da variável com uma vírgula."
   ]
  },
  {
   "cell_type": "code",
   "execution_count": null,
   "metadata": {
    "collapsed": true
   },
   "outputs": [],
   "source": [
    "print('o valor de a é', a)"
   ]
  },
  {
   "cell_type": "markdown",
   "metadata": {},
   "source": [
    "Uma variável pode ser elevada a uma potência utilizando `**` \n",
    "(um acento circunflexo `^` não funciona, apesar de ser utilizado noutras linguagens)."
   ]
  },
  {
   "cell_type": "code",
   "execution_count": null,
   "metadata": {
    "collapsed": true
   },
   "outputs": [],
   "source": [
    "a ** b"
   ]
  },
  {
   "cell_type": "markdown",
   "metadata": {},
   "source": [
    "### <a name=\"ex1\"></a> Exercício 1. Calcule o valor do polinómio \n",
    "Calcule o valor do polinómio $y=ax^2+bx+c$ em que $x=-2$, $x=0$, e $x=2$ usando $a=1$, $b=1$, $c=-6$."
   ]
  },
  {
   "cell_type": "code",
   "execution_count": null,
   "metadata": {
    "collapsed": true
   },
   "outputs": [],
   "source": []
  },
  {
   "cell_type": "markdown",
   "metadata": {},
   "source": [
    "<a href=\"#ex1answer\">Solução do Exercício 1</a>"
   ]
  },
  {
   "cell_type": "markdown",
   "metadata": {},
   "source": [
    "### Divisão\n",
    "A divisão funciona da mesma forma."
   ]
  },
  {
   "cell_type": "code",
   "execution_count": null,
   "metadata": {
    "collapsed": true
   },
   "outputs": [],
   "source": [
    "print('1/3 é igual a', 1 / 3)"
   ]
  },
  {
   "cell_type": "markdown",
   "metadata": {},
   "source": [
    "(Nota para utilizadores de Python 2: `1/3` é igual a zero em Python 2, uma vez que a divisão de dois números inteiros é igual a um número inteiro. Em alternativa, utilize `1.0/3`)."
   ]
  },
  {
   "cell_type": "markdown",
   "metadata": {},
   "source": [
    "### Mais informações sobre variáveis\n",
    "Uma vez criada uma variável numa sessão de Python, esta irá permanecer na memória, para poder também ser utilizada noutras células. Por exemplo, a variável `a`, que foi definida anteriormente neste Notebook, ainda existe. Vai ser `6` a menos que a tenha alterado no Exercício 1."
   ]
  },
  {
   "cell_type": "code",
   "execution_count": null,
   "metadata": {
    "collapsed": true
   },
   "outputs": [],
   "source": [
    "print('a:', a)"
   ]
  },
  {
   "cell_type": "markdown",
   "metadata": {},
   "source": [
    "Enquanto utilizador, pode decidir a ordem pela qual os blocos de código são executados. Por exemplo, `In [6]` significa que esta é a sexta vez que executa um bloco de código. Se alterar esse bloco de código e voltar a executá-lo, obterá o número 7. Se definir a variável `a` no bloco de código 7, substituirá o valor de `a` definido num bloco de código anterior.\n",
    "\n",
    "Os nomes das variáveis podem ter o tamanho que desejar (mas tem de o escrever). Escolher nomes descritivos ajuda a entender o código. Os nomes das variáveis não podem ter espaços nem começar com um número. Além disso, são sensíveis a maiúsculas e minúsculas. Portanto, a variável `avalue` não é igual à variável `Avalue`. O nome da variável pode ser o que quiser, exceto palavras reservadas da linguagem Python. Por exemplo, não é possível criar uma variável `for = 7`, uma vez que `for` é uma palavra reservada. Vai aprender mais palavras reservadas nos nossos materiais de formação e elas aparecerão a verde e a negrito quando as escrever no Notebook."
   ]
  },
  {
   "cell_type": "markdown",
   "metadata": {},
   "source": [
    "### Representação gráfica e o primeiro array\n",
    "A representação gráfica não faz parte do Python normal. Felizmente, existem pacotes que permitem criar gráficos apelativos. Um pacote é uma biblioteca de funções para um determinado conjunto de tarefas. Existem muitos pacotes de Python e vamos utilizar vários. O pacote de gráficos que vamos utilizar chama-se `matplotlib`. Para podermos criar representações gráficas de funções com o `matplotlib` temos de o importar. Vamos aprender várias formas de importar pacotes. Por agora, importamos a parte da representação gráfica do `matplotlib` e chamamos-lhe `plt`. Também executamos um segundo comando que pede ao Python para apresentar todos os gráficos dentro deste Notebook e não numa nova janela (mais informações sobre estes comandos mais à frente)."
   ]
  },
  {
   "cell_type": "code",
   "execution_count": null,
   "metadata": {
    "collapsed": true
   },
   "outputs": [],
   "source": [
    "import matplotlib.pyplot as plt\n",
    "%matplotlib inline"
   ]
  },
  {
   "cell_type": "markdown",
   "metadata": {},
   "source": [
    "Os pacotes só têm de ser importados uma vez numa sessão de Python. Após a importação, qualquer representação gráfica de uma função pode ser executada a partir de qualquer célula de código com o comando `plt.function`. Por exemplo:"
   ]
  },
  {
   "cell_type": "code",
   "execution_count": null,
   "metadata": {
    "collapsed": true
   },
   "outputs": [],
   "source": [
    "plt.plot([1, 2, 3, 2])"
   ]
  },
  {
   "cell_type": "markdown",
   "metadata": {},
   "source": [
    "Vamos representar graficamente $y$ vs $x$ para $x$ a variar entre $-4$ e $4$ no polinómio do exercício acima. Para isso, temos que avaliar $y$ em vários pontos. Uma sequência de valores do mesmo tipo é designada de array, por exemplo, um array de números inteiros ou de números reais (*floats* em inglês). A funcionalidade array está disponível no pacote `numpy`. Vamos importar `numpy` e chamar-lhe `np`. Assim, qualquer função no pacote `numpy` pode ser executada com o comando `np.function`. "
   ]
  },
  {
   "cell_type": "code",
   "execution_count": null,
   "metadata": {
    "collapsed": true
   },
   "outputs": [],
   "source": [
    "import numpy as np"
   ]
  },
  {
   "cell_type": "markdown",
   "metadata": {},
   "source": [
    "Para criar um array `x` que tenha, por exemplo, 5 pontos igualmente espaçados entre  `-4` e `4`, use o comando `linspace`."
   ]
  },
  {
   "cell_type": "code",
   "execution_count": null,
   "metadata": {
    "collapsed": true
   },
   "outputs": [],
   "source": [
    "x = np.linspace(-4, 4, 5)\n",
    "print(x)"
   ]
  },
  {
   "cell_type": "markdown",
   "metadata": {},
   "source": [
    "Na célula acima, `x` é um array de 5 números reais (`-4.` é um número real, `-4` é um número inteiro).\n",
    "Se escrever `np.linspace` e depois abrir parênteses assim:\n",
    "\n",
    "`np.linspace(` \n",
    "\n",
    "e, em seguida, pressionar [shift-tab] vai aparecer uma pequena caixa de ajuda a explicar os argumentos de entrada da função. Se clicar no símbolo +, poderá ver todas as informações sobre a função `linspace`. Clique no x para fechar a caixa de ajuda.\n",
    "\n",
    "Vamos agora representar graficamente $y$ usando 100 valores de $x$ entre\n",
    "$-4$ e $4$."
   ]
  },
  {
   "cell_type": "code",
   "execution_count": null,
   "metadata": {
    "collapsed": true
   },
   "outputs": [],
   "source": [
    "a = 1\n",
    "b = 1\n",
    "c = -6\n",
    "x = np.linspace(-4, 4, 100)\n",
    "y = a * x ** 2 + b * x + c  # Calcule y para todos os valores de x\n",
    "plt.plot(x, y)"
   ]
  },
  {
   "cell_type": "markdown",
   "metadata": {},
   "source": [
    "Tenha em atenção que são calculados *cem valores* de `y` na linha simples `y = a * x ** 2 + b * x + c`. O texto que aparece depois do símbolo `#` é um comentário no código. Qualquer texto na linha depois do `#` é ignorado pelo Python. O Python trata os arrays da mesma forma que trata as variáveis quando executa operações matemáticas. A matemática é simplesmente aplicada a todos os valores no array (e é executada mais depressa do que se fizesse todos os cálculos em separado).\n",
    "\n",
    "Poderá estar a perguntar-se o que significa a instrução `[<matplotlib.lines.Line2D at 0x30990b0>]` (os números no seu dispositivo poderão ser diferentes). Isto, na realidade, é um identificador para a linha que é criada com o último comando no bloco de código (neste caso, `plt.plot(x, y)`). Pode dizer ao Notebook para não apresentar isto no ecrã colocando um ponto e vírgula depois do último comando no bloco de código (para isso, escreva `plot(x, y);`). Mais à frente vamos aprender que também pode ser útil armazenar este identificador numa variável."
   ]
  },
  {
   "cell_type": "markdown",
   "metadata": {},
   "source": [
    "A função `plot` pode ter vários argumentos. Ver as informações de ajuda da função `plot` (escrevendo `plt.plot(` e, em seguida, premindo shift-tab) será extremamente útil. Se escrever `plt.plot?`, verá uma nova janela secundária na parte inferior do notebook, onde poderá ver informações sobre a função `plot`. Clique no x no canto superior direito para voltar a fechar a janela secundária."
   ]
  },
  {
   "cell_type": "markdown",
   "metadata": {},
   "source": [
    "Resumindo, `plot` pode ser usado com um argumento como `plot(y)`, que representa graficamente os valores de `y` ao longo do eixo vertical e enumera o eixo horizontal a partir de 0. A função `plot(x, y)` cria uma representação gráfica de `y` vs `x`. E a função `plot(x, y, formatstring)` representa graficamente `y` vs `x` usando cores e marcadores definidos em `formatstring`, que pode ser muitas coisas. Pode ser usado para definir a cor, por exemplo `'b'` para azul (*blue*), `'r'` para vermelho (*red*) e `'g'` para verde (*green*). Ou pode ser usado para definir o tipo de linha: `'-'` para uma linha contínua, `'--'` para tracejado, `':'` para pontilhado. Ou ainda para definir marcadores, por exemplo `'o'` para círculos e `'s'` para quadrados (*squares*). Pode, inclusive, combiná-los: `'r--'` representa uma linha tracejada vermelha, enquanto `'go'` representa marcadores redondos verdes."
   ]
  },
  {
   "cell_type": "markdown",
   "metadata": {},
   "source": [
    "Caso não seja suficiente, `plot` aceita um grande número de argumentos de palavra-chave. Um argumento de palavra-chave (*keyword argument* em inglês) é um argumento opcional que pode ser adicionado a uma função. A sintaxe é `function(keyword1=value1, keyword2=value2)`, etc. Por exemplo, para representar uma linha com largura 6 (a predefinição é 1; tome também atenção à utilização de ponto e vírgula no final)."
   ]
  },
  {
   "cell_type": "code",
   "execution_count": null,
   "metadata": {
    "collapsed": true
   },
   "outputs": [],
   "source": [
    "plt.plot([1, 2, 3], [2, 4, 3], linewidth=6);"
   ]
  },
  {
   "cell_type": "markdown",
   "metadata": {},
   "source": [
    "Os argumentos de palavra-chave devem ser colocados depois dos argumentos normais. Escrever `plot(linewidth=6, [1, 2, 3], [2, 4, 3])` dá erro."
   ]
  },
  {
   "cell_type": "markdown",
   "metadata": {},
   "source": [
    "Poderá adicionar etiquetas ao longo dos eixos com as funções `xlabel` e `ylabel`, por exemplo, `plt.xlabel('este é o eixo dos xx')`. Note que ambas as funções aceitam cadeias de carateres (*string* em inglês) como argumento. É possível adicionar um título à figura com o comando `plt.title`. É possível também adicionar várias curvas à mesma figura através de vários comandos de representação gráfica. Estas são adicionadas automaticamente à mesma figura."
   ]
  },
  {
   "cell_type": "markdown",
   "metadata": {},
   "source": [
    "### <a name=\"ex2\"></a> Exercício 2. O primeiro gráfico\n",
    "Represente graficamente $y=(x+2)(x-1)(x-2)$ para valores de $x$ a variar entre $-3$ e $3$, usando uma linha tracejada vermelha. Na mesma figura, represente um círculo azul para todo o ponto em que $y$ é igual a zero. Defina o tamanho dos marcadores para 10 (pode ser necessário ler as informações de ajuda de `plt.plot` para saber como se faz). Identifique os eixos como 'eixo dos xx' e 'eixo dos yy'. Adicione o título “Primeira figura em Python de *Seu Nome*”, onde coloca o seu nome."
   ]
  },
  {
   "cell_type": "code",
   "execution_count": null,
   "metadata": {
    "collapsed": true
   },
   "outputs": [],
   "source": []
  },
  {
   "cell_type": "markdown",
   "metadata": {},
   "source": [
    "<a href=\"#ex2answer\">Solução do Exercício 2</a>"
   ]
  },
  {
   "cell_type": "markdown",
   "metadata": {},
   "source": [
    "### Carregamento de ficheiros de dados\n",
    "\n",
    "Os dados numéricos podem ser carregados a partir de um ficheiro de dados usando a função `loadtxt` do pacote `numpy`; ou seja, o comando é `np.loadtxt`. Tem de se certificar de que o ficheiro está no mesmo diretório que o seu notebook, ou tem de fornecer o caminho completo. O nome do ficheiro (ou o caminho mais o nome do ficheiro) tem de estar entre aspas."
   ]
  },
  {
   "cell_type": "markdown",
   "metadata": {},
   "source": [
    "### <a name=\"ex3\"></a> Exercício 3. Carregar dados e adicionar uma legenda\n",
    "Para este exercício são-lhe facultados ficheiros de dados que contêm a temperatura média mensal da Holanda, de Nova Iorque e de Pequim. Os dados da Holanda são armazenados no ficheiro `holland_temperature.dat` e os nomes dos outros ficheiros são semelhantes. Num único gráfico, represente a temperatura de cada localização para cada mês, identificando os meses com números (começando no 1 para janeiro). Adicione uma legenda com a função `plt.legend(['line1','line2'])`, etc., mas com nomes mais descritivos. Saiba mais informações sobre o comando `legend` usando `plt.legend?`. Coloque a legenda num local adequado (deverá ficar bem no canto superior esquerdo, mas também pode deixar que seja o Python a colocar na posição mais adequada)."
   ]
  },
  {
   "cell_type": "code",
   "execution_count": null,
   "metadata": {
    "collapsed": true
   },
   "outputs": [],
   "source": []
  },
  {
   "cell_type": "markdown",
   "metadata": {},
   "source": [
    "<a href=\"#ex3answer\">Solução do Exercício 3</a>"
   ]
  },
  {
   "cell_type": "markdown",
   "metadata": {},
   "source": [
    "### <a name=\"ex4\"></a> Exercício 4. Subgráficos e etiquetas elegantes\n",
    "Carregue os ficheiros de dados com a média mensal da temperatura ambiente e da temperatura da água do mar na Holanda (`holland_temperature.dat` e `holland_seawater.dat`). Crie uma representação gráfica com dois gráficos acima um do outro usando o comando de subgráficos (use `plt.subplot?`). No gráfico de cima, represente a temperatura ambiente e a da água do mar. Identifique as etiquetas no eixo horizontal, como 'jan', 'fev', 'mar', etc., em vez de 0, 1, 2, etc. Use `plt.xticks?` para perceber como se faz. No gráfico de baixo, represente a diferença entre a temperatura ambiente e a da água do mar. Adicione legendas, etiquetas para ambos os eixos e tudo o resto."
   ]
  },
  {
   "cell_type": "code",
   "execution_count": null,
   "metadata": {
    "collapsed": true
   },
   "outputs": [],
   "source": []
  },
  {
   "cell_type": "markdown",
   "metadata": {},
   "source": [
    "<a href=\"#ex4answer\">Solução do Exercício 4</a>"
   ]
  },
  {
   "cell_type": "markdown",
   "metadata": {},
   "source": [
    "### Cores\n",
    "Há quatro formas diferentes de especificar as cores ao criar gráficos com o matplotlib. Pode saber mais [aqui](http://matplotlib.org/examples/pylab_examples/color_demo.html). Uma forma útil é usar os nomes das cores em html. Os códigos html podem ser encontrados, por exemplo, [aqui](http://en.wikipedia.org/wiki/Web_colors). Mas a forma mais interessante é provavelmente usar os nomes `xkcd`, que precisam de ser antecedidos por `xkcd:`. A lista dos nomes das cores `xkcd` é apresentada em [xkcd](https://xkcd.com/color/rgb/) e inclui tons populares, como '*baby puke green*' e alguns tons de castanho a variar entre ´*poo*´, ´*poop brown*´ e ´*baby poop brown*´. Experimente:"
   ]
  },
  {
   "cell_type": "code",
   "execution_count": null,
   "metadata": {
    "collapsed": true
   },
   "outputs": [],
   "source": [
    "plt.plot([1, 2, 3], [4, 5, 2], 'xkcd:baby puke green')"
   ]
  },
  {
   "cell_type": "markdown",
   "metadata": {},
   "source": [
    "### Galeria de gráficos\n",
    "O pacote `matplotlib` permite-lhe criar gráficos muito elegantes. Consulte a galeria matplotlib <A href=\"http://matplotlib.org/gallery.html\"  target=_blank>matplotlib gallery</A> para obter uma visão global de muitas das opções. Os exercícios que se seguem usam várias das opções do matplotlib.\n",
    "\n",
    "### <a name=\"ex5\"></a> Exercício 5. Gráfico circular\n",
    "Nos Jogos Olímpicos de Londres de 2012, os 10 países que receberam mais medalhas de ouro (e os restantes países) foram: `['USA', 'CHN', 'GBR', 'RUS', 'KOR', 'GER', 'FRA', 'ITA', 'HUN', 'AUS', 'OUTROS']`. Receberam `[46, 38, 29, 24, 13, 11, 11, 8, 8, 7, 107]` medalhas de ouro, respetivamente. Faça um gráfico circular (use `plt.pie?` ou procure os gráficos circulares na galeria matplotlib) dos 10 principais vencedores de medalhas de ouro e os restantes países nos Jogos Olímpicos de Londres. Experimente alguns dos argumentos de palavra-chave para criar uma representação gráfica apelativa. Poderá querer utilizar o comando `plt.axis('equal')` para que as escalas ao longo dos eixos horizontal e vertical sejam iguais, de forma a que o gráfico se pareça mesmo com um círculo e não com uma elipse. Use a palavra-chave `colors` no gráfico circular para especificar uma sequência de cores. A sequência deverá estar entre parênteses retos, cada cor deverá estar entre aspas respeitando o uso de maiúsculas e minúsculas e devem estar separadas por vírgulas, `['MediumBlue','SpringGreen','BlueViolet']`; a sequência é repetida se não for suficiente."
   ]
  },
  {
   "cell_type": "code",
   "execution_count": null,
   "metadata": {
    "collapsed": true
   },
   "outputs": [],
   "source": []
  },
  {
   "cell_type": "markdown",
   "metadata": {},
   "source": [
    "<a href=\"#ex5answer\">Solução do Exercício 5</a>"
   ]
  },
  {
   "cell_type": "markdown",
   "metadata": {},
   "source": [
    "### <a name=\"ex6\"></a> Exercício 6. Preenchimento\n",
    "Carregue o ficheiro de dados com a temperatura ambiente e a da água do mar, como fez no Exercício 4, mas desta vez represente a temperatura vs o número do mês, e use o comando `plt.fill_between` para preencher o espaço entre a curva e o eixo dos xx. Especifique a palavra-chave `alpha`, que define a transparência. Experimente vários valores até atingir um bom valor para alpha (mantenha-se entre 0 e 1). Tenha em atenção que precisa de especificar a cor usando o argumento de palavra-passe `color`."
   ]
  },
  {
   "cell_type": "code",
   "execution_count": null,
   "metadata": {
    "collapsed": true
   },
   "outputs": [],
   "source": []
  },
  {
   "cell_type": "markdown",
   "metadata": {},
   "source": [
    "<a href=\"#ex6answer\">Solução do Exercício 6</a>"
   ]
  },
  {
   "cell_type": "markdown",
   "metadata": {},
   "source": [
    "### Soluções dos exercícios"
   ]
  },
  {
   "cell_type": "markdown",
   "metadata": {},
   "source": [
    "<a name=\"ex1answer\">Solução do Exercício 1</a>"
   ]
  },
  {
   "cell_type": "code",
   "execution_count": null,
   "metadata": {
    "collapsed": true
   },
   "outputs": [],
   "source": [
    "a = 1\n",
    "b = 1\n",
    "c = -6\n",
    "x = -2\n",
    "y = a * x ** 2 + b * x + c\n",
    "print('y calculado no ponto x=-2 é igual a', y)\n",
    "x = 0 \n",
    "y = a * x ** 2 + b * x + c\n",
    "print('y calculado no ponto x=0 é igual a', y)\n",
    "x = 2\n",
    "y = a * x ** 2 + b * x + c\n",
    "print('y calculado no ponto x=2 é igual a', y)"
   ]
  },
  {
   "cell_type": "markdown",
   "metadata": {},
   "source": [
    "<a href=\"#ex1\">Voltar ao Exercício 1</a>\n",
    "\n",
    "<a name=\"ex2answer\">Solução do Exercício 2</a>"
   ]
  },
  {
   "cell_type": "code",
   "execution_count": null,
   "metadata": {
    "collapsed": true
   },
   "outputs": [],
   "source": [
    "x = np.linspace(-3, 3, 100)\n",
    "y = (x + 2) * (x - 1) * (x - 2)\n",
    "plt.plot(x, y, 'r--')\n",
    "plt.plot([-2, 1, 2], [0, 0, 0], 'bo', markersize=10)\n",
    "plt.xlabel('eixo dos xx')\n",
    "plt.ylabel('eixo dos yy')\n",
    "plt.title('Primeira figura em Python de Mark Bakker');"
   ]
  },
  {
   "cell_type": "markdown",
   "metadata": {},
   "source": [
    "<a href=\"#ex2\">Voltar ao Exercício 2</a>\n",
    "\n",
    "<a name=\"ex3answer\">Solução do Exercício 3</a>"
   ]
  },
  {
   "cell_type": "code",
   "execution_count": null,
   "metadata": {
    "collapsed": true
   },
   "outputs": [],
   "source": [
    "holland = np.loadtxt('holland_temperature.dat')\n",
    "newyork= np.loadtxt('newyork_temperature.dat')\n",
    "beijing = np.loadtxt('beijing_temperature.dat')\n",
    "plt.plot(np.linspace(1, 12, 12), holland)\n",
    "plt.plot(np.linspace(1, 12, 12), newyork)\n",
    "plt.plot(np.linspace(1, 12, 12), beijing)\n",
    "plt.xlabel('Número do mês')\n",
    "plt.ylabel('Temperatura média mensal (Celcius)')\n",
    "plt.xlim(1, 12)\n",
    "plt.legend(['Holland','New York','Beijing'], loc='best');"
   ]
  },
  {
   "cell_type": "markdown",
   "metadata": {},
   "source": [
    "<a href=\"#ex3\">Voltar ao Exercício 3</a>\n",
    "\n",
    "<a name=\"ex4answer\">Solução do Exercício 4</a>"
   ]
  },
  {
   "cell_type": "code",
   "execution_count": null,
   "metadata": {
    "collapsed": true
   },
   "outputs": [],
   "source": [
    "air = np.loadtxt('holland_temperature.dat') \n",
    "sea = np.loadtxt('holland_seawater.dat')\n",
    "plt.subplot(211)\n",
    "plt.plot(air, 'b', label='temp. ar')\n",
    "plt.plot(sea, 'r', label='temp. mar')\n",
    "plt.legend(loc='best')\n",
    "plt.ylabel('temp (Celcius)')\n",
    "plt.xlim(0, 11)\n",
    "plt.xticks([])\n",
    "plt.subplot(212)\n",
    "plt.plot(air-sea, 'ko')\n",
    "plt.xticks(np.linspace(0, 11, 12),\n",
    "           ['jan','fev','mar','abr','maio','jun','jul','ago','set','out','nov','dez'])\n",
    "plt.xlim(0, 11)\n",
    "plt.ylabel('ar - temp. mar (Celcius)');"
   ]
  },
  {
   "cell_type": "markdown",
   "metadata": {},
   "source": [
    "<a href=\"#ex4\">Voltar ao Exercício 4</a>\n",
    "\n",
    "<a name=\"ex5answer\">Solução do Exercício 5</a>"
   ]
  },
  {
   "cell_type": "code",
   "execution_count": null,
   "metadata": {
    "collapsed": true
   },
   "outputs": [],
   "source": [
    "gold = [46, 38, 29, 24, 13, 11, 11, 8, 8, 7, 107]\n",
    "countries = ['USA', 'CHN', 'GBR', 'RUS', 'KOR', 'GER', 'FRA', 'ITA', 'HUN', 'AUS', 'OUTROS']\n",
    "plt.pie(gold, labels = countries, colors = ['Gold', 'MediumBlue', 'SpringGreen', 'BlueViolet'])\n",
    "plt.axis('equal');"
   ]
  },
  {
   "cell_type": "markdown",
   "metadata": {},
   "source": [
    "<a href=\"#ex5\">Voltar ao Exercício 5</a>\n",
    "\n",
    "<a name=\"ex6answer\">Solução do Exercício 6</a>"
   ]
  },
  {
   "cell_type": "code",
   "execution_count": null,
   "metadata": {
    "collapsed": true
   },
   "outputs": [],
   "source": [
    "air = np.loadtxt('holland_temperature.dat') \n",
    "sea = np.loadtxt('holland_seawater.dat')\n",
    "plt.fill_between(range(1, 13), air, color='b', alpha=0.3)\n",
    "plt.fill_between(range(1, 13), sea, color='r', alpha=0.3)\n",
    "plt.xticks(np.linspace(0, 11, 12), ['jan', 'fev', 'mar', 'abr',\\\n",
    "           'maio', 'jun', 'jul', 'ago', 'set', ' out', 'nov', 'dez'])\n",
    "plt.xlim(1, 12)\n",
    "plt.ylim(0, 20)\n",
    "plt.xlabel('Mês')\n",
    "plt.ylabel('Temperatura (Celcius)');"
   ]
  },
  {
   "cell_type": "markdown",
   "metadata": {},
   "source": [
    "<a href=\"#ex6\">Voltar ao Exercício 6</a>"
   ]
  },
  {
   "cell_type": "markdown",
   "metadata": {},
   "source": [
    "A obra \"Notebook 1: Noções básicas e representação gráfica\" é um derivado de [Notebook 1: Basics and Plotting](http://nbviewer.jupyter.org/github/mbakker7/exploratory_computing_with_python/blob/master/notebook1_basics_plotting/py_exploratory_comp_1_sol.ipynb) de [mbakker7](https://github.com/mbakker7), sob a [licença CC BY (4.0 Licença Internacional)](https://creativecommons.org/licenses/by/4.0/deed.pt).\n",
    "\"Notebook 1: Noções básicas e representação gráfica\" é publicado sob a [licença CC BY (4.0 Licença Internacional)](https://creativecommons.org/licenses/by/4.0/deed.pt) por Educa2030."
   ]
  }
 ],
 "metadata": {
  "anaconda-cloud": {},
  "kernelspec": {
   "display_name": "Python 3",
   "language": "python",
   "name": "python3"
  },
  "language_info": {
   "codemirror_mode": {
    "name": "ipython",
    "version": 3
   },
   "file_extension": ".py",
   "mimetype": "text/x-python",
   "name": "python",
   "nbconvert_exporter": "python",
   "pygments_lexer": "ipython3",
   "version": "3.6.3"
  }
 },
 "nbformat": 4,
 "nbformat_minor": 1
}
