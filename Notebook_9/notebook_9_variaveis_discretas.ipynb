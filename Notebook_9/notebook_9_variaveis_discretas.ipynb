{
 "cells": [
  {
   "cell_type": "markdown",
   "metadata": {},
   "source": [
    "## Notebook 9: Variáveis aleatórias discretas\n",
    "Neste Notebook, irá aprender a lidar com variáveis aleatórias discretas. Muitas das funções que vamos utilizar estão incluídas no subpacote `random` do pacote `numpy`. Vamos importar este pacote e chamar-lhe `rnd` para não termos de estar sempre a escrever `np.random`."
   ]
  },
  {
   "cell_type": "code",
   "execution_count": null,
   "metadata": {
    "collapsed": true
   },
   "outputs": [],
   "source": [
    "import numpy as np\n",
    "import matplotlib.pyplot as plt\n",
    "import numpy.random as rnd\n",
    "%matplotlib inline"
   ]
  },
  {
   "cell_type": "markdown",
   "metadata": {},
   "source": [
    "### Números aleatórios\n",
    "Um gerador de números aleatórios permite-lhe retirar, aleatoriamente, um número de uma distribuição em específico. Estão incluídos vários geradores de números aleatórios no subpacote `random` do pacote `numpy`. Por exemplo, a função `randint(low, high, size)` devolve aleatoriamente um array de números inteiros com a forma `size` do valor `low` ao valor `high` (não inclusive). Por exemplo, vamos atirar uma moeda ao ar 10 vezes e atribuir 0 à cara e 1 à coroa. Note que o valor `high` está especificado como `1 + 1`, o que significa que é superior em `1` ao valor que pretendemos."
   ]
  },
  {
   "cell_type": "code",
   "execution_count": null,
   "metadata": {},
   "outputs": [],
   "source": [
    "rnd.randint(0, 1 + 1, 10)"
   ]
  },
  {
   "cell_type": "markdown",
   "metadata": {},
   "source": [
    "Se voltarmos a executar a função `rand_int`, obtemos uma sequência diferente de caras (zeros) e coroas (uns):"
   ]
  },
  {
   "cell_type": "code",
   "execution_count": null,
   "metadata": {},
   "outputs": [],
   "source": [
    "rnd.randint(0, 1 + 1, 10)"
   ]
  },
  {
   "cell_type": "markdown",
   "metadata": {},
   "source": [
    "Internamente, o gerador de números aleatórios começa com aquilo que designamos de *seed*. O seed é um número e é gerado automaticamente (e supostamente de forma aleatória) quando executa o gerador de números aleatórios. O valor do *seed* define com exatidão a sequência de números aleatórios obtidos (por isso, algumas pessoas poderão referir que a sequência gerada é, na melhor das hipóteses, pseudoaleatória e poderá não querer utilizar a sequência para casos criptográficos importantes; mas, para o nosso objetivo, consideramo-la aleatória o suficiente). Por exemplo, vamos definir que o `seed` é igual a 10:"
   ]
  },
  {
   "cell_type": "code",
   "execution_count": null,
   "metadata": {},
   "outputs": [],
   "source": [
    "rnd.seed(10)\n",
    "rnd.randint(0, 1 + 1, 10)"
   ]
  },
  {
   "cell_type": "markdown",
   "metadata": {},
   "source": [
    "Se agora voltarmos a especificar o seed como 10, podemos gerar exatamente a mesma sequência:"
   ]
  },
  {
   "cell_type": "code",
   "execution_count": null,
   "metadata": {},
   "outputs": [],
   "source": [
    "rnd.seed(10)\n",
    "rnd.randint(0, 1 + 1, 10)"
   ]
  },
  {
   "cell_type": "markdown",
   "metadata": {},
   "source": [
    "A capacidade de gerar exatamente a mesma sequência é útil durante o desenvolvimento do código. Por exemplo, ao alimentar o gerador de números aleatórios, pode comparar o seu resultado ao resultado de terceiros que tentam resolver o mesmo problema."
   ]
  },
  {
   "cell_type": "markdown",
   "metadata": {},
   "source": [
    "### Atirar uma moeda ao ar\n",
    "Por agora, chega de geradores de números aleatórios. Vamos atirar uma moeda ao ar 100 vezes e contar o número de vezes que sai cara (0's) e o número de vezes que sai coroa (1's):"
   ]
  },
  {
   "cell_type": "code",
   "execution_count": null,
   "metadata": {},
   "outputs": [],
   "source": [
    "flip = rnd.randint(0, 1 + 1, 100)\n",
    "headcount = 0\n",
    "tailcount = 0\n",
    "for i in range(100):\n",
    "    if flip[i] == 0:\n",
    "        headcount += 1\n",
    "    else:\n",
    "        tailcount += 1\n",
    "print('número de caras:', headcount)\n",
    "print('número de coroas:', tailcount)"
   ]
  },
  {
   "cell_type": "markdown",
   "metadata": {},
   "source": [
    "Em primeiro lugar, note que a soma do número de caras e de coroas é 100. Igualmente, note como contámos as caras e as coroas. Criámos enumeradores `headcount` e `tailcount`, executados em ciclos de cada vez que a moeda é atirada, e adicionámos 1 ao enumerador adequado. Em vez de um ciclo, poderíamos ter usado uma condição para os índices combinados com um somatório, conforme indicado abaixo:"
   ]
  },
  {
   "cell_type": "code",
   "execution_count": null,
   "metadata": {},
   "outputs": [],
   "source": [
    "headcount = np.count_nonzero(flip == 0)\n",
    "tailcount = np.count_nonzero(flip == 1)\n",
    "print('número de caras:', headcount)\n",
    "print('número de coroas:', tailcount)"
   ]
  },
  {
   "cell_type": "markdown",
   "metadata": {},
   "source": [
    "Como é que isso funciona? Poderá lembrar-se de que a instrução `flip == 0` devolve um array com comprimento 100 (igual ao comprimento de `flip`) com o valor `True` quando a condição é cumprida e `False` quando a condição não é cumprida. O booleano `True` tem o valor de 1 e o booleano `False` tem o valor de 0. Assim, basta contarmos os valores diferentes de zero com a função `np.count_nonzero` para sabermos quantos itens são `True`.\n",
    "\n",
    "O código acima é simples, mas, se fizer uma experiência com mais de dois resultados, poderá ser moroso contar os valores diferentes de zero para cada possível resultado. Assim, vamos tentar reescrever esta parte do código utilizando um ciclo. Para este caso em específico, o número de linhas do código não diminui, mas, quando temos uma experiência com vários resultados diferentes, será muito mais eficiente. Note que `dtype='int'` define que o array é composto por números inteiros."
   ]
  },
  {
   "cell_type": "code",
   "execution_count": null,
   "metadata": {},
   "outputs": [],
   "source": [
    "outcomes = np.zeros(2, dtype='int') # Dois resultados; caras é o outcome[0] e coroas é o outcome[1]\n",
    "for i in range (2):\n",
    "    outcomes[i] = np.count_nonzero(flip == i)\n",
    "    print('outcome ', i, ' é ', outcomes[i])"
   ]
  },
  {
   "cell_type": "markdown",
   "metadata": {},
   "source": [
    "### <a name=\"back1\"></a>Exercício 1. Lançar um dado\n",
    "Lance um dado 100 vezes e registe o número de vezes em que saiu 1, 2, 3, 4, 5 e 6. Use um *seed* de 33. Certifique-se de que a soma dos valores registados é 100. Certifique-se de que utiliza um ciclo no código, conforme fizemos na célula de código anterior."
   ]
  },
  {
   "cell_type": "code",
   "execution_count": null,
   "metadata": {
    "collapsed": true
   },
   "outputs": [],
   "source": []
  },
  {
   "cell_type": "markdown",
   "metadata": {},
   "source": [
    "<a href=\"#ex1answer\">Soluções do Exercício 1</a>"
   ]
  },
  {
   "cell_type": "markdown",
   "metadata": {},
   "source": [
    "### Atirar uma moeda ao ar duas vezes\n",
    "Em seguida, vamos atirar a moeda ao ar duas vezes e fazer 100 lançamentos para contarmos o número de vezes que sai coroa. Geramos um array aleatório de zeros (caras) e uns (coroas) com duas linhas (porque cada lançamento corresponde a atirar a moeda ao ar duas vezes) e 100 colunas. A soma das duas linhas representa o número de coroas. A função `np.sum` assume um array e, por predefinição, soma todos os valores no array e devolve um número. Neste caso, queremos somar as linhas. Para tal, a função `sum` tem um argumento de palavra-chave designado `axis`, em que `axis=0` soma o índice 0 do array (as linhas), `axis=1` soma o índice 1 do array (as colunas), etc."
   ]
  },
  {
   "cell_type": "code",
   "execution_count": null,
   "metadata": {},
   "outputs": [],
   "source": [
    "rnd.seed(55)\n",
    "flips = rnd.randint(low=0, high=1 + 1, size=(2, 100))\n",
    "tails = np.sum(flips, axis=0)\n",
    "number_of_tails = np.zeros(3, dtype='int')\n",
    "for i in range(3):\n",
    "    number_of_tails[i] = np.count_nonzero(tails == i)\n",
    "print('número de 0, 1, 2 coroas:', number_of_tails)"
   ]
  },
  {
   "cell_type": "markdown",
   "metadata": {},
   "source": [
    "Outra forma de simular o lançamento de uma moeda duas vezes é retirar um número de forma aleatória de um conjunto de 2 números (0 e 1). Tem de substituir o número a cada lançamento, claro. A função `numpy` para obter um número aleatório de um dado array designa-se `choice`. A função `choice` tem uma palavra-chave para especificar se os valores são ou não substituídos. Assim, os dois métodos seguintes para gerar 5 lançamentos são idênticos."
   ]
  },
  {
   "cell_type": "code",
   "execution_count": null,
   "metadata": {},
   "outputs": [],
   "source": [
    "rnd.seed(55)\n",
    "flips1 = rnd.randint(low=0, high=1 + 1, size=5)\n",
    "rnd.seed(55)\n",
    "flips2 = rnd.choice(range(2), size=5, replace=True)\n",
    "np.alltrue(flips1 == flips2)  # Verifica se todos os valores nos dois arrays são iguais"
   ]
  },
  {
   "cell_type": "markdown",
   "metadata": {},
   "source": [
    "### Gráfico de barras\n",
    "O resultado de uma experiência pode ser apresentado num gráfico de barras."
   ]
  },
  {
   "cell_type": "code",
   "execution_count": null,
   "metadata": {},
   "outputs": [],
   "source": [
    "plt.bar(range(0, 3), number_of_tails)\n",
    "plt.xticks(range(0, 3))\n",
    "plt.xlabel('número de coroas')\n",
    "plt.ylabel('ocorrência em 100 ensaios');"
   ]
  },
  {
   "cell_type": "markdown",
   "metadata": {},
   "source": [
    "### Probabilidade acumulada\n",
    "Em seguida, calculamos a probabilidade experimental de sair 0 coroas, 1 coroa e 2 coroas através da divisão pelo número total de ensaios (um ensaio corresponde a dois lançamentos da moeda). A soma das três probabilidades é 1. A distribuição de probabilidade acumulada é obtida pela soma acumulada das probabilidades através da função `cumsum` do pacote `numpy`. O primeiro valor é a probabilidade de saírem 0 coroas. O segundo valor é a probabilidade de sair 1 ou menos coroas e o terceiro valor é a probabilidade de saírem 2 ou menos coroas. A probabilidade é calculada através da divisão do número de coroas pelo número total de ensaios."
   ]
  },
  {
   "cell_type": "code",
   "execution_count": null,
   "metadata": {},
   "outputs": [],
   "source": [
    "prob = number_of_tails / 100  # number_of_tails foi calculado em células anteriores\n",
    "cum_prob = np.cumsum(prob) # Por isso cum_prob[0] = prob[0], cum_prob[1] = prob[0] + prob[1], etc.\n",
    "print('cum_prob ', cum_prob)"
   ]
  },
  {
   "cell_type": "markdown",
   "metadata": {},
   "source": [
    "A distribuição de probabilidade acumulada é representada num gráfico de barras, assegurando que todas as barras se tocam entre si (ao definir a largura como 1, no caso abaixo)."
   ]
  },
  {
   "cell_type": "code",
   "execution_count": null,
   "metadata": {},
   "outputs": [],
   "source": [
    "plt.bar(range(0, 3), cum_prob, width=1)\n",
    "plt.xticks(range(0, 3))\n",
    "plt.xlabel('número de coroas em dois lançamentos')\n",
    "plt.ylabel('probabilidade acumulada');"
   ]
  },
  {
   "cell_type": "markdown",
   "metadata": {},
   "source": [
    "### <a name=\"back2\"></a>Exercício 2. Atirar uma moeda ao ar cinco vezes\n",
    "Atire uma moeda ao ar cinco vezes seguidas e registe quantas vezes sai coroa (variando de 0 a 5). Repita 1000 vezes. Crie um gráfico de barras com o número total de vezes que saiu coroa no eixo horizontal e, no eixo vertical, a probabilidade empiricamente calculada para obter esse número de coroas. Execute o seu código várias vezes (carregue em [shift]+[enter]) e veja como o gráfico muda ligeiramente de cada vez, uma vez que a sequência de números aleatórios muda."
   ]
  },
  {
   "cell_type": "code",
   "execution_count": null,
   "metadata": {
    "collapsed": true
   },
   "outputs": [],
   "source": []
  },
  {
   "cell_type": "markdown",
   "metadata": {},
   "source": [
    "Calcule a probabilidade acumulada. Represente os valores no ecrã e crie uma representação gráfica da função de probabilidade acumulada através de um gráfico de barras."
   ]
  },
  {
   "cell_type": "code",
   "execution_count": null,
   "metadata": {
    "collapsed": true
   },
   "outputs": [],
   "source": []
  },
  {
   "cell_type": "markdown",
   "metadata": {},
   "source": [
    "<a href=\"#ex2answer\">Soluções do Exercício 2</a>"
   ]
  },
  {
   "cell_type": "markdown",
   "metadata": {},
   "source": [
    "### Probabilidade de uma variável de Bernoulli\n",
    "No exercício anterior, calculámos a probabilidade de sair um determinado número de caras em cinco lançamentos de forma experimental. No entanto, podemos calcular o valor exato com algumas fórmulas simples. Considere a variável aleatória $Y$, que é o resultado de uma experiência com dois possíveis valores: 0 e 1. Permita que $p$ seja a probabilidade de sucesso, $p=P(Y=1)$. Assim, $Y$ será a variável de Bernoulli. A experiência é repetida $n$ vezes e definimos $X$ como o número de sucessos na experiência. A variável $X$ tem uma distribuição binomial com parâmetros $n$ e $p$. A probabilidade de $X$ assumir o valor $k$ pode ser calculada como vemos abaixo (veja, por exemplo, [aqui](http://en.wikipedia.org/wiki/Binomial_distribution))\n",
    "\n",
    "$$P(X=k) = \\binom{n}{k}p^k(1-p)^{n-k}$$\n",
    "\n",
    "O termo $\\binom{n}{k}$ pode ser calculado com a função `comb`, que tem de ser importada do pacote `scipy.misc`."
   ]
  },
  {
   "cell_type": "markdown",
   "metadata": {},
   "source": [
    "### <a name=\"back3\"></a>Exercício 3. Atirar uma moeda ao ar cinco vezes (continuação)\n",
    "Regresse à experiência que envolvia lançar uma moeda cinco vezes seguidas e registe quantas vezes sai coroa. Calcule a probabilidade teórica para 0, 1, 2, 3, 4 e 5 coroas e compare a sua resposta com a probabilidade calculada de 1000 ensaios, 10 000 ensaios e 100 000 ensaios (use um ciclo para estes três conjuntos de ensaios)."
   ]
  },
  {
   "cell_type": "code",
   "execution_count": null,
   "metadata": {
    "collapsed": true
   },
   "outputs": [],
   "source": []
  },
  {
   "cell_type": "markdown",
   "metadata": {},
   "source": [
    "<a href=\"#ex3answer\">Soluções do Exercício 3</a>"
   ]
  },
  {
   "cell_type": "markdown",
   "metadata": {},
   "source": [
    "### <a name=\"back4\"></a>Exercício 4. Valor máximo de dois lançamentos do dado\n",
    "Lance um dado duas vezes e registe o valor máximo dos dois lançamentos. Use a função `np.max` para calcular o valor máximo. Tal como a função `np.sum`, a função `np.max` assume um array como argumento de entrada e tem um argumento de palavra-chave opcional designado `axis`. Repita a experiência 1000 vezes e calcule a probabilidade de o valor mais alto ser 1, 2, 3, 4, 5 ou 6. Crie um gráfico da função de distribuição de probabilidade acumulada através de um gráfico de degraus."
   ]
  },
  {
   "cell_type": "code",
   "execution_count": null,
   "metadata": {
    "collapsed": true
   },
   "outputs": [],
   "source": []
  },
  {
   "cell_type": "markdown",
   "metadata": {},
   "source": [
    "<a href=\"#ex4answer\">Soluções do Exercício 4</a>"
   ]
  },
  {
   "cell_type": "markdown",
   "metadata": {},
   "source": [
    "### <a name=\"back5\"></a>Exercício 5. Valor máximo de dois lançamentos do dado (continuação)\n",
    "Consulte o Exercício 4.\n",
    "Calcule o valor teórico da probabilidade do valor do dado mais alto ao lançar o dado duas vezes (os lançamentos são identificados como T1 e T2, respetivamente). Existem 36 possíveis resultados para esta experiência. Defina $M$\n",
    "como a variável aleatória correspondente a esta experiência (isto significa, por exemplo, que $M=3$ quando o primeiro lançamento é um 2 e o segundo é um 3). Todos os resultados de $M$ podem ser facilmente registados, conforme indicado na tabela seguinte:\n",
    "\n",
    "| T1$\\downarrow$ T2$\\to$ | 1 | 2 | 3 | 4 | 5 | 6 |\n",
    "|-----------:|------------:|:------------:|\n",
    "|  1 | 1 | 2 | 3 | 4 | 5 | 6 |\n",
    "|  2 | 2 | 2 | 3 | 4 | 5 | 6 |\n",
    "|  3 | 3 | 3 | 3 | 4 | 5 | 6 |\n",
    "|  4 | 4 | 4 | 4 | 4 | 5 | 6 |\n",
    "|  5 | 5 | 5 | 5 | 5 | 5 | 6 |\n",
    "|  6 | 6 | 6 | 6 | 6 | 6 | 6 |\n",
    "\n",
    "\n",
    "Use os 36 possíveis resultados apresentados na tabela para calcular a probabilidade teórica de $M$ ser 1, 2, 3, 4, 5 ou 6. Compare o resultado teórico com o resultado experimental para 100, 1000 e 10 000 lançamentos do dado."
   ]
  },
  {
   "cell_type": "code",
   "execution_count": null,
   "metadata": {
    "collapsed": true
   },
   "outputs": [],
   "source": []
  },
  {
   "cell_type": "markdown",
   "metadata": {},
   "source": [
    "<a href=\"#ex5answer\">Soluções do Exercício 5</a>"
   ]
  },
  {
   "cell_type": "markdown",
   "metadata": {},
   "source": [
    "### Gerar números inteiros aleatórios sem probabilidades não-equiprováveis\n",
    "Até agora, gerámos números aleatórios cuja probabilidade de cada resultado foi sempre a mesma (caras ou coroas, ou os números de um dado, considerando que o lançamento do objeto seria “justo”). E se agora quisermos gerar resultados que não têm a mesma probabilidade? Por exemplo, considere o caso em que temos um balde com 4 bolas azuis e 6 bolas vermelhas. Quando retira uma bola aleatoriamente, a probabilidade de ser uma bola azul é de 0,4 e a probabilidade de ser uma bola vermelha é de 0,6. Uma sequência com dez bolas, com substituição, poderá ser gerada da seguinte forma:"
   ]
  },
  {
   "cell_type": "code",
   "execution_count": null,
   "metadata": {},
   "outputs": [],
   "source": [
    "balls = np.zeros(10, dtype='int') # zero é azul\n",
    "balls[4:] = 1  # um é vermelho\n",
    "print('bolas:', balls)\n",
    "drawing = rnd.choice(balls, 10, replace=True)\n",
    "print('extração:', drawing)\n",
    "print('bolas azuis:', np.count_nonzero(drawing == 0))\n",
    "print('bolas vermelhas:', np.count_nonzero(drawing == 1))"
   ]
  },
  {
   "cell_type": "markdown",
   "metadata": {},
   "source": [
    "### <a name=\"back6\"></a>Exercício 6. Previsão de eleições\n",
    "Considere um sufrágio com um milhão de eleitores. 490 000 pessoas vão votar no candidato $A$ e 510 000 vão votar no candidato $B$. Na véspera da eleição, a empresa de Maurice \"The Dog\" efetua uma sondagem com 1000 eleitores escolhidos aleatoriamente. Calcule se a empresa irá prever o vencedor corretamente através da abordagem explicada acima e com um *seed* de 2."
   ]
  },
  {
   "cell_type": "code",
   "execution_count": null,
   "metadata": {
    "collapsed": true
   },
   "outputs": [],
   "source": []
  },
  {
   "cell_type": "markdown",
   "metadata": {},
   "source": [
    "Efetue a sondagem 1000 vezes. Conte o número de vezes em que o resultado da sondagem dá a vitória ao candidato $A$\n",
    "e o número de vezes em que o resultado da sondagem dá a vitória ao candidato $B$. Qual é a probabilidade de a empresa prever o vencedor certo com base nestas 1000 sondagens com 1000 pessoas?"
   ]
  },
  {
   "cell_type": "code",
   "execution_count": null,
   "metadata": {
    "collapsed": true
   },
   "outputs": [],
   "source": []
  },
  {
   "cell_type": "markdown",
   "metadata": {},
   "source": [
    "Calcule a probabilidade de a empresa prever o vencedor certo com base em 1000 sondagens com 5000 pessoas. A probabilidade de a empresa prever o vencedor certo aumenta significativamente ao fazer uma sondagem com 5000 pessoas?"
   ]
  },
  {
   "cell_type": "code",
   "execution_count": null,
   "metadata": {
    "collapsed": true
   },
   "outputs": [],
   "source": []
  },
  {
   "cell_type": "markdown",
   "metadata": {},
   "source": [
    "<a href=\"#ex6answer\">Soluções do Exercício 6</a>"
   ]
  },
  {
   "cell_type": "markdown",
   "metadata": {},
   "source": [
    "### Soluções dos exercícios"
   ]
  },
  {
   "cell_type": "markdown",
   "metadata": {},
   "source": [
    "<a name=\"ex1answer\">Soluções do Exercício 1</a>"
   ]
  },
  {
   "cell_type": "code",
   "execution_count": null,
   "metadata": {},
   "outputs": [],
   "source": [
    "rnd.seed(33)\n",
    "dicethrow = rnd.randint(1, 6 + 1, 100)\n",
    "side = np.zeros(6, dtype='int')\n",
    "for i in range(6):\n",
    "    side[i] = np.count_nonzero(dicethrow == i + 1)\n",
    "    print('número de vezes em que saiu', i + 1, 'é de', side[i])\n",
    "print('número total de lançamentos ', sum(side))"
   ]
  },
  {
   "cell_type": "markdown",
   "metadata": {},
   "source": [
    "<a href=\"#back1\">Voltar ao Exercício 1</a>\n",
    "\n",
    "<a name=\"ex2answer\">Soluções do Exercício 2</a>"
   ]
  },
  {
   "cell_type": "code",
   "execution_count": null,
   "metadata": {},
   "outputs": [],
   "source": [
    "N = 1000\n",
    "tails = np.sum(rnd.randint(0, 1 + 1, (5, 1000)), axis=0)\n",
    "counttails = np.zeros(6, dtype='int')\n",
    "for i in range(6):\n",
    "    counttails[i] = np.count_nonzero(tails == i)\n",
    "plt.bar(range(0, 6), counttails / N)\n",
    "plt.xlabel('número de coroas em cinco lançamentos')\n",
    "plt.ylabel('probabilidade');"
   ]
  },
  {
   "cell_type": "code",
   "execution_count": null,
   "metadata": {},
   "outputs": [],
   "source": [
    "cumprob = np.cumsum(counttails / N)\n",
    "print('cumprob:', cumprob)\n",
    "plt.bar(range(0, 6), cumprob, width=1)\n",
    "plt.xlabel('número de coroas em cinco lançamentos')\n",
    "plt.ylabel('probabilidade acumulada');"
   ]
  },
  {
   "cell_type": "markdown",
   "metadata": {},
   "source": [
    "<a href=\"#back2\">Voltar ao Exercício 2</a>\n",
    "\n",
    "<a name=\"ex3answer\">Soluções do Exercício 3</a>"
   ]
  },
  {
   "cell_type": "code",
   "execution_count": null,
   "metadata": {},
   "outputs": [],
   "source": [
    "from scipy.misc import comb\n",
    "print('Probabilidades teóricas:')\n",
    "for k in range(6):\n",
    "    print(k, ' coroas ', comb(5, k) * 0.5 ** k * 0.5 ** (5 - k))\n",
    "for N in (1000, 10000, 100000):\n",
    "    tails = np.sum(rnd.randint(0, 1 + 1, (5, N)), axis=0)\n",
    "    counttails = np.zeros(6)\n",
    "    for i in range(6):\n",
    "        counttails[i] = np.count_nonzero(tails==i)\n",
    "    print('Probabilidade com', N, 'ensaios: ', counttails / float(N))"
   ]
  },
  {
   "cell_type": "markdown",
   "metadata": {},
   "source": [
    "<a href=\"#back3\">Voltar ao Exercício 3</a>\n",
    "\n",
    "<a name=\"ex4answer\">Soluções do Exercício 4</a>"
   ]
  },
  {
   "cell_type": "code",
   "execution_count": null,
   "metadata": {
    "scrolled": false
   },
   "outputs": [],
   "source": [
    "dice = rnd.randint(1, 6 + 1, (2, 1000))\n",
    "highest_dice = np.max(dice, 0)\n",
    "outcome = np.zeros(6)\n",
    "for i in range(6):\n",
    "    outcome[i] = np.sum(highest_dice == i + 1) / 1000\n",
    "plt.bar(x=np.arange(1, 7), height=outcome, width=1)\n",
    "plt.xlabel('valor máximo do dado nos dois lançamentos')\n",
    "plt.ylabel('probabilidade');"
   ]
  },
  {
   "cell_type": "markdown",
   "metadata": {},
   "source": [
    "<a href=\"#back4\">Voltar ao Exercício 4</a>\n",
    "\n",
    "<a name=\"ex5answer\">Soluções do Exercício 5</a>"
   ]
  },
  {
   "cell_type": "code",
   "execution_count": null,
   "metadata": {},
   "outputs": [],
   "source": [
    "for N in [100, 1000, 10000]:\n",
    "    dice = rnd.randint(1, 6 + 1, (2, N))\n",
    "    highest_dice = np.max(dice, axis=0)\n",
    "    outcome = np.zeros(6)\n",
    "    for i in range(6):\n",
    "        outcome[i] = np.sum(highest_dice == i + 1) / N\n",
    "    print('Outcome para', N, 'lançamentos: ', outcome)\n",
    "# Exact values\n",
    "exact = np.zeros(6)\n",
    "for i, j in enumerate(range(1, 12, 2)):\n",
    "    exact[i] = j / 36\n",
    "print('Probabilidades exatas: ',exact)"
   ]
  },
  {
   "cell_type": "markdown",
   "metadata": {},
   "source": [
    "<a href=\"#back5\">Voltar ao Exercício 5</a>\n",
    "\n",
    "<a name=\"ex6answer\">Soluções do Exercício 6</a>"
   ]
  },
  {
   "cell_type": "code",
   "execution_count": null,
   "metadata": {},
   "outputs": [],
   "source": [
    "rnd.seed(2)\n",
    "people = np.zeros(1000000, dtype='int')  # o candidato A é 0\n",
    "people[490000:] = 1  # o candidato B é 1\n",
    "pole = rnd.choice(people, 1000)\n",
    "poled_for_A = np.count_nonzero(pole == 0)\n",
    "print('votos para A:', poled_for_A)\n",
    "if poled_for_A > 500: \n",
    "    print('The Dog irá prever o vencedor errado')\n",
    "else:\n",
    "    print('The Dog irá prever o vencedor certo')"
   ]
  },
  {
   "cell_type": "code",
   "execution_count": null,
   "metadata": {},
   "outputs": [],
   "source": [
    "Awins = 0\n",
    "Bwins = 0\n",
    "for i in range(1000):\n",
    "    people = np.zeros(1000000, dtype='int')  # o candidato A é 0\n",
    "    people[490000:] = 1  # o candidato B é 1\n",
    "    pole = rnd.choice(people, 1000)\n",
    "    poled_for_A = np.count_nonzero(pole == 0)\n",
    "    if poled_for_A > 500: \n",
    "        Awins += 1\n",
    "    else:\n",
    "        Bwins += 1\n",
    "print('1000 sondagens com 1000 pessoas')\n",
    "print('Probabilidade de que The Dog prevê que o candidato A vença:', Awins / 1000)"
   ]
  },
  {
   "cell_type": "code",
   "execution_count": null,
   "metadata": {},
   "outputs": [],
   "source": [
    "Awins = 0\n",
    "Bwins = 0\n",
    "for i in range(1000):\n",
    "    people = np.zeros(1000000, dtype='int')  # o candidato A é 0\n",
    "    people[490000:] = 1  # o candidato B é 1\n",
    "    pole = rnd.choice(people, 5000)\n",
    "    poled_for_A = np.count_nonzero(pole == 0)\n",
    "    if poled_for_A > 2500: \n",
    "        Awins += 1\n",
    "    else:\n",
    "        Bwins += 1\n",
    "print('1000 sondagens com 5000 pessoas')\n",
    "print('Probabilidade de que The Dog prevê que o candidato A vença:', Awins / 5000)"
   ]
  },
  {
   "cell_type": "markdown",
   "metadata": {},
   "source": [
    "<a href=\"#back6\">Voltar ao Exercício 6</a>"
   ]
  },
  {
   "cell_type": "markdown",
   "metadata": {},
   "source": [
    "A obra \"Notebook 9: Variáveis aleatórias discretas\" é um derivado de [Notebook 9: Discrete random variables](http://nbviewer.jupyter.org/github/mbakker7/exploratory_computing_with_python/blob/master/notebook9_discrete_random_variables/py_exploratory_comp_9_sol.ipynb) de [mbakker7](https://github.com/mbakker7), sob a licença CC BY (4.0 Licença Internacional). \"Notebook 9: Variáveis aleatórias discretas\" é publicado sob a licença CC BY (4.0 Licença Internacional) por Educa2030."
   ]
  }
 ],
 "metadata": {
  "kernelspec": {
   "display_name": "Python 3",
   "language": "python",
   "name": "python3"
  },
  "language_info": {
   "codemirror_mode": {
    "name": "ipython",
    "version": 3
   },
   "file_extension": ".py",
   "mimetype": "text/x-python",
   "name": "python",
   "nbconvert_exporter": "python",
   "pygments_lexer": "ipython3",
   "version": "3.6.3"
  }
 },
 "nbformat": 4,
 "nbformat_minor": 1
}
